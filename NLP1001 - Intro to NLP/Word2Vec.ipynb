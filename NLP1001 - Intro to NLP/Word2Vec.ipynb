{
  "nbformat": 4,
  "nbformat_minor": 0,
  "metadata": {
    "colab": {
      "provenance": [],
      "gpuType": "T4"
    },
    "kernelspec": {
      "name": "python3",
      "display_name": "Python 3"
    },
    "language_info": {
      "name": "python"
    },
    "accelerator": "GPU"
  },
  "cells": [
    {
      "cell_type": "markdown",
      "source": [
        "https://github.com/PyThaiNLP/pythainlp"
      ],
      "metadata": {
        "id": "k6YSZkAmiiW_"
      }
    },
    {
      "cell_type": "markdown",
      "source": [
        "Word2Vec - ยกตัวอย่างเช่น ข้อมูลทางทวิตเตอร์จะเจออะไรในศัพท์ปัจจุบันที่น่าสนใจ เช่น คำว่า เมพ มันจะ return กลับเป็น เทพ กลับมา\n",
        "\n",
        "อีกอย่างคือช่วยแก้คำผิดในลักษณะที่คล้ายๆกัน ทั้งนี้ขึ้นอยู่กับการตัดคำด้วย เช่น ตัดคำผิดๆ เราก็จะไม่ได้คำใหม่ๆ มาใช้งานได้ เลือกตัดคำก็มีผลต่อการทำ Word2Vec มากๆ"
      ],
      "metadata": {
        "id": "b3PhmdYbixDw"
      }
    },
    {
      "cell_type": "code",
      "execution_count": 1,
      "metadata": {
        "colab": {
          "base_uri": "https://localhost:8080/"
        },
        "id": "QpJ4QiXOh-SW",
        "outputId": "13042c3e-8271-42fe-b32f-793c0e71ce79"
      },
      "outputs": [
        {
          "output_type": "stream",
          "name": "stdout",
          "text": [
            "--2024-07-25 16:09:45--  https://www.dropbox.com/s/fsxepdka4l2pr45/prachathai-67k.zip\n",
            "Resolving www.dropbox.com (www.dropbox.com)... 162.125.81.18, 2620:100:6031:18::a27d:5112\n",
            "Connecting to www.dropbox.com (www.dropbox.com)|162.125.81.18|:443... connected.\n",
            "HTTP request sent, awaiting response... 302 Found\n",
            "Location: https://www.dropbox.com/scl/fi/capkb6kfx0cwr6ixgb1k9/prachathai-67k.zip?rlkey=2r9f46xwqvons8nu50r41w9ln [following]\n",
            "--2024-07-25 16:09:46--  https://www.dropbox.com/scl/fi/capkb6kfx0cwr6ixgb1k9/prachathai-67k.zip?rlkey=2r9f46xwqvons8nu50r41w9ln\n",
            "Reusing existing connection to www.dropbox.com:443.\n",
            "HTTP request sent, awaiting response... 302 Found\n",
            "Location: https://uce159ca2f26e6e088ff36c673a8.dl.dropboxusercontent.com/cd/0/inline/CXb12otmAjqmPhFF4ROkVoQnLZsSWLxzovB0qb-lSlSaC5eiW9eT5W3z2nuAEAHLC-Z-MMpy1pWEtdhHCsIhK1jAunqW9HV5mLAPBVcSLpbDQUcYGrWViXHRGcPLsvJfIO0/file# [following]\n",
            "--2024-07-25 16:09:46--  https://uce159ca2f26e6e088ff36c673a8.dl.dropboxusercontent.com/cd/0/inline/CXb12otmAjqmPhFF4ROkVoQnLZsSWLxzovB0qb-lSlSaC5eiW9eT5W3z2nuAEAHLC-Z-MMpy1pWEtdhHCsIhK1jAunqW9HV5mLAPBVcSLpbDQUcYGrWViXHRGcPLsvJfIO0/file\n",
            "Resolving uce159ca2f26e6e088ff36c673a8.dl.dropboxusercontent.com (uce159ca2f26e6e088ff36c673a8.dl.dropboxusercontent.com)... 162.125.81.15, 2620:100:6031:15::a27d:510f\n",
            "Connecting to uce159ca2f26e6e088ff36c673a8.dl.dropboxusercontent.com (uce159ca2f26e6e088ff36c673a8.dl.dropboxusercontent.com)|162.125.81.15|:443... connected.\n",
            "HTTP request sent, awaiting response... 302 Found\n",
            "Location: /cd/0/inline2/CXY3COtptoLJwOlIioS5a279dUEIu_T1lWuTIQEYvaQa1FuRUtOZGM42eNXhSzBHYJrnARbt1oxux0-5elejcYYwcIIYCmB-C_QAs3er-wrc1j8bLAaPXfups_7lXeSEfAqM7AIEtWBTMIp3TLBHekjGtiWb2Jf0p8gDX9bln0r1vK2x4OYgSxhpZF3RPcFdvDIZ-DANqx85VUpy8vl2d81fekwQTNl41i06t3CXCNMBwIiUWS2AV94AOl-STBaRIJq-8Q5RJLuBZ_pfyjYYDTF0tYus62_OH92BtLvhBrzqQNuQU8mx1sQFKwZtAtgfmZscVrRy_z6rr3W56CN36uDQYkoKBK6ZCuSOXyCOscXYsg/file [following]\n",
            "--2024-07-25 16:09:47--  https://uce159ca2f26e6e088ff36c673a8.dl.dropboxusercontent.com/cd/0/inline2/CXY3COtptoLJwOlIioS5a279dUEIu_T1lWuTIQEYvaQa1FuRUtOZGM42eNXhSzBHYJrnARbt1oxux0-5elejcYYwcIIYCmB-C_QAs3er-wrc1j8bLAaPXfups_7lXeSEfAqM7AIEtWBTMIp3TLBHekjGtiWb2Jf0p8gDX9bln0r1vK2x4OYgSxhpZF3RPcFdvDIZ-DANqx85VUpy8vl2d81fekwQTNl41i06t3CXCNMBwIiUWS2AV94AOl-STBaRIJq-8Q5RJLuBZ_pfyjYYDTF0tYus62_OH92BtLvhBrzqQNuQU8mx1sQFKwZtAtgfmZscVrRy_z6rr3W56CN36uDQYkoKBK6ZCuSOXyCOscXYsg/file\n",
            "Reusing existing connection to uce159ca2f26e6e088ff36c673a8.dl.dropboxusercontent.com:443.\n",
            "HTTP request sent, awaiting response... 200 OK\n",
            "Length: 184222452 (176M) [application/zip]\n",
            "Saving to: ‘prachathai-67k.zip’\n",
            "\n",
            "prachathai-67k.zip  100%[===================>] 175.69M  22.8MB/s    in 7.8s    \n",
            "\n",
            "2024-07-25 16:09:55 (22.5 MB/s) - ‘prachathai-67k.zip’ saved [184222452/184222452]\n",
            "\n",
            "Archive:  prachathai-67k.zip\n",
            "  inflating: prachathai-67k.csv      \n"
          ]
        }
      ],
      "source": [
        "!wget https://www.dropbox.com/s/fsxepdka4l2pr45/prachathai-67k.zip; unzip prachathai-67k.zip;"
      ]
    },
    {
      "cell_type": "code",
      "source": [
        "!pip install pythainlp # สำหรับตัดคำ"
      ],
      "metadata": {
        "colab": {
          "base_uri": "https://localhost:8080/"
        },
        "id": "XC-4phzqiG2P",
        "outputId": "1b85faf2-e2fb-492b-9973-59660b828925"
      },
      "execution_count": 2,
      "outputs": [
        {
          "output_type": "stream",
          "name": "stdout",
          "text": [
            "Collecting pythainlp\n",
            "  Downloading pythainlp-5.0.4-py3-none-any.whl.metadata (7.7 kB)\n",
            "Requirement already satisfied: requests>=2.22.0 in /usr/local/lib/python3.10/dist-packages (from pythainlp) (2.31.0)\n",
            "Requirement already satisfied: charset-normalizer<4,>=2 in /usr/local/lib/python3.10/dist-packages (from requests>=2.22.0->pythainlp) (3.3.2)\n",
            "Requirement already satisfied: idna<4,>=2.5 in /usr/local/lib/python3.10/dist-packages (from requests>=2.22.0->pythainlp) (3.7)\n",
            "Requirement already satisfied: urllib3<3,>=1.21.1 in /usr/local/lib/python3.10/dist-packages (from requests>=2.22.0->pythainlp) (2.0.7)\n",
            "Requirement already satisfied: certifi>=2017.4.17 in /usr/local/lib/python3.10/dist-packages (from requests>=2.22.0->pythainlp) (2024.7.4)\n",
            "Downloading pythainlp-5.0.4-py3-none-any.whl (17.9 MB)\n",
            "\u001b[2K   \u001b[90m━━━━━━━━━━━━━━━━━━━━━━━━━━━━━━━━━━━━━━━━\u001b[0m \u001b[32m17.9/17.9 MB\u001b[0m \u001b[31m16.9 MB/s\u001b[0m eta \u001b[36m0:00:00\u001b[0m\n",
            "\u001b[?25hInstalling collected packages: pythainlp\n",
            "Successfully installed pythainlp-5.0.4\n"
          ]
        }
      ]
    },
    {
      "cell_type": "code",
      "source": [
        "import pandas as pd"
      ],
      "metadata": {
        "id": "t-ZcGDesjR6D"
      },
      "execution_count": 3,
      "outputs": []
    },
    {
      "cell_type": "code",
      "source": [
        "prachathai = pd.read_csv('prachathai-67k.csv')\n",
        "print(prachathai.shape)\n",
        "prachathai.head()"
      ],
      "metadata": {
        "colab": {
          "base_uri": "https://localhost:8080/",
          "height": 311
        },
        "id": "4vYx9F6fjSyl",
        "outputId": "abbb2040-4678-4789-a67e-1d90c24e5d76"
      },
      "execution_count": 4,
      "outputs": [
        {
          "output_type": "stream",
          "name": "stdout",
          "text": [
            "(67889, 5)\n"
          ]
        },
        {
          "output_type": "execute_result",
          "data": {
            "text/plain": [
              "                              url              date  \\\n",
              "0  https://prachatai.com/print/42  2004-08-24 14:31   \n",
              "1  https://prachatai.com/print/41  2004-08-24 14:22   \n",
              "2  https://prachatai.com/print/43  2004-08-24 15:17   \n",
              "3  https://prachatai.com/print/45  2004-08-24 15:58   \n",
              "4  https://prachatai.com/print/47  2004-08-24 16:10   \n",
              "\n",
              "                                               title  \\\n",
              "0             นักวิจัยหนุน  \"แม้ว\"  เปิด  \"จีเอ็มโอ\"   \n",
              "1                     ภาคประชาชนต้านเปิดเสรีจีเอ็มโอ   \n",
              "2                       จุฬาฯ ห่วงจีเอ็มโอลามข้าวไทย   \n",
              "3  ฟองสบู่การเมืองแตก ทักษิณหมดกึ๋น ชนชั้นกลางหมด...   \n",
              "4                     กอต.เสนอเลิกถนนคลองลาน-อุ้มผาง   \n",
              "\n",
              "                                           body_text  \\\n",
              "0  ประชาไท --- 23 ส.ค.2547  นักวิจัยฯ ชี้นโยบายจี...   \n",
              "1  ประชาไท- 23 ส.ค.2547   นักวิชาการ ภาคประชาชน จ...   \n",
              "2   นโยบายที่อนุญาตให้ปลูกร่วมกับพืชอื่นได้นั้นถื...   \n",
              "3  ประชาไท -- 23 ส.ค. 47  ขาประจำทักษิณ ฟันธง ฟอง...   \n",
              "4  ประชาไท-23 ส.ค.47  คณะกรรมการอนุรักษ์ ผืนป่าตะ...   \n",
              "\n",
              "                                              labels  \n",
              "0                            ['ข่าว', 'สิ่งแวดล้อม']  \n",
              "1                            ['ข่าว', 'สิ่งแวดล้อม']  \n",
              "2                            ['ข่าว', 'สิ่งแวดล้อม']  \n",
              "3  ['ข่าว', 'การเมือง', 'คณะเศรษฐศาสตร์ มหาวิทยาล...  \n",
              "4                            ['ข่าว', 'สิ่งแวดล้อม']  "
            ],
            "text/html": [
              "\n",
              "  <div id=\"df-b6d92433-0c92-4e5c-82a3-1bfb563f9d2d\" class=\"colab-df-container\">\n",
              "    <div>\n",
              "<style scoped>\n",
              "    .dataframe tbody tr th:only-of-type {\n",
              "        vertical-align: middle;\n",
              "    }\n",
              "\n",
              "    .dataframe tbody tr th {\n",
              "        vertical-align: top;\n",
              "    }\n",
              "\n",
              "    .dataframe thead th {\n",
              "        text-align: right;\n",
              "    }\n",
              "</style>\n",
              "<table border=\"1\" class=\"dataframe\">\n",
              "  <thead>\n",
              "    <tr style=\"text-align: right;\">\n",
              "      <th></th>\n",
              "      <th>url</th>\n",
              "      <th>date</th>\n",
              "      <th>title</th>\n",
              "      <th>body_text</th>\n",
              "      <th>labels</th>\n",
              "    </tr>\n",
              "  </thead>\n",
              "  <tbody>\n",
              "    <tr>\n",
              "      <th>0</th>\n",
              "      <td>https://prachatai.com/print/42</td>\n",
              "      <td>2004-08-24 14:31</td>\n",
              "      <td>นักวิจัยหนุน  \"แม้ว\"  เปิด  \"จีเอ็มโอ\"</td>\n",
              "      <td>ประชาไท --- 23 ส.ค.2547  นักวิจัยฯ ชี้นโยบายจี...</td>\n",
              "      <td>['ข่าว', 'สิ่งแวดล้อม']</td>\n",
              "    </tr>\n",
              "    <tr>\n",
              "      <th>1</th>\n",
              "      <td>https://prachatai.com/print/41</td>\n",
              "      <td>2004-08-24 14:22</td>\n",
              "      <td>ภาคประชาชนต้านเปิดเสรีจีเอ็มโอ</td>\n",
              "      <td>ประชาไท- 23 ส.ค.2547   นักวิชาการ ภาคประชาชน จ...</td>\n",
              "      <td>['ข่าว', 'สิ่งแวดล้อม']</td>\n",
              "    </tr>\n",
              "    <tr>\n",
              "      <th>2</th>\n",
              "      <td>https://prachatai.com/print/43</td>\n",
              "      <td>2004-08-24 15:17</td>\n",
              "      <td>จุฬาฯ ห่วงจีเอ็มโอลามข้าวไทย</td>\n",
              "      <td>นโยบายที่อนุญาตให้ปลูกร่วมกับพืชอื่นได้นั้นถื...</td>\n",
              "      <td>['ข่าว', 'สิ่งแวดล้อม']</td>\n",
              "    </tr>\n",
              "    <tr>\n",
              "      <th>3</th>\n",
              "      <td>https://prachatai.com/print/45</td>\n",
              "      <td>2004-08-24 15:58</td>\n",
              "      <td>ฟองสบู่การเมืองแตก ทักษิณหมดกึ๋น ชนชั้นกลางหมด...</td>\n",
              "      <td>ประชาไท -- 23 ส.ค. 47  ขาประจำทักษิณ ฟันธง ฟอง...</td>\n",
              "      <td>['ข่าว', 'การเมือง', 'คณะเศรษฐศาสตร์ มหาวิทยาล...</td>\n",
              "    </tr>\n",
              "    <tr>\n",
              "      <th>4</th>\n",
              "      <td>https://prachatai.com/print/47</td>\n",
              "      <td>2004-08-24 16:10</td>\n",
              "      <td>กอต.เสนอเลิกถนนคลองลาน-อุ้มผาง</td>\n",
              "      <td>ประชาไท-23 ส.ค.47  คณะกรรมการอนุรักษ์ ผืนป่าตะ...</td>\n",
              "      <td>['ข่าว', 'สิ่งแวดล้อม']</td>\n",
              "    </tr>\n",
              "  </tbody>\n",
              "</table>\n",
              "</div>\n",
              "    <div class=\"colab-df-buttons\">\n",
              "\n",
              "  <div class=\"colab-df-container\">\n",
              "    <button class=\"colab-df-convert\" onclick=\"convertToInteractive('df-b6d92433-0c92-4e5c-82a3-1bfb563f9d2d')\"\n",
              "            title=\"Convert this dataframe to an interactive table.\"\n",
              "            style=\"display:none;\">\n",
              "\n",
              "  <svg xmlns=\"http://www.w3.org/2000/svg\" height=\"24px\" viewBox=\"0 -960 960 960\">\n",
              "    <path d=\"M120-120v-720h720v720H120Zm60-500h600v-160H180v160Zm220 220h160v-160H400v160Zm0 220h160v-160H400v160ZM180-400h160v-160H180v160Zm440 0h160v-160H620v160ZM180-180h160v-160H180v160Zm440 0h160v-160H620v160Z\"/>\n",
              "  </svg>\n",
              "    </button>\n",
              "\n",
              "  <style>\n",
              "    .colab-df-container {\n",
              "      display:flex;\n",
              "      gap: 12px;\n",
              "    }\n",
              "\n",
              "    .colab-df-convert {\n",
              "      background-color: #E8F0FE;\n",
              "      border: none;\n",
              "      border-radius: 50%;\n",
              "      cursor: pointer;\n",
              "      display: none;\n",
              "      fill: #1967D2;\n",
              "      height: 32px;\n",
              "      padding: 0 0 0 0;\n",
              "      width: 32px;\n",
              "    }\n",
              "\n",
              "    .colab-df-convert:hover {\n",
              "      background-color: #E2EBFA;\n",
              "      box-shadow: 0px 1px 2px rgba(60, 64, 67, 0.3), 0px 1px 3px 1px rgba(60, 64, 67, 0.15);\n",
              "      fill: #174EA6;\n",
              "    }\n",
              "\n",
              "    .colab-df-buttons div {\n",
              "      margin-bottom: 4px;\n",
              "    }\n",
              "\n",
              "    [theme=dark] .colab-df-convert {\n",
              "      background-color: #3B4455;\n",
              "      fill: #D2E3FC;\n",
              "    }\n",
              "\n",
              "    [theme=dark] .colab-df-convert:hover {\n",
              "      background-color: #434B5C;\n",
              "      box-shadow: 0px 1px 3px 1px rgba(0, 0, 0, 0.15);\n",
              "      filter: drop-shadow(0px 1px 2px rgba(0, 0, 0, 0.3));\n",
              "      fill: #FFFFFF;\n",
              "    }\n",
              "  </style>\n",
              "\n",
              "    <script>\n",
              "      const buttonEl =\n",
              "        document.querySelector('#df-b6d92433-0c92-4e5c-82a3-1bfb563f9d2d button.colab-df-convert');\n",
              "      buttonEl.style.display =\n",
              "        google.colab.kernel.accessAllowed ? 'block' : 'none';\n",
              "\n",
              "      async function convertToInteractive(key) {\n",
              "        const element = document.querySelector('#df-b6d92433-0c92-4e5c-82a3-1bfb563f9d2d');\n",
              "        const dataTable =\n",
              "          await google.colab.kernel.invokeFunction('convertToInteractive',\n",
              "                                                    [key], {});\n",
              "        if (!dataTable) return;\n",
              "\n",
              "        const docLinkHtml = 'Like what you see? Visit the ' +\n",
              "          '<a target=\"_blank\" href=https://colab.research.google.com/notebooks/data_table.ipynb>data table notebook</a>'\n",
              "          + ' to learn more about interactive tables.';\n",
              "        element.innerHTML = '';\n",
              "        dataTable['output_type'] = 'display_data';\n",
              "        await google.colab.output.renderOutput(dataTable, element);\n",
              "        const docLink = document.createElement('div');\n",
              "        docLink.innerHTML = docLinkHtml;\n",
              "        element.appendChild(docLink);\n",
              "      }\n",
              "    </script>\n",
              "  </div>\n",
              "\n",
              "\n",
              "<div id=\"df-4e5b4eae-462c-47ae-8004-940243d1da9d\">\n",
              "  <button class=\"colab-df-quickchart\" onclick=\"quickchart('df-4e5b4eae-462c-47ae-8004-940243d1da9d')\"\n",
              "            title=\"Suggest charts\"\n",
              "            style=\"display:none;\">\n",
              "\n",
              "<svg xmlns=\"http://www.w3.org/2000/svg\" height=\"24px\"viewBox=\"0 0 24 24\"\n",
              "     width=\"24px\">\n",
              "    <g>\n",
              "        <path d=\"M19 3H5c-1.1 0-2 .9-2 2v14c0 1.1.9 2 2 2h14c1.1 0 2-.9 2-2V5c0-1.1-.9-2-2-2zM9 17H7v-7h2v7zm4 0h-2V7h2v10zm4 0h-2v-4h2v4z\"/>\n",
              "    </g>\n",
              "</svg>\n",
              "  </button>\n",
              "\n",
              "<style>\n",
              "  .colab-df-quickchart {\n",
              "      --bg-color: #E8F0FE;\n",
              "      --fill-color: #1967D2;\n",
              "      --hover-bg-color: #E2EBFA;\n",
              "      --hover-fill-color: #174EA6;\n",
              "      --disabled-fill-color: #AAA;\n",
              "      --disabled-bg-color: #DDD;\n",
              "  }\n",
              "\n",
              "  [theme=dark] .colab-df-quickchart {\n",
              "      --bg-color: #3B4455;\n",
              "      --fill-color: #D2E3FC;\n",
              "      --hover-bg-color: #434B5C;\n",
              "      --hover-fill-color: #FFFFFF;\n",
              "      --disabled-bg-color: #3B4455;\n",
              "      --disabled-fill-color: #666;\n",
              "  }\n",
              "\n",
              "  .colab-df-quickchart {\n",
              "    background-color: var(--bg-color);\n",
              "    border: none;\n",
              "    border-radius: 50%;\n",
              "    cursor: pointer;\n",
              "    display: none;\n",
              "    fill: var(--fill-color);\n",
              "    height: 32px;\n",
              "    padding: 0;\n",
              "    width: 32px;\n",
              "  }\n",
              "\n",
              "  .colab-df-quickchart:hover {\n",
              "    background-color: var(--hover-bg-color);\n",
              "    box-shadow: 0 1px 2px rgba(60, 64, 67, 0.3), 0 1px 3px 1px rgba(60, 64, 67, 0.15);\n",
              "    fill: var(--button-hover-fill-color);\n",
              "  }\n",
              "\n",
              "  .colab-df-quickchart-complete:disabled,\n",
              "  .colab-df-quickchart-complete:disabled:hover {\n",
              "    background-color: var(--disabled-bg-color);\n",
              "    fill: var(--disabled-fill-color);\n",
              "    box-shadow: none;\n",
              "  }\n",
              "\n",
              "  .colab-df-spinner {\n",
              "    border: 2px solid var(--fill-color);\n",
              "    border-color: transparent;\n",
              "    border-bottom-color: var(--fill-color);\n",
              "    animation:\n",
              "      spin 1s steps(1) infinite;\n",
              "  }\n",
              "\n",
              "  @keyframes spin {\n",
              "    0% {\n",
              "      border-color: transparent;\n",
              "      border-bottom-color: var(--fill-color);\n",
              "      border-left-color: var(--fill-color);\n",
              "    }\n",
              "    20% {\n",
              "      border-color: transparent;\n",
              "      border-left-color: var(--fill-color);\n",
              "      border-top-color: var(--fill-color);\n",
              "    }\n",
              "    30% {\n",
              "      border-color: transparent;\n",
              "      border-left-color: var(--fill-color);\n",
              "      border-top-color: var(--fill-color);\n",
              "      border-right-color: var(--fill-color);\n",
              "    }\n",
              "    40% {\n",
              "      border-color: transparent;\n",
              "      border-right-color: var(--fill-color);\n",
              "      border-top-color: var(--fill-color);\n",
              "    }\n",
              "    60% {\n",
              "      border-color: transparent;\n",
              "      border-right-color: var(--fill-color);\n",
              "    }\n",
              "    80% {\n",
              "      border-color: transparent;\n",
              "      border-right-color: var(--fill-color);\n",
              "      border-bottom-color: var(--fill-color);\n",
              "    }\n",
              "    90% {\n",
              "      border-color: transparent;\n",
              "      border-bottom-color: var(--fill-color);\n",
              "    }\n",
              "  }\n",
              "</style>\n",
              "\n",
              "  <script>\n",
              "    async function quickchart(key) {\n",
              "      const quickchartButtonEl =\n",
              "        document.querySelector('#' + key + ' button');\n",
              "      quickchartButtonEl.disabled = true;  // To prevent multiple clicks.\n",
              "      quickchartButtonEl.classList.add('colab-df-spinner');\n",
              "      try {\n",
              "        const charts = await google.colab.kernel.invokeFunction(\n",
              "            'suggestCharts', [key], {});\n",
              "      } catch (error) {\n",
              "        console.error('Error during call to suggestCharts:', error);\n",
              "      }\n",
              "      quickchartButtonEl.classList.remove('colab-df-spinner');\n",
              "      quickchartButtonEl.classList.add('colab-df-quickchart-complete');\n",
              "    }\n",
              "    (() => {\n",
              "      let quickchartButtonEl =\n",
              "        document.querySelector('#df-4e5b4eae-462c-47ae-8004-940243d1da9d button');\n",
              "      quickchartButtonEl.style.display =\n",
              "        google.colab.kernel.accessAllowed ? 'block' : 'none';\n",
              "    })();\n",
              "  </script>\n",
              "</div>\n",
              "\n",
              "    </div>\n",
              "  </div>\n"
            ],
            "application/vnd.google.colaboratory.intrinsic+json": {
              "type": "dataframe",
              "variable_name": "prachathai",
              "summary": "{\n  \"name\": \"prachathai\",\n  \"rows\": 67889,\n  \"fields\": [\n    {\n      \"column\": \"url\",\n      \"properties\": {\n        \"dtype\": \"string\",\n        \"num_unique_values\": 67889,\n        \"samples\": [\n          \"https://prachatai.com/print/77637\",\n          \"https://prachatai.com/print/62153\",\n          \"https://prachatai.com/print/5620\"\n        ],\n        \"semantic_type\": \"\",\n        \"description\": \"\"\n      }\n    },\n    {\n      \"column\": \"date\",\n      \"properties\": {\n        \"dtype\": \"object\",\n        \"num_unique_values\": 66732,\n        \"samples\": [\n          \"2010-06-24 22:44\",\n          \"2009-12-06 08:06\",\n          \"2015-05-20 01:31\"\n        ],\n        \"semantic_type\": \"\",\n        \"description\": \"\"\n      }\n    },\n    {\n      \"column\": \"title\",\n      \"properties\": {\n        \"dtype\": \"string\",\n        \"num_unique_values\": 67417,\n        \"samples\": [\n          \"\\u0e40\\u0e23\\u0e35\\u0e22\\u0e01 1.35 \\u0e25\\u0e49\\u0e32\\u0e19 \\u0e23\\u0e30\\u0e14\\u0e21\\u0e40\\u0e07\\u0e34\\u0e19\\u0e44\\u0e21\\u0e48\\u0e17\\u0e31\\u0e19 15 \\u0e41\\u0e01\\u0e19\\u0e19\\u0e33\\u0e04\\u0e49\\u0e32\\u0e19\\u0e42\\u0e23\\u0e07\\u0e44\\u0e1f\\u0e1f\\u0e49\\u0e32\\u0e40\\u0e17\\u0e1e\\u0e32\\u0e0a\\u0e27\\u0e14\\u0e1b\\u0e23\\u0e30\\u0e01\\u0e31\\u0e19 \\u0e19\\u0e2d\\u0e19\\u0e04\\u0e38\\u0e01\",\n          \"\\u0e40\\u0e27\\u0e17\\u0e35\\u0e40\\u0e25\\u0e47\\u0e01 \\u0e17\\u0e27\\u0e07\\u0e2a\\u0e34\\u0e17\\u0e18\\u0e34 '\\u0e19\\u0e31\\u0e01\\u0e42\\u0e17\\u0e29\\u0e01\\u0e32\\u0e23\\u0e40\\u0e21\\u0e37\\u0e2d\\u0e07'- \\u0e1b\\u0e23\\u0e30\\u0e01\\u0e32\\u0e22\\u0e44\\u0e1f\\u0e01\\u0e32\\u0e23\\u0e25\\u0e30\\u0e04\\u0e23\\u0e2a\\u0e30\\u0e17\\u0e49\\u0e2d\\u0e19\\u0e1b\\u0e31\\u0e0d\\u0e2b\\u0e32\\u0e20\\u0e32\\u0e22\\u0e43\\u0e19\\u0e40\\u0e2a\\u0e37\\u0e49\\u0e2d\\u0e41\\u0e14\\u0e07\",\n          \"\\u0e28\\u0e32\\u0e25\\u0e1b\\u0e01\\u0e04\\u0e23\\u0e2d\\u0e07\\u0e2a\\u0e31\\u0e48\\u0e07\\u0e15\\u0e33\\u0e23\\u0e27\\u0e08\\u0e08\\u0e48\\u0e32\\u0e22\\u0e04\\u0e48\\u0e32\\u0e2a\\u0e34\\u0e19\\u0e44\\u0e2b\\u0e21\\u0e2a\\u0e39\\u0e07\\u0e2a\\u0e38\\u0e14 4 \\u0e25\\u0e49\\u0e32\\u0e19 \\u0e41\\u0e01\\u0e48\\u0e1e\\u0e31\\u0e19\\u0e18\\u0e21\\u0e34\\u0e15\\u0e23\\u0e2f \\u0e01\\u0e23\\u0e13\\u0e35\\u0e2a\\u0e25\\u0e32\\u0e22\\u0e0a\\u0e38\\u0e21\\u0e19\\u0e38\\u0e21 7 \\u0e15.\\u0e04.51\"\n        ],\n        \"semantic_type\": \"\",\n        \"description\": \"\"\n      }\n    },\n    {\n      \"column\": \"body_text\",\n      \"properties\": {\n        \"dtype\": \"string\",\n        \"num_unique_values\": 67753,\n        \"samples\": [\n          \"\\n\\u0e40\\u0e21\\u0e37\\u0e48\\u0e2d\\u0e27\\u0e31\\u0e19\\u0e17\\u0e35\\u0e48 4 \\u0e15\\u0e38\\u0e25\\u0e32\\u0e04\\u0e21 2548 \\u0e17\\u0e35\\u0e48\\u0e2a\\u0e20\\u0e32\\u0e17\\u0e19\\u0e32\\u0e22\\u0e04\\u0e27\\u0e32\\u0e21 \\u0e19\\u0e32\\u0e22\\u0e2a\\u0e21\\u0e31\\u0e04\\u0e23 \\u0e40\\u0e0a\\u0e32\\u0e27\\u0e20\\u0e32\\u0e19\\u0e31\\u0e19\\u0e17\\u0e4c \\u0e42\\u0e06\\u0e29\\u0e01\\u0e2a\\u0e20\\u0e32\\u0e17\\u0e19\\u0e32\\u0e22\\u0e04\\u0e27\\u0e32\\u0e21 \\u0e41\\u0e16\\u0e25\\u0e07\\u0e02\\u0e48\\u0e32\\u0e27\\u0e27\\u0e48\\u0e32 \\u0e2a\\u0e20\\u0e32\\u0e17\\u0e19\\u0e32\\u0e22\\u0e04\\u0e27\\u0e32\\u0e21\\u0e44\\u0e14\\u0e49\\u0e15\\u0e31\\u0e49\\u0e07\\u0e17\\u0e19\\u0e32\\u0e22\\u0e04\\u0e27\\u0e32\\u0e21\\u0e21\\u0e38\\u0e2a\\u0e25\\u0e34\\u0e21 \\u0e40\\u0e1e\\u0e37\\u0e48\\u0e2d\\u0e28\\u0e36\\u0e01\\u0e29\\u0e32\\u0e1b\\u0e31\\u0e0d\\u0e2b\\u0e32 3 \\u0e08\\u0e31\\u0e07\\u0e2b\\u0e27\\u0e31\\u0e14\\u0e0a\\u0e32\\u0e22\\u0e41\\u0e14\\u0e19\\u0e20\\u0e32\\u0e04\\u0e43\\u0e15\\u0e49 \\u0e42\\u0e14\\u0e22\\u0e40\\u0e09\\u0e1e\\u0e32\\u0e30\\u0e04\\u0e14\\u0e35\\u0e06\\u0e32\\u0e15\\u0e01\\u0e23\\u0e23\\u0e21 2 \\u0e19\\u0e32\\u0e27\\u0e34\\u0e01\\u0e42\\u0e22\\u0e18\\u0e34\\u0e19 \\u0e17\\u0e35\\u0e48\\u0e15\\u0e31\\u0e19\\u0e2b\\u0e22\\u0e07\\u0e25\\u0e34\\u0e21\\u0e2d \\u0e2d\\u0e33\\u0e40\\u0e20\\u0e2d\\u0e23\\u0e30\\u0e41\\u0e07\\u0e30 \\u0e08\\u0e31\\u0e07\\u0e2b\\u0e27\\u0e31\\u0e14\\u0e19\\u0e23\\u0e32\\u0e18\\u0e34\\u0e27\\u0e32\\u0e2a \\u0e17\\u0e31\\u0e49\\u0e07\\u0e19\\u0e35\\u0e49 \\u0e40\\u0e1e\\u0e37\\u0e48\\u0e2d\\u0e43\\u0e2b\\u0e49\\u0e04\\u0e27\\u0e32\\u0e21\\u0e0a\\u0e48\\u0e27\\u0e22\\u0e40\\u0e2b\\u0e25\\u0e37\\u0e2d\\u0e17\\u0e32\\u0e07\\u0e04\\u0e14\\u0e35\\u0e41\\u0e01\\u0e48\\u0e1c\\u0e39\\u0e49\\u0e17\\u0e35\\u0e48\\u0e16\\u0e39\\u0e01\\u0e01\\u0e25\\u0e48\\u0e32\\u0e27\\u0e2b\\u0e32\\u0e27\\u0e48\\u0e32\\u0e40\\u0e01\\u0e35\\u0e48\\u0e22\\u0e27\\u0e02\\u0e49\\u0e2d\\u0e07\\u0e01\\u0e31\\u0e1a\\u0e04\\u0e14\\u0e35\\u0e14\\u0e31\\u0e07\\u0e01\\u0e25\\u0e48\\u0e32\\u0e27\\u0e08\\u0e33\\u0e19\\u0e27\\u0e19 32 \\u0e04\\u0e19 \\u0e15\\u0e32\\u0e21\\u0e2a\\u0e34\\u0e17\\u0e18\\u0e34\\u0e2d\\u0e31\\u0e19\\u0e1e\\u0e36\\u0e07\\u0e44\\u0e14\\u0e49\\u0e23\\u0e31\\u0e1a\\u0e01\\u0e32\\u0e23\\u0e04\\u0e38\\u0e49\\u0e21\\u0e04\\u0e23\\u0e2d\\u0e07\\u0e15\\u0e32\\u0e21\\u0e23\\u0e31\\u0e10\\u0e18\\u0e23\\u0e23\\u0e21\\u0e19\\u0e39\\u0e0d \\u0e41\\u0e25\\u0e30\\u0e1b\\u0e0f\\u0e34\\u0e0d\\u0e0d\\u0e32\\u0e2a\\u0e32\\u0e01\\u0e25\\u0e27\\u0e48\\u0e32\\u0e14\\u0e49\\u0e27\\u0e22\\u0e2a\\u0e34\\u0e17\\u0e18\\u0e34\\u0e21\\u0e19\\u0e38\\u0e29\\u0e22\\u0e0a\\u0e19 \\u0e40\\u0e1e\\u0e37\\u0e48\\u0e2d\\u0e43\\u0e2b\\u0e49\\u0e21\\u0e35\\u0e04\\u0e27\\u0e32\\u0e21\\u0e42\\u0e1b\\u0e23\\u0e48\\u0e07\\u0e43\\u0e2a \\u0e16\\u0e39\\u0e01\\u0e15\\u0e49\\u0e2d\\u0e07 \\u0e40\\u0e1b\\u0e47\\u0e19\\u0e18\\u0e23\\u0e23\\u0e21\\u0e41\\u0e01\\u0e48\\u0e1b\\u0e23\\u0e30\\u0e0a\\u0e32\\u0e0a\\u0e19\\u0e14\\u0e49\\u0e27\\u0e22\\u0e04\\u0e27\\u0e32\\u0e21\\u0e40\\u0e2a\\u0e21\\u0e2d\\u0e20\\u0e32\\u0e04\\n\\n\\u00a0\\n\\n\\\"\\u0e2a\\u0e20\\u0e32\\u0e17\\u0e19\\u0e32\\u0e22\\u0e04\\u0e27\\u0e32\\u0e21\\u0e21\\u0e2d\\u0e1a\\u0e2b\\u0e21\\u0e32\\u0e22\\u0e43\\u0e2b\\u0e49\\u0e04\\u0e13\\u0e30\\u0e17\\u0e33\\u0e07\\u0e32\\u0e19 \\u0e0b\\u0e36\\u0e48\\u0e07\\u0e40\\u0e1b\\u0e47\\u0e19\\u0e17\\u0e19\\u0e32\\u0e22\\u0e04\\u0e27\\u0e32\\u0e21\\u0e21\\u0e38\\u0e2a\\u0e25\\u0e34\\u0e21 \\u0e17\\u0e35\\u0e48\\u0e2a\\u0e32\\u0e21\\u0e32\\u0e23\\u0e16\\u0e1e\\u0e39\\u0e14\\u0e20\\u0e32\\u0e29\\u0e32\\u0e22\\u0e32\\u0e27\\u0e35\\u0e44\\u0e14\\u0e49 \\u0e40\\u0e1e\\u0e37\\u0e48\\u0e2d\\u0e44\\u0e1b\\u0e2b\\u0e32\\u0e02\\u0e49\\u0e2d\\u0e40\\u0e17\\u0e47\\u0e08\\u0e08\\u0e23\\u0e34\\u0e07\\u0e41\\u0e25\\u0e30\\u0e1e\\u0e22\\u0e32\\u0e19\\u0e2b\\u0e25\\u0e31\\u0e01\\u0e10\\u0e32\\u0e19 \\u0e40\\u0e1e\\u0e37\\u0e48\\u0e2d\\u0e43\\u0e0a\\u0e49\\u0e43\\u0e19\\u0e01\\u0e32\\u0e23\\u0e40\\u0e15\\u0e23\\u0e35\\u0e22\\u0e21\\u0e04\\u0e14\\u0e35\\u0e41\\u0e25\\u0e30\\u0e27\\u0e34\\u0e40\\u0e04\\u0e23\\u0e32\\u0e30\\u0e2b\\u0e4c\\u0e02\\u0e49\\u0e2d\\u0e40\\u0e17\\u0e47\\u0e08\\u0e08\\u0e23\\u0e34\\u0e07 \\u0e17\\u0e35\\u0e48\\u0e1d\\u0e48\\u0e32\\u0e22\\u0e23\\u0e31\\u0e10\\u0e43\\u0e0a\\u0e49\\u0e40\\u0e1b\\u0e47\\u0e19\\u0e21\\u0e39\\u0e25\\u0e10\\u0e32\\u0e19\\u0e43\\u0e19\\u0e01\\u0e32\\u0e23\\u0e01\\u0e25\\u0e48\\u0e32\\u0e27\\u0e2b\\u0e32\\u0e1c\\u0e39\\u0e49\\u0e15\\u0e49\\u0e2d\\u0e07\\u0e2b\\u0e32\\u0e41\\u0e15\\u0e48\\u0e25\\u0e30\\u0e23\\u0e32\\u0e22 \\u0e40\\u0e1e\\u0e37\\u0e48\\u0e2d\\u0e44\\u0e21\\u0e48\\u0e43\\u0e2b\\u0e49\\u0e40\\u0e1b\\u0e47\\u0e19\\u0e01\\u0e32\\u0e23\\u0e08\\u0e31\\u0e1a\\u0e41\\u0e1e\\u0e30 \\u0e0b\\u0e36\\u0e48\\u0e07\\u0e2b\\u0e25\\u0e31\\u0e07\\u0e08\\u0e32\\u0e01\\u0e17\\u0e35\\u0e48\\u0e04\\u0e13\\u0e30\\u0e17\\u0e33\\u0e07\\u0e32\\u0e19\\u0e25\\u0e07\\u0e1e\\u0e37\\u0e49\\u0e19\\u0e17\\u0e35\\u0e48\\u0e41\\u0e25\\u0e30\\u0e44\\u0e14\\u0e49\\u0e1e\\u0e1a\\u0e01\\u0e31\\u0e1a\\u0e1c\\u0e39\\u0e49\\u0e16\\u0e39\\u0e01\\u0e01\\u0e25\\u0e48\\u0e32\\u0e27\\u0e2b\\u0e32\\u0e41\\u0e25\\u0e49\\u0e27 \\u0e0d\\u0e32\\u0e15\\u0e34\\u0e02\\u0e2d\\u0e07\\u0e1c\\u0e39\\u0e49\\u0e16\\u0e39\\u0e01\\u0e01\\u0e25\\u0e48\\u0e32\\u0e27\\u0e2b\\u0e32\\u0e01\\u0e47\\u0e44\\u0e14\\u0e49\\u0e15\\u0e34\\u0e14\\u0e15\\u0e48\\u0e2d\\u0e01\\u0e25\\u0e31\\u0e1a\\u0e21\\u0e32\\u0e14\\u0e49\\u0e27\\u0e22\\\" \\u0e19\\u0e32\\u0e22\\u0e2a\\u0e21\\u0e31\\u0e04\\u0e23 \\u0e41\\u0e16\\u0e25\\u0e07\\n\\n\\u00a0\\n\\n\\u0e19\\u0e32\\u0e22\\u0e2a\\u0e21\\u0e31\\u0e04\\u0e23 \\u0e41\\u0e16\\u0e25\\u0e07\\u0e2d\\u0e35\\u0e01\\u0e27\\u0e48\\u0e32 \\u0e43\\u0e19\\u0e02\\u0e31\\u0e49\\u0e19\\u0e15\\u0e49\\u0e19\\u0e04\\u0e13\\u0e30\\u0e17\\u0e33\\u0e07\\u0e32\\u0e19\\u0e44\\u0e14\\u0e49\\u0e23\\u0e27\\u0e1a\\u0e23\\u0e27\\u0e21\\u0e02\\u0e49\\u0e2d\\u0e21\\u0e39\\u0e25 \\u0e40\\u0e1e\\u0e37\\u0e48\\u0e2d\\u0e15\\u0e23\\u0e27\\u0e08\\u0e2a\\u0e2d\\u0e1a\\u0e27\\u0e48\\u0e32 \\u0e1c\\u0e39\\u0e49\\u0e17\\u0e35\\u0e48\\u0e16\\u0e39\\u0e01\\u0e2d\\u0e2d\\u0e01\\u0e2b\\u0e21\\u0e32\\u0e22\\u0e08\\u0e31\\u0e1a\\u0e40\\u0e1b\\u0e47\\u0e19\\u0e1c\\u0e39\\u0e49\\u0e01\\u0e23\\u0e30\\u0e17\\u0e33\\u0e1c\\u0e34\\u0e14 \\u0e2b\\u0e23\\u0e37\\u0e2d\\u0e1c\\u0e39\\u0e49\\u0e2a\\u0e19\\u0e31\\u0e1a\\u0e2a\\u0e19\\u0e38\\u0e19\\u0e01\\u0e32\\u0e23\\u0e01\\u0e48\\u0e2d\\u0e40\\u0e2b\\u0e15\\u0e38\\u0e17\\u0e35\\u0e48\\u0e15\\u0e31\\u0e19\\u0e2b\\u0e22\\u0e07\\u0e25\\u0e34\\u0e21\\u0e2d\\u0e2b\\u0e23\\u0e37\\u0e2d\\u0e44\\u0e21\\u0e48 \\u0e2b\\u0e23\\u0e37\\u0e2d\\u0e40\\u0e1e\\u0e35\\u0e22\\u0e07\\u0e23\\u0e48\\u0e27\\u0e21\\u0e2d\\u0e22\\u0e48\\u0e32\\u0e07\\u0e40\\u0e14\\u0e35\\u0e22\\u0e27 \\u0e42\\u0e14\\u0e22\\u0e2b\\u0e32\\u0e02\\u0e49\\u0e2d\\u0e21\\u0e39\\u0e25\\u0e27\\u0e48\\u0e32 \\u0e43\\u0e19\\u0e27\\u0e31\\u0e19\\u0e40\\u0e27\\u0e25\\u0e32\\u0e40\\u0e01\\u0e34\\u0e14\\u0e40\\u0e2b\\u0e15\\u0e38 \\u0e1a\\u0e38\\u0e04\\u0e04\\u0e25\\u0e15\\u0e48\\u0e32\\u0e07\\u0e46 \\u0e17\\u0e35\\u0e48\\u0e16\\u0e39\\u0e01\\u0e2d\\u0e2d\\u0e01\\u0e2b\\u0e21\\u0e32\\u0e22\\u0e08\\u0e31\\u0e1a\\u0e19\\u0e31\\u0e49\\u0e19\\u0e2d\\u0e22\\u0e39\\u0e48\\u0e17\\u0e35\\u0e48\\u0e43\\u0e14\\n\\n\\u00a0\\n\\n\\u0e19\\u0e32\\u0e22\\u0e2a\\u0e21\\u0e31\\u0e04\\u0e23 \\u0e41\\u0e16\\u0e25\\u0e07\\u0e2d\\u0e35\\u0e01\\u0e27\\u0e48\\u0e32 \\u0e2a\\u0e20\\u0e32\\u0e17\\u0e19\\u0e32\\u0e22\\u0e04\\u0e27\\u0e32\\u0e21\\u0e22\\u0e31\\u0e07\\u0e44\\u0e14\\u0e49\\u0e15\\u0e31\\u0e49\\u0e07\\u0e04\\u0e13\\u0e30\\u0e01\\u0e23\\u0e23\\u0e21\\u0e01\\u0e32\\u0e23\\u0e41\\u0e25\\u0e30\\u0e17\\u0e35\\u0e48\\u0e1b\\u0e23\\u0e36\\u0e01\\u0e29\\u0e32\\u0e44\\u0e1b\\u0e1b\\u0e23\\u0e30\\u0e08\\u0e33\\u0e28\\u0e39\\u0e19\\u0e22\\u0e4c\\u0e19\\u0e34\\u0e15\\u0e34\\u0e18\\u0e23\\u0e23\\u0e21\\u0e2a\\u0e21\\u0e32\\u0e19\\u0e09\\u0e31\\u0e19\\u0e17\\u0e4c 3 \\u0e08\\u0e31\\u0e07\\u0e2b\\u0e27\\u0e31\\u0e14\\u0e0a\\u0e32\\u0e22\\u0e41\\u0e14\\u0e19\\u0e20\\u0e32\\u0e04\\u0e43\\u0e15\\u0e49 \\u0e17\\u0e35\\u0e48\\u0e21\\u0e2b\\u0e32\\u0e27\\u0e34\\u0e17\\u0e22\\u0e32\\u0e25\\u0e31\\u0e22\\u0e2a\\u0e07\\u0e02\\u0e25\\u0e32\\u0e19\\u0e04\\u0e23\\u0e34\\u0e19\\u0e17\\u0e23\\u0e4c \\u0e27\\u0e34\\u0e17\\u0e22\\u0e32\\u0e40\\u0e02\\u0e15\\u0e1b\\u0e31\\u0e15\\u0e15\\u0e32\\u0e19\\u0e35 \\u0e0b\\u0e36\\u0e48\\u0e07\\u0e40\\u0e1b\\u0e47\\u0e19\\u0e04\\u0e27\\u0e32\\u0e21\\u0e23\\u0e48\\u0e27\\u0e21\\u0e21\\u0e37\\u0e2d\\u0e23\\u0e30\\u0e2b\\u0e27\\u0e48\\u0e32\\u0e07\\u0e2a\\u0e20\\u0e32\\u0e17\\u0e19\\u0e32\\u0e22\\u0e04\\u0e27\\u0e32\\u0e21 \\u0e04\\u0e13\\u0e30\\u0e01\\u0e23\\u0e23\\u0e21\\u0e01\\u0e32\\u0e23\\u0e2d\\u0e34\\u0e2a\\u0e23\\u0e30\\u0e40\\u0e1e\\u0e37\\u0e48\\u0e2d\\u0e04\\u0e27\\u0e32\\u0e21\\u0e2a\\u0e21\\u0e32\\u0e19\\u0e09\\u0e31\\u0e19\\u0e17\\u0e4c\\u0e41\\u0e2b\\u0e48\\u0e07\\u0e0a\\u0e32\\u0e15\\u0e34 (\\u0e01\\u0e2d\\u0e2a.) \\u0e41\\u0e25\\u0e30\\u0e04\\u0e13\\u0e30\\u0e01\\u0e23\\u0e23\\u0e21\\u0e01\\u0e32\\u0e23\\u0e2a\\u0e34\\u0e17\\u0e18\\u0e34\\u0e21\\u0e19\\u0e38\\u0e29\\u0e22\\u0e0a\\u0e19\\u0e41\\u0e2b\\u0e48\\u0e07\\u0e0a\\u0e32\\u0e15\\u0e34 \\u0e40\\u0e1e\\u0e37\\u0e48\\u0e2d\\u0e41\\u0e01\\u0e49\\u0e44\\u0e02\\u0e1b\\u0e23\\u0e31\\u0e1a\\u0e1b\\u0e23\\u0e38\\u0e07\\u0e01\\u0e23\\u0e30\\u0e1a\\u0e27\\u0e19\\u0e01\\u0e32\\u0e23\\u0e22\\u0e38\\u0e15\\u0e34\\u0e18\\u0e23\\u0e23\\u0e21 \\u0e2a\\u0e48\\u0e07\\u0e40\\u0e2a\\u0e23\\u0e34\\u0e21\\u0e20\\u0e32\\u0e04\\u0e1b\\u0e23\\u0e30\\u0e0a\\u0e32\\u0e2a\\u0e31\\u0e07\\u0e04\\u0e21\\u0e43\\u0e19\\u0e01\\u0e32\\u0e23\\u0e04\\u0e25\\u0e35\\u0e48\\u0e04\\u0e25\\u0e32\\u0e22\\u0e1b\\u0e31\\u0e0d\\u0e2b\\u0e32 \\u0e2a\\u0e23\\u0e49\\u0e32\\u0e07\\u0e01\\u0e32\\u0e23\\u0e40\\u0e23\\u0e35\\u0e22\\u0e19\\u0e23\\u0e39\\u0e49 \\u0e04\\u0e27\\u0e32\\u0e21\\u0e40\\u0e1b\\u0e47\\u0e19\\u0e18\\u0e23\\u0e23\\u0e21\\u0e41\\u0e25\\u0e30\\u0e04\\u0e27\\u0e32\\u0e21\\u0e2a\\u0e21\\u0e32\\u0e19\\u0e09\\u0e31\\u0e19\\u0e17\\u0e4c\\u0e17\\u0e35\\u0e48\\u0e22\\u0e31\\u0e48\\u0e07\\u0e22\\u0e37\\u0e19\\n\\n\\u00a0\\n\\n\\u0e19\\u0e32\\u0e22\\u0e2a\\u0e21\\u0e31\\u0e04\\u0e23 \\u0e41\\u0e16\\u0e25\\u0e07\\u0e15\\u0e48\\u0e2d\\u0e27\\u0e48\\u0e32 \\u0e17\\u0e31\\u0e49\\u0e07\\u0e19\\u0e35\\u0e49 \\u0e2a\\u0e20\\u0e32\\u0e17\\u0e19\\u0e32\\u0e22\\u0e04\\u0e27\\u0e32\\u0e21\\u0e44\\u0e14\\u0e49\\u0e41\\u0e15\\u0e48\\u0e07\\u0e15\\u0e31\\u0e49\\u0e07\\u0e19\\u0e32\\u0e22\\u0e19\\u0e2d\\u0e07 \\u0e44\\u0e0a\\u0e22\\u0e0a\\u0e19\\u0e30 \\u0e40\\u0e1b\\u0e47\\u0e19\\u0e40\\u0e08\\u0e49\\u0e32\\u0e2b\\u0e19\\u0e49\\u0e32\\u0e17\\u0e35\\u0e48\\u0e1b\\u0e23\\u0e30\\u0e08\\u0e33\\u0e28\\u0e39\\u0e19\\u0e22\\u0e4c \\u0e42\\u0e14\\u0e22\\u0e21\\u0e35\\u0e23\\u0e2d\\u0e07\\u0e2b\\u0e31\\u0e27\\u0e2b\\u0e19\\u0e49\\u0e32\\u0e40\\u0e08\\u0e49\\u0e32\\u0e2b\\u0e19\\u0e49\\u0e32\\u0e17\\u0e35\\u0e48\\u0e1b\\u0e23\\u0e30\\u0e08\\u0e33\\u0e28\\u0e39\\u0e19\\u0e22\\u0e4c\\u0e2d\\u0e35\\u0e01 12 \\u0e04\\u0e19 \\u0e19\\u0e2d\\u0e01\\u0e08\\u0e32\\u0e01\\u0e19\\u0e35\\u0e49 \\u0e22\\u0e31\\u0e07\\u0e41\\u0e15\\u0e48\\u0e07\\u0e15\\u0e31\\u0e49\\u0e07\\u0e40\\u0e08\\u0e49\\u0e32\\u0e2b\\u0e19\\u0e49\\u0e32\\u0e17\\u0e35\\u0e48\\u0e1b\\u0e23\\u0e30\\u0e08\\u0e33\\u0e28\\u0e39\\u0e19\\u0e22\\u0e4c \\u0e17\\u0e35\\u0e48\\u0e40\\u0e1b\\u0e47\\u0e19\\u0e01\\u0e23\\u0e23\\u0e21\\u0e01\\u0e32\\u0e23\\u0e2a\\u0e20\\u0e32\\u0e17\\u0e19\\u0e32\\u0e22\\u0e04\\u0e27\\u0e32\\u0e21\\u0e43\\u0e19 3 \\u0e08\\u0e31\\u0e07\\u0e2b\\u0e27\\u0e31\\u0e14\\u0e0a\\u0e32\\u0e22\\u0e41\\u0e14\\u0e19\\u0e20\\u0e32\\u0e04\\u0e43\\u0e15\\u0e49\\u0e2d\\u0e35\\u0e01\\u0e08\\u0e31\\u0e07\\u0e2b\\u0e27\\u0e31\\u0e14\\u0e25\\u0e30 13 \\u0e04\\u0e19\\n\\n\\u00a0\\n\\n\\u0e19\\u0e32\\u0e22\\u0e2a\\u0e21\\u0e31\\u0e04\\u0e23 \\u0e41\\u0e16\\u0e25\\u0e07\\u0e2d\\u0e35\\u0e01\\u0e27\\u0e48\\u0e32 \\u0e28\\u0e39\\u0e19\\u0e22\\u0e4c\\u0e14\\u0e31\\u0e07\\u0e01\\u0e25\\u0e48\\u0e32\\u0e27\\u0e40\\u0e1b\\u0e47\\u0e19\\u0e42\\u0e04\\u0e23\\u0e07\\u0e01\\u0e32\\u0e23\\u0e19\\u0e33\\u0e23\\u0e48\\u0e2d\\u0e07\\u0e02\\u0e2d\\u0e07 \\u0e01\\u0e2d\\u0e2a. \\u0e17\\u0e35\\u0e48\\u0e15\\u0e49\\u0e2d\\u0e07\\u0e01\\u0e32\\u0e23\\u0e40\\u0e2b\\u0e47\\u0e19\\u0e01\\u0e25\\u0e44\\u0e01\\u0e01\\u0e32\\u0e23\\u0e14\\u0e33\\u0e40\\u0e19\\u0e34\\u0e19\\u0e01\\u0e32\\u0e23\\u0e22\\u0e38\\u0e15\\u0e34\\u0e18\\u0e23\\u0e23\\u0e21 \\u0e41\\u0e25\\u0e30\\u0e01\\u0e32\\u0e23\\u0e0a\\u0e48\\u0e27\\u0e22\\u0e40\\u0e2b\\u0e25\\u0e37\\u0e2d\\u0e17\\u0e32\\u0e07\\u0e01\\u0e0e\\u0e2b\\u0e21\\u0e32\\u0e22\\u0e43\\u0e2b\\u0e49\\u0e01\\u0e31\\u0e1a\\u0e1b\\u0e23\\u0e30\\u0e0a\\u0e32\\u0e0a\\u0e19\\u0e43\\u0e19\\u0e1e\\u0e37\\u0e49\\u0e19\\u0e17\\u0e35\\u0e48\\u0e43\\u0e2b\\u0e49\\u0e21\\u0e32\\u0e01\\u0e17\\u0e35\\u0e48\\u0e2a\\u0e38\\u0e14 \\u0e0b\\u0e36\\u0e48\\u0e07 \\u0e01\\u0e2d\\u0e2a. \\u0e43\\u0e2b\\u0e49\\u0e01\\u0e32\\u0e23\\u0e2a\\u0e19\\u0e31\\u0e1a\\u0e2a\\u0e19\\u0e38\\u0e19\\u0e07\\u0e1a\\u0e1b\\u0e23\\u0e30\\u0e21\\u0e32\\u0e13\\u0e43\\u0e19\\u0e01\\u0e32\\u0e23\\u0e02\\u0e22\\u0e32\\u0e22\\u0e08\\u0e38\\u0e14\\u0e1a\\u0e23\\u0e34\\u0e01\\u0e32\\u0e23\\u0e21\\u0e35\\u0e21\\u0e32\\u0e01\\u0e02\\u0e36\\u0e49\\u0e19 \\u0e2a\\u0e32\\u0e21\\u0e32\\u0e23\\u0e16\\u0e2d\\u0e2d\\u0e01\\u0e44\\u0e1b\\u0e1e\\u0e1a\\u0e1b\\u0e23\\u0e30\\u0e0a\\u0e32\\u0e0a\\u0e19\\u0e44\\u0e14\\u0e49\\u0e21\\u0e32\\u0e01\\u0e02\\u0e36\\u0e49\\u0e19 \\u0e43\\u0e19\\u0e01\\u0e23\\u0e13\\u0e35\\u0e17\\u0e35\\u0e48\\u0e1b\\u0e23\\u0e30\\u0e0a\\u0e32\\u0e0a\\u0e19\\u0e15\\u0e01\\u0e40\\u0e1b\\u0e47\\u0e19\\u0e1c\\u0e39\\u0e49\\u0e15\\u0e49\\u0e2d\\u0e07\\u0e2b\\u0e32\\u0e43\\u0e19 3 \\u0e08\\u0e31\\u0e07\\u0e2b\\u0e27\\u0e31\\u0e14\\u0e0a\\u0e32\\u0e22\\u0e41\\u0e14\\u0e19\\u0e20\\u0e32\\u0e04\\u0e43\\u0e15\\u0e49\\n\",\n          \"\\u0e40\\u0e04\\u0e23\\u0e37\\u0e2d\\u0e02\\u0e48\\u0e32\\u0e22\\u0e0a\\u0e38\\u0e21\\u0e0a\\u0e19\\u0e41\\u0e25\\u0e30\\u0e20\\u0e32\\u0e04\\u0e1b\\u0e23\\u0e30\\u0e0a\\u0e32\\u0e2a\\u0e31\\u0e07\\u0e04\\u0e21\\u0e40\\u0e23\\u0e35\\u0e22\\u0e01\\u0e23\\u0e49\\u0e2d\\u0e07\\u0e43\\u0e2b\\u0e49\\u0e23\\u0e31\\u0e10\\u0e1a\\u0e32\\u0e25\\u0e41\\u0e25\\u0e30\\u0e2b\\u0e19\\u0e48\\u0e27\\u0e22\\u0e07\\u0e32\\u0e19\\u0e08\\u0e32\\u0e01\\u0e44\\u0e17\\u0e22 \\u2018\\u0e04\\u0e38\\u0e49\\u0e21\\u0e04\\u0e23\\u0e2d\\u0e07 \\u0e40\\u0e04\\u0e32\\u0e23\\u0e1e \\u0e41\\u0e25\\u0e30\\u0e40\\u0e22\\u0e35\\u0e22\\u0e27\\u0e22\\u0e32\\u2019 \\u0e40\\u0e21\\u0e37\\u0e48\\u0e2d\\u0e40\\u0e01\\u0e34\\u0e14\\u0e01\\u0e32\\u0e23\\u0e1b\\u0e0f\\u0e34\\u0e1a\\u0e31\\u0e15\\u0e34\\u0e21\\u0e34\\u0e0a\\u0e2d\\u0e1a\\u0e14\\u0e49\\u0e32\\u0e19\\u0e2a\\u0e34\\u0e17\\u0e18\\u0e34\\u0e21\\u0e19\\u0e38\\u0e29\\u0e22\\u0e0a\\u0e19\\u0e40\\u0e19\\u0e37\\u0e48\\u0e2d\\u0e07\\u0e08\\u0e32\\u0e01\\u0e01\\u0e32\\u0e23\\u0e25\\u0e07\\u0e17\\u0e38\\u0e19\\u0e02\\u0e49\\u0e32\\u0e21\\u0e1e\\u0e23\\u0e21\\u0e41\\u0e14\\u0e19\\n\\n26 \\u0e01.\\u0e1e. 2560 \\u0e40\\u0e04\\u0e23\\u0e37\\u0e2d\\u0e02\\u0e48\\u0e32\\u0e22\\u0e0a\\u0e38\\u0e21\\u0e0a\\u0e19\\u0e41\\u0e25\\u0e30\\u0e20\\u0e32\\u0e04\\u0e1b\\u0e23\\u0e30\\u0e0a\\u0e32\\u0e2a\\u0e31\\u0e07\\u0e04\\u0e21\\u0e41\\u0e25\\u0e30\\u0e19\\u0e31\\u0e01\\u0e27\\u0e34\\u0e0a\\u0e32\\u0e01\\u0e32\\u0e23\\u0e44\\u0e14\\u0e49\\u0e2d\\u0e2d\\u0e01 \\u2018\\u0e41\\u0e16\\u0e25\\u0e07\\u0e01\\u0e32\\u0e23\\u0e13\\u0e4c\\u0e41\\u0e2a\\u0e14\\u0e07\\u0e08\\u0e38\\u0e14\\u0e22\\u0e37\\u0e19: \\u0e04\\u0e27\\u0e32\\u0e21\\u0e23\\u0e31\\u0e1a\\u0e1c\\u0e34\\u0e14\\u0e0a\\u0e2d\\u0e1a\\u0e02\\u0e49\\u0e32\\u0e21\\u0e1e\\u0e23\\u0e21\\u0e41\\u0e14\\u0e19\\u0e02\\u0e2d\\u0e07\\u0e44\\u0e17\\u0e22\\u0e43\\u0e19\\u0e1b\\u0e23\\u0e30\\u0e40\\u0e17\\u0e28\\u0e40\\u0e1e\\u0e37\\u0e48\\u0e2d\\u0e19\\u0e1a\\u0e49\\u0e32\\u0e19\\u2019 \\u0e23\\u0e30\\u0e1a\\u0e38\\u0e27\\u0e48\\u0e32\\u0e23\\u0e31\\u0e10\\u0e1a\\u0e32\\u0e25\\u0e41\\u0e25\\u0e30\\u0e2b\\u0e19\\u0e48\\u0e27\\u0e22\\u0e07\\u0e32\\u0e19\\u0e08\\u0e32\\u0e01\\u0e44\\u0e17\\u0e22 \\u2018\\u0e04\\u0e38\\u0e49\\u0e21\\u0e04\\u0e23\\u0e2d\\u0e07 \\u0e40\\u0e04\\u0e32\\u0e23\\u0e1e \\u0e41\\u0e25\\u0e30\\u0e40\\u0e22\\u0e35\\u0e22\\u0e27\\u0e22\\u0e32\\u2019 \\u0e40\\u0e21\\u0e37\\u0e48\\u0e2d\\u0e40\\u0e01\\u0e34\\u0e14\\u0e01\\u0e32\\u0e23\\u0e1b\\u0e0f\\u0e34\\u0e1a\\u0e31\\u0e15\\u0e34\\u0e21\\u0e34\\u0e0a\\u0e2d\\u0e1a\\u0e14\\u0e49\\u0e32\\u0e19\\u0e2a\\u0e34\\u0e17\\u0e18\\u0e34\\u0e21\\u0e19\\u0e38\\u0e29\\u0e22\\u0e0a\\u0e19\\u0e40\\u0e19\\u0e37\\u0e48\\u0e2d\\u0e07\\u0e08\\u0e32\\u0e01\\u0e01\\u0e32\\u0e23\\u0e25\\u0e07\\u0e17\\u0e38\\u0e19\\u0e02\\u0e49\\u0e32\\u0e21\\u0e1e\\u0e23\\u0e21\\u0e41\\u0e14\\u0e19 \\u0e23\\u0e27\\u0e21\\u0e17\\u0e31\\u0e49\\u0e07\\u0e15\\u0e49\\u0e2d\\u0e07\\u0e21\\u0e35\\u0e2b\\u0e25\\u0e31\\u0e01\\u0e1b\\u0e23\\u0e30\\u0e01\\u0e31\\u0e19\\u0e27\\u0e48\\u0e32\\u0e21\\u0e32\\u0e15\\u0e23\\u0e10\\u0e32\\u0e19\\u0e01\\u0e32\\u0e23\\u0e04\\u0e38\\u0e49\\u0e21\\u0e04\\u0e23\\u0e2d\\u0e07\\u0e2a\\u0e34\\u0e17\\u0e18\\u0e34\\u0e21\\u0e19\\u0e38\\u0e29\\u0e22\\u0e0a\\u0e19\\u0e41\\u0e25\\u0e30\\u0e2a\\u0e34\\u0e48\\u0e07\\u0e41\\u0e27\\u0e14\\u0e25\\u0e49\\u0e2d\\u0e21 \\u0e08\\u0e30\\u0e15\\u0e49\\u0e2d\\u0e07\\u0e44\\u0e14\\u0e49\\u0e23\\u0e31\\u0e1a\\u0e01\\u0e32\\u0e23\\u0e1b\\u0e0f\\u0e34\\u0e1a\\u0e31\\u0e15\\u0e34\\u0e17\\u0e35\\u0e48\\u0e44\\u0e21\\u0e48\\u0e14\\u0e49\\u0e2d\\u0e22\\u0e44\\u0e1b\\u0e01\\u0e27\\u0e48\\u0e32\\u0e21\\u0e32\\u0e15\\u0e23\\u0e10\\u0e32\\u0e19\\u0e15\\u0e32\\u0e21\\u0e01\\u0e0e\\u0e2b\\u0e21\\u0e32\\u0e22\\u0e44\\u0e17\\u0e22\\u0e43\\u0e19\\u0e1b\\u0e23\\u0e30\\u0e40\\u0e17\\u0e28\\u0e17\\u0e35\\u0e48\\u0e44\\u0e1b\\u0e25\\u0e07\\u0e17\\u0e38\\u0e19\\u0e2b\\u0e23\\u0e37\\u0e2d\\u0e1b\\u0e23\\u0e30\\u0e01\\u0e2d\\u0e1a\\u0e01\\u0e34\\u0e08\\u0e01\\u0e32\\u0e23 \\u0e41\\u0e21\\u0e49\\u0e27\\u0e48\\u0e32\\u0e1b\\u0e23\\u0e30\\u0e40\\u0e17\\u0e28\\u0e19\\u0e31\\u0e49\\u0e19 \\u0e46 \\u0e08\\u0e30\\u0e44\\u0e21\\u0e48\\u0e21\\u0e35\\u0e01\\u0e0e\\u0e2b\\u0e21\\u0e32\\u0e22\\u0e01\\u0e33\\u0e2b\\u0e19\\u0e14\\u0e43\\u0e2b\\u0e49\\u0e40\\u0e1b\\u0e47\\u0e19\\u0e44\\u0e1b\\u0e15\\u0e32\\u0e21\\u0e21\\u0e32\\u0e15\\u0e23\\u0e01\\u0e32\\u0e23\\u0e14\\u0e31\\u0e07\\u0e01\\u0e25\\u0e48\\u0e32\\u0e27\\u0e01\\u0e47\\u0e15\\u0e32\\u0e21\\n\\u0e42\\u0e14\\u0e22\\u0e23\\u0e32\\u0e22\\u0e25\\u0e30\\u0e40\\u0e2d\\u0e35\\u0e22\\u0e14\\u0e17\\u0e31\\u0e49\\u0e07\\u0e2b\\u0e21\\u0e14\\u0e02\\u0e2d\\u0e07\\u0e41\\u0e16\\u0e25\\u0e07\\u0e01\\u0e32\\u0e23\\u0e13\\u0e4c\\u0e41\\u0e2a\\u0e14\\u0e07\\u0e08\\u0e38\\u0e14\\u0e22\\u0e37\\u0e19\\u0e21\\u0e35\\u0e14\\u0e31\\u0e07\\u0e15\\u0e48\\u0e2d\\u0e44\\u0e1b\\u0e19\\u0e35\\u0e49\\n\\u0e41\\u0e16\\u0e25\\u0e07\\u0e01\\u0e32\\u0e23\\u0e13\\u0e4c\\u0e41\\u0e2a\\u0e14\\u0e07\\u0e08\\u0e38\\u0e14\\u0e22\\u0e37\\u0e19:\\u0e04\\u0e27\\u0e32\\u0e21\\u0e23\\u0e31\\u0e1a\\u0e1c\\u0e34\\u0e14\\u0e0a\\u0e2d\\u0e1a\\u0e02\\u0e49\\u0e32\\u0e21\\u0e1e\\u0e23\\u0e21\\u0e41\\u0e14\\u0e19\\u0e02\\u0e2d\\u0e07\\u0e44\\u0e17\\u0e22\\u0e43\\u0e19\\u0e1b\\u0e23\\u0e30\\u0e40\\u0e17\\u0e28\\u0e40\\u0e1e\\u0e37\\u0e48\\u0e2d\\u0e19\\u0e1a\\u0e49\\u0e32\\u0e19\\u0e27\\u0e31\\u0e19\\u0e17\\u0e35\\u0e48 26 \\u0e01\\u0e38\\u0e21\\u0e20\\u0e32\\u0e1e\\u0e31\\u0e19\\u0e18\\u0e4c 2560\\n\\u0e40\\u0e23\\u0e32\\u0e40\\u0e1b\\u0e47\\u0e19\\u0e01\\u0e25\\u0e38\\u0e48\\u0e21\\u0e40\\u0e04\\u0e23\\u0e37\\u0e2d\\u0e02\\u0e48\\u0e32\\u0e22\\u0e0a\\u0e38\\u0e21\\u0e0a\\u0e19\\u0e41\\u0e25\\u0e30\\u0e20\\u0e32\\u0e04\\u0e1b\\u0e23\\u0e30\\u0e0a\\u0e32\\u0e2a\\u0e31\\u0e07\\u0e04\\u0e21\\u0e43\\u0e19\\u0e1b\\u0e23\\u0e30\\u0e40\\u0e17\\u0e28\\u0e44\\u0e17\\u0e22 \\u0e0b\\u0e36\\u0e48\\u0e07\\u0e21\\u0e35\\u0e04\\u0e27\\u0e32\\u0e21\\u0e01\\u0e31\\u0e07\\u0e27\\u0e25\\u0e15\\u0e48\\u0e2d\\u0e1c\\u0e25\\u0e01\\u0e23\\u0e30\\u0e17\\u0e1a\\u0e14\\u0e49\\u0e32\\u0e19\\u0e2a\\u0e34\\u0e17\\u0e18\\u0e34\\u0e21\\u0e19\\u0e38\\u0e29\\u0e22\\u0e0a\\u0e19\\u0e41\\u0e25\\u0e30\\u0e2a\\u0e34\\u0e48\\u0e07\\u0e41\\u0e27\\u0e14\\u0e25\\u0e49\\u0e2d\\u0e21\\u0e2d\\u0e31\\u0e19\\u0e40\\u0e01\\u0e34\\u0e14\\u0e08\\u0e32\\u0e01\\u0e01\\u0e32\\u0e23\\u0e25\\u0e07\\u0e17\\u0e38\\u0e19\\u0e02\\u0e2d\\u0e07\\u0e44\\u0e17\\u0e22\\u0e43\\u0e19\\u0e1b\\u0e23\\u0e30\\u0e40\\u0e17\\u0e28\\u0e40\\u0e1e\\u0e37\\u0e48\\u0e2d\\u0e19\\u0e1a\\u0e49\\u0e32\\u0e19 \\u0e2a\\u0e2d\\u0e14\\u0e04\\u0e25\\u0e49\\u0e2d\\u0e07\\u0e01\\u0e31\\u0e1a\\u0e1e\\u0e31\\u0e19\\u0e18\\u0e01\\u0e34\\u0e08\\u0e02\\u0e2d\\u0e07\\u0e44\\u0e17\\u0e22\\u0e17\\u0e35\\u0e48\\u0e21\\u0e35\\u0e15\\u0e48\\u0e2d\\u0e2b\\u0e25\\u0e31\\u0e01\\u0e01\\u0e32\\u0e23\\u0e0a\\u0e35\\u0e49\\u0e19\\u0e33\\u0e41\\u0e2b\\u0e48\\u0e07\\u0e2a\\u0e2b\\u0e1b\\u0e23\\u0e30\\u0e0a\\u0e32\\u0e0a\\u0e32\\u0e15\\u0e34\\u0e27\\u0e48\\u0e32\\u0e14\\u0e49\\u0e27\\u0e22\\u0e18\\u0e38\\u0e23\\u0e01\\u0e34\\u0e08\\u0e41\\u0e25\\u0e30\\u0e2a\\u0e34\\u0e17\\u0e18\\u0e34\\u0e21\\u0e19\\u0e38\\u0e29\\u0e22\\u0e0a\\u0e19 (Guiding Principles on Business and Human Rights - UNGPs)\\u0e41\\u0e25\\u0e30\\u0e2a\\u0e19\\u0e18\\u0e34\\u0e2a\\u0e31\\u0e0d\\u0e0d\\u0e32\\u0e2a\\u0e34\\u0e17\\u0e18\\u0e34\\u0e21\\u0e19\\u0e38\\u0e29\\u0e22\\u0e0a\\u0e19\\u0e23\\u0e30\\u0e2b\\u0e27\\u0e48\\u0e32\\u0e07\\u0e1b\\u0e23\\u0e30\\u0e40\\u0e17\\u0e28\\u0e09\\u0e1a\\u0e31\\u0e1a\\u0e15\\u0e48\\u0e32\\u0e07 \\u0e46 \\u0e40\\u0e23\\u0e32\\u0e40\\u0e23\\u0e35\\u0e22\\u0e01\\u0e23\\u0e49\\u0e2d\\u0e07\\u0e23\\u0e31\\u0e10\\u0e1a\\u0e32\\u0e25\\u0e41\\u0e25\\u0e30\\u0e2b\\u0e19\\u0e48\\u0e27\\u0e22\\u0e07\\u0e32\\u0e19\\u0e02\\u0e2d\\u0e07\\u0e44\\u0e17\\u0e22\\u0e43\\u0e2b\\u0e49\\u0e01\\u0e33\\u0e2b\\u0e19\\u0e14\\u0e01\\u0e25\\u0e44\\u0e01\\u0e17\\u0e35\\u0e48\\u0e40\\u0e02\\u0e49\\u0e21\\u0e41\\u0e02\\u0e47\\u0e07 \\u0e40\\u0e1e\\u0e37\\u0e48\\u0e2d\\u0e1b\\u0e23\\u0e30\\u0e01\\u0e31\\u0e19\\u0e43\\u0e2b\\u0e49\\u0e40\\u0e01\\u0e34\\u0e14\\u0e04\\u0e27\\u0e32\\u0e21\\u0e42\\u0e1b\\u0e23\\u0e48\\u0e07\\u0e43\\u0e2a\\u0e41\\u0e25\\u0e30\\u0e01\\u0e32\\u0e23\\u0e1b\\u0e0f\\u0e34\\u0e1a\\u0e31\\u0e15\\u0e34\\u0e15\\u0e32\\u0e21\\u0e21\\u0e32\\u0e15\\u0e23\\u0e10\\u0e32\\u0e19\\u0e2a\\u0e34\\u0e17\\u0e18\\u0e34\\u0e21\\u0e19\\u0e38\\u0e29\\u0e22\\u0e0a\\u0e19\\u0e41\\u0e25\\u0e30\\u0e2a\\u0e34\\u0e48\\u0e07\\u0e41\\u0e27\\u0e14\\u0e25\\u0e49\\u0e2d\\u0e21 \\u0e41\\u0e25\\u0e30\\u0e43\\u0e2b\\u0e49\\u0e40\\u0e1b\\u0e47\\u0e19\\u0e41\\u0e19\\u0e27\\u0e17\\u0e32\\u0e07\\u0e01\\u0e32\\u0e23\\u0e14\\u0e33\\u0e40\\u0e19\\u0e34\\u0e19\\u0e42\\u0e04\\u0e23\\u0e07\\u0e01\\u0e32\\u0e23\\u0e41\\u0e25\\u0e30\\u0e18\\u0e38\\u0e23\\u0e01\\u0e34\\u0e08\\u0e43\\u0e19\\u0e15\\u0e48\\u0e32\\u0e07\\u0e1b\\u0e23\\u0e30\\u0e40\\u0e17\\u0e28\\u0e02\\u0e2d\\u0e07\\u0e27\\u0e34\\u0e2a\\u0e32\\u0e2b\\u0e01\\u0e34\\u0e08\\u0e08\\u0e32\\u0e01\\u0e44\\u0e17\\u0e22\\n\\u00a0\\n\\u0e01\\u0e32\\u0e23\\u0e25\\u0e07\\u0e17\\u0e38\\u0e19\\u0e02\\u0e49\\u0e32\\u0e21\\u0e1e\\u0e23\\u0e21\\u0e41\\u0e14\\u0e19\\u0e02\\u0e2d\\u0e07\\u0e44\\u0e17\\u0e22\\u0e43\\u0e19\\u0e20\\u0e39\\u0e21\\u0e34\\u0e20\\u0e32\\u0e04\\u0e40\\u0e2d\\u0e40\\u0e0a\\u0e35\\u0e22\\u0e15\\u0e30\\u0e27\\u0e31\\u0e19\\u0e2d\\u0e2d\\u0e01\\u0e40\\u0e09\\u0e35\\u0e22\\u0e07\\u0e43\\u0e15\\u0e49\\u0e40\\u0e1e\\u0e34\\u0e48\\u0e21\\u0e02\\u0e36\\u0e49\\u0e19\\u0e2d\\u0e22\\u0e48\\u0e32\\u0e07\\u0e21\\u0e32\\u0e01\\u0e43\\u0e19\\u0e0a\\u0e48\\u0e27\\u0e07\\u0e2b\\u0e25\\u0e32\\u0e22\\u0e1b\\u0e35\\u0e17\\u0e35\\u0e48\\u0e1c\\u0e48\\u0e32\\u0e19\\u0e21\\u0e32 \\u0e17\\u0e31\\u0e49\\u0e07\\u0e17\\u0e35\\u0e48\\u0e40\\u0e1b\\u0e47\\u0e19\\u0e42\\u0e04\\u0e23\\u0e07\\u0e01\\u0e32\\u0e23\\u0e0b\\u0e36\\u0e48\\u0e07\\u0e44\\u0e14\\u0e49\\u0e23\\u0e31\\u0e1a\\u0e04\\u0e27\\u0e32\\u0e21\\u0e2a\\u0e19\\u0e31\\u0e1a\\u0e2a\\u0e19\\u0e38\\u0e19\\u0e08\\u0e32\\u0e01\\u0e23\\u0e31\\u0e10\\u0e41\\u0e25\\u0e30\\u0e42\\u0e04\\u0e23\\u0e07\\u0e01\\u0e32\\u0e23\\u0e02\\u0e2d\\u0e07\\u0e40\\u0e2d\\u0e01\\u0e0a\\u0e19 \\u0e2a\\u0e48\\u0e07\\u0e1c\\u0e25\\u0e43\\u0e2b\\u0e49\\u0e40\\u0e01\\u0e34\\u0e14\\u0e02\\u0e49\\u0e2d\\u0e01\\u0e31\\u0e07\\u0e27\\u0e25\\u0e40\\u0e19\\u0e37\\u0e48\\u0e2d\\u0e07\\u0e08\\u0e32\\u0e01\\u0e44\\u0e21\\u0e48\\u0e21\\u0e35\\u0e01\\u0e32\\u0e23\\u0e15\\u0e23\\u0e27\\u0e08\\u0e2a\\u0e2d\\u0e1a\\u0e1c\\u0e25\\u0e01\\u0e23\\u0e30\\u0e17\\u0e1a\\u0e14\\u0e49\\u0e32\\u0e19\\u0e2a\\u0e34\\u0e17\\u0e18\\u0e34\\u0e21\\u0e19\\u0e38\\u0e29\\u0e22\\u0e0a\\u0e19\\u0e41\\u0e25\\u0e30\\u0e2a\\u0e34\\u0e48\\u0e07\\u0e41\\u0e27\\u0e14\\u0e25\\u0e49\\u0e2d\\u0e21\\u0e2d\\u0e31\\u0e19\\u0e40\\u0e1b\\u0e47\\u0e19\\u0e1c\\u0e25\\u0e21\\u0e32\\u0e08\\u0e32\\u0e01\\u0e01\\u0e32\\u0e23\\u0e25\\u0e07\\u0e17\\u0e38\\u0e19\\u0e40\\u0e2b\\u0e25\\u0e48\\u0e32\\u0e19\\u0e31\\u0e49\\u0e19 \\u0e42\\u0e04\\u0e23\\u0e07\\u0e01\\u0e32\\u0e23\\u0e02\\u0e19\\u0e32\\u0e14\\u0e43\\u0e2b\\u0e0d\\u0e48\\u0e02\\u0e2d\\u0e07\\u0e44\\u0e17\\u0e22\\u0e0b\\u0e36\\u0e48\\u0e07\\u0e25\\u0e07\\u0e17\\u0e38\\u0e19\\u0e43\\u0e19\\u0e1b\\u0e23\\u0e30\\u0e40\\u0e17\\u0e28\\u0e40\\u0e1e\\u0e37\\u0e48\\u0e2d\\u0e19\\u0e1a\\u0e49\\u0e32\\u0e19\\u0e2b\\u0e25\\u0e32\\u0e22\\u0e42\\u0e04\\u0e23\\u0e07\\u0e01\\u0e32\\u0e23 \\u0e40\\u0e0a\\u0e37\\u0e48\\u0e2d\\u0e21\\u0e42\\u0e22\\u0e07\\u0e01\\u0e31\\u0e1a\\u0e01\\u0e32\\u0e23\\u0e25\\u0e30\\u0e40\\u0e21\\u0e34\\u0e14\\u0e2a\\u0e34\\u0e17\\u0e18\\u0e34\\u0e21\\u0e19\\u0e38\\u0e29\\u0e22\\u0e0a\\u0e19 \\u0e44\\u0e21\\u0e48\\u0e27\\u0e48\\u0e32\\u0e08\\u0e30\\u0e40\\u0e1b\\u0e47\\u0e19\\u0e42\\u0e04\\u0e23\\u0e07\\u0e01\\u0e32\\u0e23\\u0e40\\u0e02\\u0e15\\u0e40\\u0e28\\u0e23\\u0e29\\u0e10\\u0e01\\u0e34\\u0e08\\u0e1e\\u0e34\\u0e40\\u0e28\\u0e29\\u0e17\\u0e27\\u0e32\\u0e22 \\u0e40\\u0e02\\u0e37\\u0e48\\u0e2d\\u0e19\\u0e1a\\u0e19\\u0e41\\u0e21\\u0e48\\u0e19\\u0e49\\u0e33\\u0e2a\\u0e32\\u0e25\\u0e30\\u0e27\\u0e34\\u0e19\\u0e02\\u0e2d\\u0e07\\u0e1e\\u0e21\\u0e48\\u0e32 \\u0e44\\u0e23\\u0e48\\u0e2d\\u0e49\\u0e2d\\u0e22\\u0e41\\u0e25\\u0e30\\u0e42\\u0e23\\u0e07\\u0e07\\u0e32\\u0e19\\u0e19\\u0e49\\u0e33\\u0e15\\u0e32\\u0e25\\u0e17\\u0e35\\u0e48\\u0e08\\u0e31\\u0e07\\u0e2b\\u0e27\\u0e31\\u0e14\\u0e40\\u0e01\\u0e32\\u0e30\\u0e01\\u0e07\\u0e41\\u0e25\\u0e30\\u0e42\\u0e2d\\u0e14\\u0e2d\\u0e23\\u0e4c\\u0e40\\u0e21\\u0e35\\u0e22\\u0e19\\u0e40\\u0e08\\u0e22 (\\u0e2d\\u0e38\\u0e14\\u0e23\\u0e21\\u0e35\\u0e0a\\u0e31\\u0e22) \\u0e01\\u0e31\\u0e21\\u0e1e\\u0e39\\u0e0a\\u0e32 \\u0e40\\u0e2b\\u0e21\\u0e37\\u0e2d\\u0e07\\u0e16\\u0e48\\u0e32\\u0e19\\u0e2b\\u0e34\\u0e19\\u0e41\\u0e25\\u0e30\\u0e42\\u0e23\\u0e07\\u0e44\\u0e1f\\u0e1f\\u0e49\\u0e32\\u0e17\\u0e35\\u0e48\\u0e2b\\u0e07\\u0e2a\\u0e32\\u0e40\\u0e02\\u0e37\\u0e48\\u0e2d\\u0e19\\u0e44\\u0e0b\\u0e22\\u0e30\\u0e1a\\u0e38\\u0e23\\u0e35\\u0e41\\u0e25\\u0e30\\u0e40\\u0e02\\u0e37\\u0e48\\u0e2d\\u0e19\\u0e2d\\u0e37\\u0e48\\u0e19 \\u0e46 \\u0e1a\\u0e19\\u0e41\\u0e21\\u0e48\\u0e19\\u0e49\\u0e33\\u0e42\\u0e02\\u0e07\\u0e43\\u0e19 \\u0e2a\\u0e1b\\u0e1b.\\u0e25\\u0e32\\u0e27\\u00a0\\n\\u00a0\\n\\u0e17\\u0e35\\u0e48\\u0e1c\\u0e48\\u0e32\\u0e19\\u0e21\\u0e32\\u0e0a\\u0e38\\u0e21\\u0e0a\\u0e19\\u0e43\\u0e19\\u0e17\\u0e49\\u0e2d\\u0e07\\u0e16\\u0e34\\u0e48\\u0e19\\u0e15\\u0e48\\u0e32\\u0e07\\u0e40\\u0e23\\u0e35\\u0e22\\u0e01\\u0e23\\u0e49\\u0e2d\\u0e07\\u0e43\\u0e2b\\u0e49\\u0e21\\u0e35\\u0e01\\u0e32\\u0e23\\u0e15\\u0e23\\u0e27\\u0e08\\u0e2a\\u0e2d\\u0e1a\\u0e15\\u0e32\\u0e21\\u0e21\\u0e32\\u0e15\\u0e23\\u0e10\\u0e32\\u0e19\\u0e2a\\u0e34\\u0e17\\u0e18\\u0e34\\u0e21\\u0e19\\u0e38\\u0e29\\u0e22\\u0e0a\\u0e19\\u0e41\\u0e25\\u0e30\\u0e2a\\u0e34\\u0e48\\u0e07\\u0e41\\u0e27\\u0e14\\u0e25\\u0e49\\u0e2d\\u0e21 \\u0e17\\u0e31\\u0e49\\u0e07\\u0e19\\u0e35\\u0e49\\u0e42\\u0e14\\u0e22\\u0e21\\u0e35\\u0e01\\u0e32\\u0e23\\u0e1f\\u0e49\\u0e2d\\u0e07\\u0e04\\u0e14\\u0e35\\u0e01\\u0e31\\u0e1a\\u0e28\\u0e32\\u0e25\\u0e44\\u0e17\\u0e22 \\u0e41\\u0e25\\u0e30\\u0e43\\u0e0a\\u0e49\\u0e2a\\u0e34\\u0e17\\u0e18\\u0e34\\u0e02\\u0e2d\\u0e07\\u0e15\\u0e19\\u0e15\\u0e32\\u0e21\\u0e01\\u0e25\\u0e44\\u0e01\\u0e17\\u0e31\\u0e49\\u0e07\\u0e41\\u0e1a\\u0e1a\\u0e01\\u0e36\\u0e48\\u0e07\\u0e17\\u0e32\\u0e07\\u0e01\\u0e32\\u0e23\\u0e41\\u0e25\\u0e30\\u0e01\\u0e25\\u0e44\\u0e01\\u0e2d\\u0e37\\u0e48\\u0e19 \\u0e46 \\u0e17\\u0e35\\u0e48\\u0e44\\u0e21\\u0e48\\u0e43\\u0e0a\\u0e48\\u0e28\\u0e32\\u0e25 \\u0e41\\u0e19\\u0e27\\u0e42\\u0e19\\u0e49\\u0e21\\u0e2a\\u0e33\\u0e04\\u0e31\\u0e0d\\u0e25\\u0e48\\u0e32\\u0e2a\\u0e38\\u0e14\\u0e04\\u0e37\\u0e2d\\u0e04\\u0e13\\u0e30\\u0e01\\u0e23\\u0e23\\u0e21\\u0e01\\u0e32\\u0e23\\u0e2a\\u0e34\\u0e17\\u0e18\\u0e34\\u0e21\\u0e19\\u0e38\\u0e29\\u0e22\\u0e0a\\u0e19\\u0e41\\u0e2b\\u0e48\\u0e07\\u0e0a\\u0e32\\u0e15\\u0e34 (\\u0e01\\u0e2a\\u0e21.) \\u0e44\\u0e14\\u0e49\\u0e2a\\u0e2d\\u0e1a\\u0e2a\\u0e27\\u0e19\\u0e15\\u0e32\\u0e21\\u0e02\\u0e49\\u0e2d\\u0e23\\u0e49\\u0e2d\\u0e07\\u0e40\\u0e23\\u0e35\\u0e22\\u0e19\\u0e2b\\u0e25\\u0e32\\u0e22\\u0e1b\\u0e23\\u0e30\\u0e01\\u0e32\\u0e23\\u0e40\\u0e01\\u0e35\\u0e48\\u0e22\\u0e27\\u0e01\\u0e31\\u0e1a\\u0e01\\u0e32\\u0e23\\u0e25\\u0e07\\u0e17\\u0e38\\u0e19\\u0e02\\u0e49\\u0e32\\u0e21\\u0e1e\\u0e23\\u0e21\\u0e41\\u0e14\\u0e19\\u0e02\\u0e2d\\u0e07\\u0e44\\u0e17\\u0e22 \\u0e41\\u0e25\\u0e30\\u0e44\\u0e14\\u0e49\\u0e08\\u0e31\\u0e14\\u0e17\\u0e33\\u0e02\\u0e31\\u0e49\\u0e19\\u0e15\\u0e2d\\u0e19\\u0e1b\\u0e0f\\u0e34\\u0e1a\\u0e31\\u0e15\\u0e34\\u0e40\\u0e1e\\u0e37\\u0e48\\u0e2d\\u0e01\\u0e33\\u0e2b\\u0e19\\u0e14\\u0e04\\u0e27\\u0e32\\u0e21\\u0e23\\u0e31\\u0e1a\\u0e1c\\u0e34\\u0e14\\u0e0a\\u0e2d\\u0e1a\\u0e14\\u0e49\\u0e32\\u0e19\\u0e2a\\u0e34\\u0e17\\u0e18\\u0e34\\u0e21\\u0e19\\u0e38\\u0e29\\u0e22\\u0e0a\\u0e19\\u0e02\\u0e49\\u0e32\\u0e21\\u0e1e\\u0e23\\u0e21\\u0e41\\u0e14\\u0e19 (extraterritorial human rights obligations - ETOs) \\u0e2d\\u0e22\\u0e48\\u0e32\\u0e07\\u0e40\\u0e1b\\u0e47\\u0e19\\u0e23\\u0e39\\u0e1b\\u0e18\\u0e23\\u0e23\\u0e21\\u0e2a\\u0e33\\u0e2b\\u0e23\\u0e31\\u0e1a\\u0e17\\u0e31\\u0e49\\u0e07\\u0e2b\\u0e19\\u0e48\\u0e27\\u0e22\\u0e07\\u0e32\\u0e19\\u0e02\\u0e2d\\u0e07\\u0e23\\u0e31\\u0e10\\u0e41\\u0e25\\u0e30\\u0e2b\\u0e19\\u0e48\\u0e27\\u0e22\\u0e07\\u0e32\\u0e19\\u0e2d\\u0e37\\u0e48\\u0e19\\u0e17\\u0e35\\u0e48\\u0e08\\u0e30\\u0e15\\u0e49\\u0e2d\\u0e07\\u0e1b\\u0e0f\\u0e34\\u0e1a\\u0e31\\u0e15\\u0e34\\u0e15\\u0e32\\u0e21 \\u0e41\\u0e25\\u0e30\\u0e40\\u0e1e\\u0e37\\u0e48\\u0e2d\\u0e43\\u0e2b\\u0e49\\u0e21\\u0e35\\u0e01\\u0e32\\u0e23\\u0e15\\u0e23\\u0e27\\u0e08\\u0e2a\\u0e2d\\u0e1a\\u0e40\\u0e21\\u0e37\\u0e48\\u0e2d\\u0e40\\u0e01\\u0e34\\u0e14\\u0e01\\u0e32\\u0e23\\u0e25\\u0e30\\u0e40\\u0e21\\u0e34\\u0e14\\u0e02\\u0e36\\u0e49\\u0e19 \\u0e1c\\u0e25\\u0e08\\u0e32\\u0e01\\u0e01\\u0e32\\u0e23\\u0e2a\\u0e2d\\u0e1a\\u0e2a\\u0e27\\u0e19\\u0e40\\u0e1b\\u0e47\\u0e19\\u0e40\\u0e2b\\u0e15\\u0e38\\u0e43\\u0e2b\\u0e49 \\u0e01\\u0e2a\\u0e21.\\u0e01\\u0e33\\u0e2b\\u0e19\\u0e14\\u0e02\\u0e49\\u0e2d\\u0e40\\u0e2a\\u0e19\\u0e2d\\u0e41\\u0e19\\u0e30\\u0e40\\u0e0a\\u0e34\\u0e07\\u0e19\\u0e42\\u0e22\\u0e1a\\u0e32\\u0e22\\u0e15\\u0e48\\u0e2d\\u0e23\\u0e31\\u0e10\\u0e1a\\u0e32\\u0e25\\u0e44\\u0e17\\u0e22 \\u0e40\\u0e1e\\u0e37\\u0e48\\u0e2d\\u0e1b\\u0e23\\u0e30\\u0e01\\u0e31\\u0e19\\u0e43\\u0e2b\\u0e49\\u0e21\\u0e35\\u0e01\\u0e32\\u0e23\\u0e1b\\u0e0f\\u0e34\\u0e1a\\u0e31\\u0e15\\u0e34\\u0e15\\u0e32\\u0e21\\u0e2b\\u0e25\\u0e31\\u0e01\\u0e01\\u0e32\\u0e23\\u0e0a\\u0e35\\u0e49\\u0e19\\u0e33\\u0e41\\u0e2b\\u0e48\\u0e07\\u0e2a\\u0e2b\\u0e1b\\u0e23\\u0e30\\u0e0a\\u0e32\\u0e0a\\u0e32\\u0e15\\u0e34 \\u0e04\\u0e13\\u0e30\\u0e23\\u0e31\\u0e10\\u0e21\\u0e19\\u0e15\\u0e23\\u0e35\\u0e22\\u0e2d\\u0e21\\u0e23\\u0e31\\u0e1a\\u0e15\\u0e32\\u0e21\\u0e02\\u0e49\\u0e2d\\u0e40\\u0e2a\\u0e19\\u0e2d\\u0e41\\u0e19\\u0e30\\u0e40\\u0e2b\\u0e25\\u0e48\\u0e32\\u0e19\\u0e35\\u0e49\\u0e15\\u0e32\\u0e21\\u0e17\\u0e35\\u0e48\\u0e1b\\u0e23\\u0e32\\u0e01\\u0e0f\\u0e43\\u0e19\\u0e21\\u0e15\\u0e34\\u0e04\\u0e13\\u0e30\\u0e23\\u0e31\\u0e10\\u0e21\\u0e19\\u0e15\\u0e23\\u0e35\\u0e40\\u0e21\\u0e37\\u0e48\\u0e2d\\u0e27\\u0e31\\u0e19\\u0e17\\u0e35\\u0e4816 \\u0e1e\\u0e24\\u0e29\\u0e20\\u0e32\\u0e04\\u0e21 2559 \\u0e40\\u0e01\\u0e35\\u0e48\\u0e22\\u0e27\\u0e01\\u0e31\\u0e1a\\u0e04\\u0e27\\u0e32\\u0e21\\u0e23\\u0e31\\u0e1a\\u0e1c\\u0e34\\u0e14\\u0e0a\\u0e2d\\u0e1a\\u0e02\\u0e49\\u0e32\\u0e21\\u0e1e\\u0e23\\u0e21\\u0e41\\u0e14\\u0e19 (Extra-Territorial Obligations - ETOs)/\\u0e14\\u0e49\\u0e32\\u0e19\\u0e18\\u0e38\\u0e23\\u0e01\\u0e34\\u0e08\\u0e41\\u0e25\\u0e30\\u0e2a\\u0e34\\u0e17\\u0e18\\u0e34\\u0e21\\u0e19\\u0e38\\u0e29\\u0e22\\u0e0a\\u0e19 (Business and Human Rights - B-HR) \\u0e41\\u0e25\\u0e30\\u0e40\\u0e01\\u0e35\\u0e48\\u0e22\\u0e27\\u0e01\\u0e31\\u0e1a\\u0e01\\u0e32\\u0e23\\u0e25\\u0e07\\u0e17\\u0e38\\u0e19\\u0e43\\u0e19\\u0e42\\u0e04\\u0e23\\u0e07\\u0e01\\u0e32\\u0e23\\u0e1e\\u0e31\\u0e12\\u0e19\\u0e32\\u0e02\\u0e49\\u0e32\\u0e21\\u0e1e\\u0e23\\u0e21\\u0e41\\u0e14\\u0e19\\u0e02\\u0e2d\\u0e07\\u0e44\\u0e17\\u0e22\\u0e43\\u0e19\\u0e40\\u0e2d\\u0e40\\u0e0a\\u0e35\\u0e22\\u0e15\\u0e30\\u0e27\\u0e31\\u0e19\\u0e2d\\u0e2d\\u0e01\\u0e40\\u0e09\\u0e35\\u0e22\\u0e07\\u0e43\\u0e15\\u0e49\\n\\u00a0\\n\\u0e2b\\u0e25\\u0e31\\u0e07\\u0e08\\u0e32\\u0e01\\u0e21\\u0e35\\u0e21\\u0e15\\u0e34\\u0e04\\u0e13\\u0e30\\u0e23\\u0e31\\u0e10\\u0e21\\u0e19\\u0e15\\u0e23\\u0e35 \\u0e01\\u0e23\\u0e30\\u0e17\\u0e23\\u0e27\\u0e07\\u0e01\\u0e32\\u0e23\\u0e15\\u0e48\\u0e32\\u0e07\\u0e1b\\u0e23\\u0e30\\u0e40\\u0e17\\u0e28\\u0e44\\u0e14\\u0e49\\u0e40\\u0e23\\u0e35\\u0e22\\u0e01\\u0e1b\\u0e23\\u0e30\\u0e0a\\u0e38\\u0e21\\u0e2b\\u0e25\\u0e32\\u0e22\\u0e2b\\u0e19\\u0e48\\u0e27\\u0e22\\u0e07\\u0e32\\u0e19\\u0e02\\u0e2d\\u0e07\\u0e23\\u0e31\\u0e10[1] \\u0e41\\u0e25\\u0e30\\u0e21\\u0e35\\u0e02\\u0e49\\u0e2d\\u0e40\\u0e2a\\u0e19\\u0e2d\\u0e41\\u0e19\\u0e30\\u0e27\\u0e48\\u0e32\\u0e43\\u0e2b\\u0e49\\u0e01\\u0e33\\u0e2b\\u0e19\\u0e14\\u0e43\\u0e2b\\u0e49\\u0e21\\u0e35\\u0e01\\u0e25\\u0e44\\u0e01\\u0e40\\u0e1e\\u0e37\\u0e48\\u0e2d\\u0e1b\\u0e23\\u0e30\\u0e01\\u0e31\\u0e19\\u0e43\\u0e2b\\u0e49\\u0e20\\u0e32\\u0e04\\u0e40\\u0e2d\\u0e01\\u0e0a\\u0e19\\u0e40\\u0e04\\u0e32\\u0e23\\u0e1e\\u0e2a\\u0e34\\u0e17\\u0e18\\u0e34\\u0e21\\u0e19\\u0e38\\u0e29\\u0e22\\u0e0a\\u0e19\\u0e02\\u0e31\\u0e49\\u0e19\\u0e1e\\u0e37\\u0e49\\u0e19\\u0e10\\u0e32\\u0e19\\u0e0b\\u0e36\\u0e48\\u0e07\\u0e40\\u0e1b\\u0e47\\u0e19\\u0e44\\u0e1b\\u0e15\\u0e32\\u0e21\\u0e19\\u0e31\\u0e22\\u0e41\\u0e2b\\u0e48\\u0e07\\u0e2b\\u0e25\\u0e31\\u0e01\\u0e01\\u0e32\\u0e23\\u0e0a\\u0e35\\u0e49\\u0e19\\u0e33\\u0e41\\u0e2b\\u0e48\\u0e07\\u0e2a\\u0e2b\\u0e1b\\u0e23\\u0e30\\u0e0a\\u0e32\\u0e0a\\u0e32\\u0e15\\u0e34\\n\\u00a0\\n\\u0e40\\u0e23\\u0e32\\u0e08\\u0e36\\u0e07\\u0e40\\u0e23\\u0e35\\u0e22\\u0e01\\u0e23\\u0e49\\u0e2d\\u0e07\\u0e43\\u0e2b\\u0e49\\u0e23\\u0e31\\u0e10\\u0e1a\\u0e32\\u0e25\\u0e44\\u0e17\\u0e22\\u0e1b\\u0e0f\\u0e34\\u0e1a\\u0e31\\u0e15\\u0e34\\u0e15\\u0e32\\u0e21\\u0e02\\u0e49\\u0e2d\\u0e40\\u0e2a\\u0e19\\u0e2d\\u0e41\\u0e19\\u0e30\\u0e40\\u0e2b\\u0e25\\u0e48\\u0e32\\u0e19\\u0e35\\u0e49 \\u0e41\\u0e25\\u0e30\\u0e43\\u0e2b\\u0e49\\u0e01\\u0e33\\u0e2b\\u0e19\\u0e14\\u0e43\\u0e2b\\u0e49\\u0e21\\u0e35\\u0e01\\u0e25\\u0e44\\u0e01\\u0e14\\u0e31\\u0e07\\u0e01\\u0e25\\u0e48\\u0e32\\u0e27 \\u0e23\\u0e27\\u0e21\\u0e17\\u0e31\\u0e49\\u0e07\\u0e21\\u0e32\\u0e15\\u0e23\\u0e01\\u0e32\\u0e23\\u0e2d\\u0e37\\u0e48\\u0e19 \\u0e46 \\u0e40\\u0e1e\\u0e37\\u0e48\\u0e2d\\u0e1b\\u0e23\\u0e30\\u0e01\\u0e31\\u0e19\\u0e43\\u0e2b\\u0e49\\u0e2a\\u0e32\\u0e21\\u0e32\\u0e23\\u0e16\\u0e1b\\u0e0f\\u0e34\\u0e1a\\u0e31\\u0e15\\u0e34\\u0e15\\u0e32\\u0e21\\u0e0b\\u0e36\\u0e48\\u0e07\\u0e2b\\u0e25\\u0e31\\u0e01\\u0e01\\u0e32\\u0e23\\u0e1e\\u0e37\\u0e49\\u0e19\\u0e10\\u0e32\\u0e19\\u0e2a\\u0e32\\u0e21\\u0e1b\\u0e23\\u0e30\\u0e01\\u0e32\\u0e23\\u0e02\\u0e2d\\u0e07\\u0e2b\\u0e25\\u0e31\\u0e01\\u0e01\\u0e32\\u0e23\\u0e0a\\u0e35\\u0e49\\u0e19\\u0e33\\u0e41\\u0e2b\\u0e48\\u0e07\\u0e2a\\u0e2b\\u0e1b\\u0e23\\u0e30\\u0e0a\\u0e32\\u0e0a\\u0e32\\u0e15\\u0e34 \\u0e41\\u0e25\\u0e30\\u0e1e\\u0e31\\u0e19\\u0e18\\u0e01\\u0e23\\u0e13\\u0e35\\u0e02\\u0e2d\\u0e07\\u0e23\\u0e31\\u0e10\\u0e1a\\u0e32\\u0e25\\u0e23\\u0e27\\u0e21\\u0e17\\u0e31\\u0e49\\u0e07\\u0e2b\\u0e19\\u0e48\\u0e27\\u0e22\\u0e07\\u0e32\\u0e19\\u0e02\\u0e2d\\u0e07\\u0e23\\u0e31\\u0e10\\u0e17\\u0e35\\u0e48\\u0e08\\u0e30\\u0e15\\u0e49\\u0e2d\\u0e07\\u0e04\\u0e38\\u0e49\\u0e21\\u0e04\\u0e23\\u0e2d\\u0e07 \\u0e40\\u0e04\\u0e32\\u0e23\\u0e1e \\u0e41\\u0e25\\u0e30\\u0e40\\u0e22\\u0e35\\u0e22\\u0e27\\u0e22\\u0e32\\u0e40\\u0e21\\u0e37\\u0e48\\u0e2d\\u0e40\\u0e01\\u0e34\\u0e14\\u0e01\\u0e32\\u0e23\\u0e1b\\u0e0f\\u0e34\\u0e1a\\u0e31\\u0e15\\u0e34\\u0e21\\u0e34\\u0e0a\\u0e2d\\u0e1a\\u0e14\\u0e49\\u0e32\\u0e19\\u0e2a\\u0e34\\u0e17\\u0e18\\u0e34\\u0e21\\u0e19\\u0e38\\u0e29\\u0e22\\u0e0a\\u0e19\\u0e40\\u0e19\\u0e37\\u0e48\\u0e2d\\u0e07\\u0e08\\u0e32\\u0e01\\u0e01\\u0e32\\u0e23\\u0e25\\u0e07\\u0e17\\u0e38\\u0e19\\u0e02\\u0e49\\u0e32\\u0e21\\u0e1e\\u0e23\\u0e21\\u0e41\\u0e14\\u0e19\\n\\u00a0\\n\\u0e42\\u0e14\\u0e22\\u0e40\\u0e09\\u0e1e\\u0e32\\u0e30\\u0e2d\\u0e22\\u0e48\\u0e32\\u0e07\\u0e22\\u0e34\\u0e48\\u0e07\\u0e23\\u0e31\\u0e10\\u0e1a\\u0e32\\u0e25\\u0e44\\u0e17\\u0e22\\u0e08\\u0e30\\u0e15\\u0e49\\u0e2d\\u0e07:\\n\\u00b7\\u00a0\\u00a0\\u00a0\\u00a0\\u00a0\\u00a0\\u00a0 \\u0e41\\u0e2a\\u0e14\\u0e07\\u0e04\\u0e27\\u0e32\\u0e21\\u0e04\\u0e32\\u0e14\\u0e2b\\u0e27\\u0e31\\u0e07\\u0e17\\u0e35\\u0e48\\u0e0a\\u0e31\\u0e14\\u0e40\\u0e08\\u0e19\\u0e27\\u0e48\\u0e32\\u0e1a\\u0e23\\u0e34\\u0e29\\u0e31\\u0e17\\u0e40\\u0e2d\\u0e01\\u0e0a\\u0e19\\u0e41\\u0e25\\u0e30\\u0e23\\u0e31\\u0e10\\u0e27\\u0e34\\u0e2a\\u0e32\\u0e2b\\u0e01\\u0e34\\u0e08\\u0e08\\u0e32\\u0e01\\u0e44\\u0e17\\u0e22\\u0e15\\u0e49\\u0e2d\\u0e07\\u0e40\\u0e04\\u0e32\\u0e23\\u0e1e\\u0e2a\\u0e34\\u0e17\\u0e18\\u0e34\\u0e21\\u0e19\\u0e38\\u0e29\\u0e22\\u0e0a\\u0e19\\u0e43\\u0e19\\u0e23\\u0e30\\u0e2b\\u0e27\\u0e48\\u0e32\\u0e07\\u0e01\\u0e32\\u0e23\\u0e14\\u0e33\\u0e40\\u0e19\\u0e34\\u0e19\\u0e07\\u0e32\\u0e19\\u0e43\\u0e19\\u0e15\\u0e48\\u0e32\\u0e07\\u0e1b\\u0e23\\u0e30\\u0e40\\u0e17\\u0e28 \\u0e41\\u0e25\\u0e30\\u0e43\\u0e2b\\u0e49\\u0e14\\u0e33\\u0e40\\u0e19\\u0e34\\u0e19\\u0e01\\u0e32\\u0e23\\u0e40\\u0e1e\\u0e37\\u0e48\\u0e2d\\u0e15\\u0e23\\u0e27\\u0e08\\u0e2a\\u0e2d\\u0e1a \\u0e1b\\u0e49\\u0e2d\\u0e07\\u0e01\\u0e31\\u0e19 \\u0e2a\\u0e2d\\u0e1a\\u0e2a\\u0e27\\u0e19 \\u0e25\\u0e07\\u0e42\\u0e17\\u0e29 \\u0e41\\u0e25\\u0e30\\u0e40\\u0e22\\u0e35\\u0e22\\u0e27\\u0e22\\u0e32\\u0e40\\u0e21\\u0e37\\u0e48\\u0e2d\\u0e40\\u0e01\\u0e34\\u0e14\\u0e01\\u0e32\\u0e23\\u0e1b\\u0e0f\\u0e34\\u0e1a\\u0e31\\u0e15\\u0e34\\u0e21\\u0e34\\u0e0a\\u0e2d\\u0e1a\\u0e41\\u0e25\\u0e30\\u0e01\\u0e32\\u0e23\\u0e25\\u0e30\\u0e40\\u0e21\\u0e34\\u0e14\\u0e2a\\u0e34\\u0e17\\u0e18\\u0e34\\u0e21\\u0e19\\u0e38\\u0e29\\u0e22\\u0e0a\\u0e19\\u0e02\\u0e36\\u0e49\\u0e19\\n\\u00b7\\u00a0\\u00a0\\u00a0\\u00a0\\u00a0\\u00a0\\u00a0 \\u0e08\\u0e31\\u0e14\\u0e17\\u0e33\\u0e41\\u0e1c\\u0e19\\u0e1b\\u0e0f\\u0e34\\u0e1a\\u0e31\\u0e15\\u0e34\\u0e01\\u0e32\\u0e23\\u0e23\\u0e30\\u0e14\\u0e31\\u0e1a\\u0e0a\\u0e32\\u0e15\\u0e34\\u0e27\\u0e48\\u0e32\\u0e14\\u0e49\\u0e27\\u0e22\\u0e18\\u0e38\\u0e23\\u0e01\\u0e34\\u0e08\\u0e41\\u0e25\\u0e30\\u0e2a\\u0e34\\u0e17\\u0e18\\u0e34\\u0e21\\u0e19\\u0e38\\u0e29\\u0e22\\u0e0a\\u0e19 \\u0e40\\u0e1e\\u0e37\\u0e48\\u0e2d\\u0e2a\\u0e19\\u0e31\\u0e1a\\u0e2a\\u0e19\\u0e38\\u0e19\\u0e01\\u0e32\\u0e23\\u0e14\\u0e33\\u0e40\\u0e19\\u0e34\\u0e19\\u0e07\\u0e32\\u0e19\\u0e15\\u0e32\\u0e21\\u0e2b\\u0e25\\u0e31\\u0e01\\u0e01\\u0e32\\u0e23\\u0e0a\\u0e35\\u0e49\\u0e19\\u0e33\\u0e41\\u0e2b\\u0e48\\u0e07\\u0e2a\\u0e2b\\u0e1b\\u0e23\\u0e30\\u0e0a\\u0e32\\u0e0a\\u0e32\\u0e15\\u0e34\\u0e27\\u0e48\\u0e32\\u0e14\\u0e49\\u0e27\\u0e22\\u0e18\\u0e38\\u0e23\\u0e01\\u0e34\\u0e08\\u0e41\\u0e25\\u0e30\\u0e2a\\u0e34\\u0e17\\u0e18\\u0e34\\u0e21\\u0e19\\u0e38\\u0e29\\u0e22\\u0e0a\\u0e19 \\u0e23\\u0e27\\u0e21\\u0e17\\u0e31\\u0e49\\u0e07\\u0e43\\u0e19\\u0e2a\\u0e48\\u0e27\\u0e19\\u0e17\\u0e35\\u0e48\\u0e40\\u0e01\\u0e35\\u0e48\\u0e22\\u0e27\\u0e01\\u0e31\\u0e1a\\u0e1e\\u0e31\\u0e19\\u0e18\\u0e01\\u0e23\\u0e13\\u0e35\\u0e19\\u0e2d\\u0e01\\u0e2d\\u0e32\\u0e13\\u0e32\\u0e40\\u0e02\\u0e15\\u0e41\\u0e25\\u0e30\\u0e01\\u0e32\\u0e23\\u0e25\\u0e07\\u0e17\\u0e38\\u0e19\\u0e02\\u0e49\\u0e32\\u0e21\\u0e1e\\u0e23\\u0e21\\u0e41\\u0e14\\u0e19\\n\\u00b7\\u00a0\\u00a0\\u00a0\\u00a0\\u00a0\\u00a0\\u00a0 \\u0e1b\\u0e23\\u0e30\\u0e01\\u0e31\\u0e19\\u0e27\\u0e48\\u0e32\\u0e2b\\u0e19\\u0e48\\u0e27\\u0e22\\u0e07\\u0e32\\u0e19\\u0e18\\u0e38\\u0e23\\u0e01\\u0e34\\u0e08\\u0e02\\u0e2d\\u0e07\\u0e44\\u0e17\\u0e22\\u0e01\\u0e33\\u0e2b\\u0e19\\u0e14\\u0e43\\u0e2b\\u0e49\\u0e21\\u0e35\\u0e19\\u0e42\\u0e22\\u0e1a\\u0e32\\u0e22\\u0e14\\u0e49\\u0e32\\u0e19\\u0e2a\\u0e34\\u0e17\\u0e18\\u0e34\\u0e21\\u0e19\\u0e38\\u0e29\\u0e22\\u0e0a\\u0e19 \\u0e02\\u0e49\\u0e2d\\u0e01\\u0e33\\u0e2b\\u0e19\\u0e14\\u0e43\\u0e2b\\u0e49\\u0e21\\u0e35\\u0e01\\u0e32\\u0e23\\u0e15\\u0e23\\u0e27\\u0e08\\u0e2a\\u0e2d\\u0e1a\\u0e40\\u0e21\\u0e37\\u0e48\\u0e2d\\u0e21\\u0e35\\u0e01\\u0e32\\u0e23\\u0e25\\u0e07\\u0e17\\u0e38\\u0e19\\u0e02\\u0e49\\u0e32\\u0e21\\u0e1e\\u0e23\\u0e21\\u0e41\\u0e14\\u0e19 \\u0e41\\u0e25\\u0e30\\u0e01\\u0e33\\u0e2b\\u0e19\\u0e14\\u0e43\\u0e2b\\u0e49\\u0e21\\u0e35\\u0e02\\u0e31\\u0e49\\u0e19\\u0e15\\u0e2d\\u0e19\\u0e23\\u0e31\\u0e1a\\u0e02\\u0e49\\u0e2d\\u0e23\\u0e49\\u0e2d\\u0e07\\u0e40\\u0e23\\u0e35\\u0e22\\u0e19\\u0e23\\u0e30\\u0e14\\u0e31\\u0e1a\\u0e1a\\u0e23\\u0e34\\u0e29\\u0e31\\u0e17 \\u0e0b\\u0e36\\u0e48\\u0e07\\u0e0a\\u0e38\\u0e21\\u0e0a\\u0e19\\u0e17\\u0e35\\u0e48\\u0e44\\u0e14\\u0e49\\u0e23\\u0e31\\u0e1a\\u0e1c\\u0e25\\u0e01\\u0e23\\u0e30\\u0e17\\u0e1a\\u0e08\\u0e32\\u0e01\\u0e01\\u0e32\\u0e23\\u0e14\\u0e33\\u0e40\\u0e19\\u0e34\\u0e19\\u0e07\\u0e32\\u0e19\\u0e2a\\u0e32\\u0e21\\u0e32\\u0e23\\u0e16\\u0e43\\u0e0a\\u0e49\\u0e2a\\u0e34\\u0e17\\u0e18\\u0e34\\u0e43\\u0e19\\u0e01\\u0e32\\u0e23\\u0e23\\u0e49\\u0e2d\\u0e07\\u0e40\\u0e23\\u0e35\\u0e22\\u0e19\\u0e44\\u0e14\\u0e49\\n\\u00b7\\u00a0\\u00a0\\u00a0\\u00a0\\u00a0\\u00a0\\u00a0 \\u0e14\\u0e33\\u0e40\\u0e19\\u0e34\\u0e19\\u0e01\\u0e32\\u0e23\\u0e40\\u0e1e\\u0e34\\u0e48\\u0e21\\u0e40\\u0e15\\u0e34\\u0e21\\u0e40\\u0e01\\u0e35\\u0e48\\u0e22\\u0e27\\u0e01\\u0e31\\u0e1a\\u0e1e\\u0e31\\u0e19\\u0e18\\u0e01\\u0e23\\u0e13\\u0e35\\u0e02\\u0e2d\\u0e07\\u0e2b\\u0e19\\u0e48\\u0e27\\u0e22\\u0e07\\u0e32\\u0e19\\u0e02\\u0e2d\\u0e07\\u0e23\\u0e31\\u0e10 \\u0e1a\\u0e23\\u0e34\\u0e29\\u0e31\\u0e17\\u0e0b\\u0e36\\u0e48\\u0e07\\u0e40\\u0e1b\\u0e47\\u0e19\\u0e1c\\u0e39\\u0e49\\u0e23\\u0e31\\u0e1a\\u0e40\\u0e2b\\u0e21\\u0e32\\u0e08\\u0e32\\u0e01\\u0e2b\\u0e19\\u0e48\\u0e27\\u0e22\\u0e07\\u0e32\\u0e19\\u0e02\\u0e2d\\u0e07\\u0e23\\u0e31\\u0e10\\u0e0b\\u0e36\\u0e48\\u0e07\\u0e25\\u0e07\\u0e17\\u0e38\\u0e19\\u0e43\\u0e19\\u0e1e\\u0e37\\u0e49\\u0e19\\u0e17\\u0e35\\u0e48\\u0e17\\u0e35\\u0e48\\u0e21\\u0e35\\u0e2a\\u0e07\\u0e04\\u0e23\\u0e32\\u0e21\\u0e04\\u0e27\\u0e32\\u0e21\\u0e02\\u0e31\\u0e14\\u0e41\\u0e22\\u0e49\\u0e07 \\u0e23\\u0e27\\u0e21\\u0e17\\u0e31\\u0e49\\u0e07\\u0e01\\u0e33\\u0e2b\\u0e19\\u0e14\\u0e43\\u0e2b\\u0e49\\u0e21\\u0e35\\u0e01\\u0e32\\u0e23\\u0e15\\u0e23\\u0e27\\u0e08\\u0e2a\\u0e2d\\u0e1a\\u0e14\\u0e49\\u0e32\\u0e19\\u0e2a\\u0e34\\u0e17\\u0e18\\u0e34\\u0e21\\u0e19\\u0e38\\u0e29\\u0e22\\u0e0a\\u0e19\\u0e2d\\u0e22\\u0e48\\u0e32\\u0e07\\u0e23\\u0e2d\\u0e1a\\u0e14\\u0e49\\u0e32\\u0e19 \\u0e01\\u0e48\\u0e2d\\u0e19\\u0e08\\u0e30\\u0e2d\\u0e19\\u0e38\\u0e21\\u0e31\\u0e15\\u0e34\\u0e43\\u0e2b\\u0e49\\u0e21\\u0e35\\u0e01\\u0e32\\u0e23\\u0e25\\u0e07\\u0e17\\u0e38\\u0e19\\u0e19\\u0e31\\u0e49\\u0e19\\n\\u00b7\\u00a0\\u00a0\\u00a0\\u00a0\\u00a0\\u00a0\\u00a0 \\u0e01\\u0e33\\u0e2b\\u0e19\\u0e14\\u0e43\\u0e2b\\u0e49\\u0e21\\u0e35\\u0e2b\\u0e23\\u0e37\\u0e2d\\u0e1e\\u0e31\\u0e12\\u0e19\\u0e32\\u0e01\\u0e25\\u0e44\\u0e01\\u0e23\\u0e31\\u0e1a\\u0e04\\u0e33\\u0e23\\u0e49\\u0e2d\\u0e07\\u0e17\\u0e35\\u0e48\\u0e40\\u0e02\\u0e49\\u0e32\\u0e16\\u0e36\\u0e07\\u0e44\\u0e14\\u0e49\\u0e41\\u0e25\\u0e30\\u0e40\\u0e1b\\u0e47\\u0e19\\u0e1c\\u0e25\\u0e43\\u0e19\\u0e23\\u0e30\\u0e14\\u0e31\\u0e1a\\u0e1b\\u0e23\\u0e30\\u0e40\\u0e17\\u0e28 \\u0e23\\u0e27\\u0e21\\u0e17\\u0e31\\u0e49\\u0e07\\u0e01\\u0e25\\u0e44\\u0e01\\u0e02\\u0e2d\\u0e07\\u0e28\\u0e32\\u0e25\\u0e41\\u0e25\\u0e30\\u0e01\\u0e25\\u0e44\\u0e01\\u0e2d\\u0e37\\u0e48\\u0e19 \\u0e46\\u0e40\\u0e1e\\u0e37\\u0e48\\u0e2d\\u0e01\\u0e32\\u0e23\\u0e40\\u0e22\\u0e35\\u0e22\\u0e27\\u0e22\\u0e32\\u0e40\\u0e21\\u0e37\\u0e48\\u0e2d\\u0e40\\u0e01\\u0e34\\u0e14\\u0e01\\u0e32\\u0e23\\u0e1b\\u0e0f\\u0e34\\u0e1a\\u0e31\\u0e15\\u0e34\\u0e21\\u0e34\\u0e0a\\u0e2d\\u0e1a\\u0e14\\u0e49\\u0e32\\u0e19\\u0e2a\\u0e34\\u0e17\\u0e18\\u0e34\\u0e21\\u0e19\\u0e38\\u0e29\\u0e22\\u0e0a\\u0e19\\u0e2d\\u0e31\\u0e19\\u0e40\\u0e1b\\u0e47\\u0e19\\u0e1c\\u0e25\\u0e21\\u0e32\\u0e08\\u0e32\\u0e01\\u0e01\\u0e32\\u0e23\\u0e14\\u0e33\\u0e40\\u0e19\\u0e34\\u0e19\\u0e07\\u0e32\\u0e19\\u0e02\\u0e2d\\u0e07\\u0e1a\\u0e23\\u0e34\\u0e29\\u0e31\\u0e17\\u0e08\\u0e32\\u0e01\\u0e44\\u0e17\\u0e22\\u0e43\\u0e19\\u0e15\\u0e48\\u0e32\\u0e07\\u0e1b\\u0e23\\u0e30\\u0e40\\u0e17\\u0e28\\n\\u00b7\\u00a0\\u00a0\\u00a0\\u00a0\\u00a0\\u00a0\\u00a0 \\u0e23\\u0e48\\u0e27\\u0e21\\u0e21\\u0e37\\u0e2d\\u0e01\\u0e31\\u0e1a\\u0e2b\\u0e19\\u0e48\\u0e27\\u0e22\\u0e07\\u0e32\\u0e19\\u0e1e\\u0e2b\\u0e38\\u0e20\\u0e32\\u0e04\\u0e35 \\u0e17\\u0e31\\u0e49\\u0e07\\u0e2d\\u0e32\\u0e40\\u0e0b\\u0e35\\u0e22\\u0e19\\u0e41\\u0e25\\u0e30\\u0e18\\u0e19\\u0e32\\u0e04\\u0e32\\u0e23\\u0e40\\u0e1e\\u0e37\\u0e48\\u0e2d\\u0e01\\u0e32\\u0e23\\u0e1e\\u0e31\\u0e12\\u0e19\\u0e32\\u0e1e\\u0e2b\\u0e38\\u0e20\\u0e32\\u0e04\\u0e35\\u0e41\\u0e25\\u0e30\\u0e2a\\u0e16\\u0e32\\u0e1a\\u0e31\\u0e19\\u0e2d\\u0e37\\u0e48\\u0e19 \\u0e46 \\u0e40\\u0e1e\\u0e37\\u0e48\\u0e2d\\u0e1b\\u0e23\\u0e30\\u0e01\\u0e31\\u0e19\\u0e27\\u0e48\\u0e32\\u0e2b\\u0e19\\u0e48\\u0e27\\u0e22\\u0e07\\u0e32\\u0e19\\u0e40\\u0e2b\\u0e25\\u0e48\\u0e32\\u0e19\\u0e35\\u0e49\\u0e2a\\u0e48\\u0e07\\u0e40\\u0e2a\\u0e23\\u0e34\\u0e21\\u0e43\\u0e2b\\u0e49\\u0e21\\u0e35\\u0e01\\u0e32\\u0e23\\u0e40\\u0e04\\u0e32\\u0e23\\u0e1e\\u0e2a\\u0e34\\u0e17\\u0e18\\u0e34\\u0e21\\u0e19\\u0e38\\u0e29\\u0e22\\u0e0a\\u0e19\\u0e41\\u0e25\\u0e30\\u0e1b\\u0e0f\\u0e34\\u0e1a\\u0e31\\u0e15\\u0e34\\u0e15\\u0e32\\u0e21\\u0e2b\\u0e25\\u0e31\\u0e01\\u0e01\\u0e32\\u0e23\\u0e0a\\u0e35\\u0e49\\u0e19\\u0e33\\u0e41\\u0e2b\\u0e48\\u0e07\\u0e2a\\u0e2b\\u0e1b\\u0e23\\u0e30\\u0e0a\\u0e32\\u0e0a\\u0e32\\u0e15\\u0e34\\u0e43\\u0e19\\u0e23\\u0e30\\u0e2b\\u0e27\\u0e48\\u0e32\\u0e07\\u0e01\\u0e32\\u0e23\\u0e14\\u0e33\\u0e40\\u0e19\\u0e34\\u0e19\\u0e07\\u0e32\\u0e19\\u0e02\\u0e2d\\u0e07\\u0e15\\u0e19\\n\\u00b7\\u00a0\\u00a0\\u00a0\\u00a0\\u00a0\\u00a0\\u00a0 \\u0e15\\u0e49\\u0e2d\\u0e07\\u0e21\\u0e35\\u0e2b\\u0e25\\u0e31\\u0e01\\u0e1b\\u0e23\\u0e30\\u0e01\\u0e31\\u0e19\\u0e27\\u0e48\\u0e32\\u0e21\\u0e32\\u0e15\\u0e23\\u0e10\\u0e32\\u0e19\\u0e01\\u0e32\\u0e23\\u0e04\\u0e38\\u0e49\\u0e21\\u0e04\\u0e23\\u0e2d\\u0e07\\u0e2a\\u0e34\\u0e17\\u0e18\\u0e34\\u0e21\\u0e19\\u0e38\\u0e29\\u0e22\\u0e0a\\u0e19\\u0e41\\u0e25\\u0e30\\u0e2a\\u0e34\\u0e48\\u0e07\\u0e41\\u0e27\\u0e14\\u0e25\\u0e49\\u0e2d\\u0e21 \\u0e08\\u0e30\\u0e15\\u0e49\\u0e2d\\u0e07\\u0e44\\u0e14\\u0e49\\u0e23\\u0e31\\u0e1a\\u0e01\\u0e32\\u0e23\\u0e1b\\u0e0f\\u0e34\\u0e1a\\u0e31\\u0e15\\u0e34\\u0e17\\u0e35\\u0e48\\u0e44\\u0e21\\u0e48\\u0e14\\u0e49\\u0e2d\\u0e22\\u0e44\\u0e1b\\u0e01\\u0e27\\u0e48\\u0e32\\u0e21\\u0e32\\u0e15\\u0e23\\u0e10\\u0e32\\u0e19\\u0e15\\u0e32\\u0e21\\u0e01\\u0e0e\\u0e2b\\u0e21\\u0e32\\u0e22\\u0e44\\u0e17\\u0e22\\u0e43\\u0e19\\u0e1b\\u0e23\\u0e30\\u0e40\\u0e17\\u0e28\\u0e17\\u0e35\\u0e48\\u0e44\\u0e1b\\u0e25\\u0e07\\u0e17\\u0e38\\u0e19\\u0e2b\\u0e23\\u0e37\\u0e2d\\u0e1b\\u0e23\\u0e30\\u0e01\\u0e2d\\u0e1a\\u0e01\\u0e34\\u0e08\\u0e01\\u0e32\\u0e23 \\u0e41\\u0e21\\u0e49\\u0e27\\u0e48\\u0e32\\u0e1b\\u0e23\\u0e30\\u0e40\\u0e17\\u0e28\\u0e19\\u0e31\\u0e49\\u0e19 \\u0e46 \\u0e08\\u0e30\\u0e44\\u0e21\\u0e48\\u0e21\\u0e35\\u0e01\\u0e0e\\u0e2b\\u0e21\\u0e32\\u0e22\\u0e01\\u0e33\\u0e2b\\u0e19\\u0e14\\u0e43\\u0e2b\\u0e49\\u0e40\\u0e1b\\u0e47\\u0e19\\u0e44\\u0e1b\\u0e15\\u0e32\\u0e21\\u0e21\\u0e32\\u0e15\\u0e23\\u0e01\\u0e32\\u0e23\\u0e14\\u0e31\\u0e07\\u0e01\\u0e25\\u0e48\\u0e32\\u0e27\\u0e01\\u0e47\\u0e15\\u0e32\\u0e21\\n\\u00a0\\n\\u0e40\\u0e2b\\u0e47\\u0e19\\u0e0a\\u0e2d\\u0e1a\\u0e42\\u0e14\\u0e22\\n\\u00a0\\n1 \\u0e40\\u0e04\\u0e23\\u0e37\\u0e2d\\u0e02\\u0e48\\u0e32\\u0e22\\u0e1b\\u0e23\\u0e30\\u0e0a\\u0e32\\u0e0a\\u0e19\\u0e44\\u0e17\\u0e22 8 \\u0e08\\u0e31\\u0e07\\u0e2b\\u0e27\\u0e31\\u0e14\\u0e25\\u0e38\\u0e48\\u0e21\\u0e19\\u0e49\\u0e33\\u0e42\\u0e02\\u0e07 The Network of Thai People in Eight Mekong Province\\n2 \\u0e2a\\u0e21\\u0e32\\u0e04\\u0e21\\u0e41\\u0e21\\u0e48\\u0e19\\u0e49\\u0e33\\u0e40\\u0e1e\\u0e37\\u0e48\\u0e2d\\u0e0a\\u0e35\\u0e27\\u0e34\\u0e15 Living River Siam Association\\n3 \\u0e2a\\u0e21\\u0e32\\u0e04\\u0e21\\u0e2a\\u0e16\\u0e32\\u0e1a\\u0e31\\u0e19\\u0e0a\\u0e38\\u0e21\\u0e0a\\u0e19\\u0e25\\u0e38\\u0e48\\u0e21\\u0e19\\u0e49\\u0e33\\u0e42\\u0e02\\u0e07 Mekong Community Institute Association\\n4 \\u0e2a\\u0e21\\u0e31\\u0e0a\\u0e0a\\u0e32\\u0e2d\\u0e07\\u0e04\\u0e4c\\u0e01\\u0e23\\u0e40\\u0e2d\\u0e01\\u0e0a\\u0e19\\u0e14\\u0e49\\u0e32\\u0e19\\u0e01\\u0e32\\u0e23\\u0e04\\u0e38\\u0e49\\u0e21\\u0e04\\u0e23\\u0e2d\\u0e07\\u0e2a\\u0e34\\u0e48\\u0e07\\u0e41\\u0e27\\u0e14\\u0e25\\u0e49\\u0e2d\\u0e21\\u0e41\\u0e25\\u0e30\\u0e2d\\u0e19\\u0e38\\u0e23\\u0e31\\u0e01\\u0e29\\u0e4c\\u0e17\\u0e23\\u0e31\\u0e1e\\u0e22\\u0e32\\u0e01\\u0e23\\u0e18\\u0e23\\u0e23\\u0e21\\u0e0a\\u0e32\\u0e15\\u0e34 The Assembly of NGOs for the Protection and Conservation of Environment and Natural Resources\\n5 \\u0e42\\u0e04\\u0e23\\u0e07\\u0e01\\u0e32\\u0e23\\u0e1f\\u0e37\\u0e49\\u0e19\\u0e1f\\u0e39\\u0e19\\u0e34\\u0e40\\u0e27\\u0e28\\u0e43\\u0e19\\u0e20\\u0e39\\u0e21\\u0e34\\u0e20\\u0e32\\u0e04\\u0e41\\u0e21\\u0e48\\u0e19\\u0e49\\u0e33\\u0e42\\u0e02\\u0e07 Towards Ecological Recovery and Regional Alliance\\n6 \\u0e40\\u0e2a\\u0e21\\u0e2a\\u0e34\\u0e01\\u0e02\\u0e32\\u0e25\\u0e31\\u0e22 Spiritual Education Movement\\n7 \\u0e28\\u0e39\\u0e19\\u0e22\\u0e4c\\u0e28\\u0e36\\u0e01\\u0e29\\u0e32\\u0e01\\u0e30\\u0e40\\u0e2b\\u0e23\\u0e35\\u0e48\\u0e22\\u0e07\\u0e41\\u0e25\\u0e30\\u0e1e\\u0e31\\u0e12\\u0e19\\u0e32 Karen Studies and Development Center8 \\u0e21\\u0e39\\u0e25\\u0e19\\u0e34\\u0e18\\u0e34\\u0e0a\\u0e35\\u0e27\\u0e34\\u0e15\\u0e44\\u0e17 Local Act\\n9 \\u0e01\\u0e25\\u0e38\\u0e48\\u0e21\\u0e08\\u0e31\\u0e1a\\u0e15\\u0e32\\u0e1e\\u0e25\\u0e31\\u0e07\\u0e07\\u0e32\\u0e19 Energy Watch\\n10 \\u0e21\\u0e39\\u0e25\\u0e19\\u0e34\\u0e18\\u0e34\\u0e40\\u0e01\\u0e29\\u0e15\\u0e23\\u0e01\\u0e23\\u0e23\\u0e21\\u0e22\\u0e31\\u0e48\\u0e07\\u0e22\\u0e37\\u0e19 (\\u0e1b\\u0e23\\u0e30\\u0e40\\u0e17\\u0e28\\u0e44\\u0e17\\u0e22) Sustainable Agriculture Foundation11 \\u0e40\\u0e04\\u0e23\\u0e37\\u0e2d\\u0e02\\u0e48\\u0e32\\u0e22\\u0e40\\u0e01\\u0e29\\u0e15\\u0e23\\u0e01\\u0e23\\u0e23\\u0e21\\u0e17\\u0e32\\u0e07\\u0e40\\u0e25\\u0e37\\u0e2d\\u0e01Alternative Agriculture Network\\n12 \\u0e01\\u0e25\\u0e38\\u0e48\\u0e21\\u0e08\\u0e31\\u0e1a\\u0e15\\u0e32\\u0e1b\\u0e31\\u0e0d\\u0e2b\\u0e32\\u0e17\\u0e35\\u0e48\\u0e14\\u0e34\\u0e19 Land Watch Thai\\n13 \\u0e2a\\u0e21\\u0e32\\u0e04\\u0e21\\u0e1e\\u0e34\\u0e17\\u0e31\\u0e01\\u0e29\\u0e4c\\u0e2a\\u0e34\\u0e17\\u0e18\\u0e34\\u0e0a\\u0e38\\u0e21\\u0e0a\\u0e19\\u0e40\\u0e02\\u0e32\\u0e04\\u0e39\\u0e2b\\u0e32 \\u0e2d.\\u0e23\\u0e31\\u0e15\\u0e20\\u0e39\\u0e21\\u0e34 \\u0e08.\\u0e2a\\u0e07\\u0e02\\u0e25\\u0e32KhaoKhu-ha Community Rights Association\\n14 \\u0e40\\u0e04\\u0e23\\u0e37\\u0e2d\\u0e02\\u0e48\\u0e32\\u0e22\\u0e2a\\u0e20\\u0e32\\u0e2d\\u0e07\\u0e04\\u0e4c\\u0e01\\u0e23\\u0e0a\\u0e38\\u0e21\\u0e0a\\u0e19\\u0e25\\u0e38\\u0e48\\u0e21\\u0e19\\u0e49\\u0e33\\u0e42\\u0e02\\u0e07 7 \\u0e08\\u0e31\\u0e07\\u0e2b\\u0e27\\u0e31\\u0e14\\u0e20\\u0e32\\u0e04\\u0e2d\\u0e35\\u0e2a\\u0e32\\u0e19 (\\u0e04\\u0e2a\\u0e02.) Network for Community Organization in 7 Mekong Province (E-san)\\n15 \\u0e01\\u0e23\\u0e35\\u0e19\\u0e1e\\u0e35\\u0e0b\\u0e40\\u0e2d\\u0e40\\u0e0a\\u0e35\\u0e22\\u0e15\\u0e30\\u0e27\\u0e31\\u0e19\\u0e2d\\u0e2d\\u0e01\\u0e40\\u0e09\\u0e35\\u0e22\\u0e07\\u0e43\\u0e15\\u0e49 Greenpeace Southeast Asia\\n16 \\u0e2a\\u0e21\\u0e32\\u0e04\\u0e21\\u0e2a\\u0e48\\u0e07\\u0e40\\u0e2a\\u0e23\\u0e34\\u0e21\\u0e2a\\u0e34\\u0e17\\u0e18\\u0e34\\u0e21\\u0e19\\u0e38\\u0e29\\u0e22\\u0e0a\\u0e19\\u0e41\\u0e25\\u0e30\\u0e2a\\u0e34\\u0e48\\u0e07\\u0e41\\u0e27\\u0e14\\u0e25\\u0e49\\u0e2d\\u0e21 Human Rights and Environment Promotion Association\\n17 \\u0e40\\u0e04\\u0e23\\u0e37\\u0e2d\\u0e02\\u0e48\\u0e32\\u0e22\\u0e17\\u0e23\\u0e31\\u0e1e\\u0e22\\u0e32\\u0e01\\u0e23\\u0e18\\u0e23\\u0e23\\u0e21\\u0e0a\\u0e32\\u0e15\\u0e34\\u0e41\\u0e25\\u0e30\\u0e2a\\u0e34\\u0e48\\u0e07\\u0e41\\u0e27\\u0e14\\u0e25\\u0e49\\u0e2d\\u0e21\\u0e20\\u0e32\\u0e04\\u0e2d\\u0e35\\u0e2a\\u0e32\\u0e19 E-san Natural Resources and Environment Network\\n18 \\u0e01\\u0e25\\u0e38\\u0e48\\u0e21\\u0e19\\u0e34\\u0e40\\u0e27\\u0e28\\u0e27\\u0e31\\u0e12\\u0e19\\u0e18\\u0e23\\u0e23\\u0e21\\u0e28\\u0e36\\u0e01\\u0e29\\u0e32Eco-cultural Study Group\\n19 \\u0e21\\u0e39\\u0e25\\u0e19\\u0e34\\u0e18\\u0e34\\u0e19\\u0e34\\u0e15\\u0e34\\u0e18\\u0e23\\u0e23\\u0e21\\u0e2a\\u0e34\\u0e48\\u0e07\\u0e41\\u0e27\\u0e14\\u0e25\\u0e49\\u0e2d\\u0e21 Enlaw\\n20 \\u0e21\\u0e39\\u0e25\\u0e19\\u0e34\\u0e18\\u0e34\\u0e28\\u0e39\\u0e19\\u0e22\\u0e4c\\u0e02\\u0e49\\u0e2d\\u0e21\\u0e39\\u0e25\\u0e0a\\u0e38\\u0e21\\u0e0a\\u0e19 Community Resource Centre Foundation-CRC\\n21 \\u0e40\\u0e04\\u0e23\\u0e37\\u0e2d\\u0e02\\u0e48\\u0e32\\u0e22\\u0e0a\\u0e38\\u0e21\\u0e0a\\u0e19\\u0e08\\u0e31\\u0e14\\u0e01\\u0e32\\u0e23\\u0e17\\u0e23\\u0e31\\u0e1e\\u0e22\\u0e32\\u0e01\\u0e23\\u0e25\\u0e38\\u0e48\\u0e21\\u0e19\\u0e49\\u0e33\\u0e2a\\u0e32\\u0e25\\u0e30\\u0e27\\u0e34\\u0e19 Salween River Community Network\\n22 \\u0e01\\u0e25\\u0e38\\u0e48\\u0e21\\u0e23\\u0e31\\u0e01\\u0e29\\u0e4c\\u0e41\\u0e21\\u0e48\\u0e19\\u0e49\\u0e33\\u0e42\\u0e02\\u0e07 MyMekong\\n23 \\u0e42\\u0e1b\\u0e23\\u0e40\\u0e08\\u0e01\\u0e15\\u0e4c\\u0e40\\u0e2a\\u0e27\\u0e19\\u0e32\\u0e40\\u0e2d\\u0e40\\u0e0a\\u0e35\\u0e22\\u0e15\\u0e30\\u0e27\\u0e31\\u0e19\\u0e2d\\u0e2d\\u0e01\\u0e40\\u0e09\\u0e35\\u0e22\\u0e07\\u0e43\\u0e15\\u0e49 Sevana Project 24 \\u0e28\\u0e39\\u0e19\\u0e22\\u0e4c\\u0e1e\\u0e34\\u0e17\\u0e31\\u0e01\\u0e29\\u0e4c\\u0e41\\u0e25\\u0e30\\u0e1f\\u0e37\\u0e49\\u0e19\\u0e1f\\u0e39\\u0e2a\\u0e34\\u0e17\\u0e18\\u0e34\\u0e0a\\u0e38\\u0e21\\u0e0a\\u0e19\\u0e17\\u0e49\\u0e2d\\u0e07\\u0e16\\u0e34\\u0e48\\u0e19\\u00a0Local Community Rights Protection and Recovery Center\\n25 \\u0e21\\u0e39\\u0e25\\u0e19\\u0e34\\u0e18\\u0e34\\u0e1c\\u0e2a\\u0e32\\u0e19\\u0e27\\u0e31\\u0e12\\u0e19\\u0e18\\u0e23\\u0e23\\u0e21 Cross Cultural Foundation\\n26 \\u0e21\\u0e39\\u0e25\\u0e19\\u0e34\\u0e18\\u0e34\\u0e1a\\u0e39\\u0e23\\u0e13\\u0e30\\u0e19\\u0e34\\u0e40\\u0e27\\u0e28 Ecological Alert and Recovery - Thailand (EARTH)\\n\\u00a0\\n\\u00a0\\n\\u0e19\\u0e31\\u0e01\\u0e27\\u0e34\\u0e0a\\u0e32\\u0e01\\u0e32\\u0e23 Academia:\\n1 \\u0e14\\u0e23.\\u0e2a\\u0e38\\u0e23\\u0e34\\u0e0a\\u0e31\\u0e22 \\u0e2b\\u0e27\\u0e31\\u0e19\\u0e41\\u0e01\\u0e49\\u0e27 \\u0e08\\u0e38\\u0e2c\\u0e32\\u0e25\\u0e07\\u0e01\\u0e23\\u0e13\\u0e4c\\u0e21\\u0e2b\\u0e32\\u0e27\\u0e34\\u0e17\\u0e22\\u0e32\\u0e25\\u0e31\\u0e22\\n2 \\u0e14\\u0e23.\\u0e44\\u0e0a\\u0e22\\u0e13\\u0e23\\u0e07\\u0e04\\u0e4c \\u0e40\\u0e28\\u0e23\\u0e29\\u0e10\\u0e40\\u0e0a\\u0e37\\u0e49\\u0e2d \\u0e04\\u0e13\\u0e30\\u0e21\\u0e19\\u0e38\\u0e29\\u0e22\\u0e28\\u0e32\\u0e2a\\u0e15\\u0e23\\u0e4c\\u0e41\\u0e25\\u0e30\\u0e2a\\u0e31\\u0e07\\u0e04\\u0e21\\u0e28\\u0e32\\u0e2a\\u0e15\\u0e23\\u0e4c\\u0e21\\u0e2b\\u0e32\\u0e27\\u0e34\\u0e17\\u0e22\\u0e32\\u0e25\\u0e31\\u0e22\\u0e21\\u0e2b\\u0e32\\u0e2a\\u0e32\\u0e23\\u0e04\\u0e32\\u0e21\\n3 \\u0e14\\u0e23.\\u0e14\\u0e23\\u0e38\\u0e13\\u0e35 \\u0e44\\u0e1e\\u0e28\\u0e32\\u0e25\\u0e1e\\u0e32\\u0e13\\u0e34\\u0e0a\\u0e22\\u0e4c\\u0e01\\u0e38\\u0e25 \\u0e04\\u0e13\\u0e30\\u0e19\\u0e34\\u0e15\\u0e34\\u0e28\\u0e32\\u0e2a\\u0e15\\u0e23\\u0e4c\\u0e21\\u0e2b\\u0e32\\u0e27\\u0e34\\u0e17\\u0e22\\u0e32\\u0e25\\u0e31\\u0e22\\u0e40\\u0e0a\\u0e35\\u0e22\\u0e07\\u0e43\\u0e2b\\u0e21\\u0e48\\n4 \\u0e2a\\u0e24\\u0e13\\u0e35 \\u0e2d\\u0e32\\u0e0a\\u0e27\\u0e19\\u0e31\\u0e19\\u0e17\\u0e01\\u0e38\\u0e25\\n5 \\u0e2d\\u0e0a\\u0e34\\u0e0a\\u0e0d\\u0e32 \\u0e2d\\u0e4a\\u0e2d\\u0e15\\u0e27\\u0e07\\u0e29\\u0e4c \\u0e04\\u0e13\\u0e30\\u0e19\\u0e34\\u0e15\\u0e34\\u0e28\\u0e32\\u0e2a\\u0e15\\u0e23\\u0e4c\\u0e21\\u0e2b\\u0e32\\u0e27\\u0e34\\u0e17\\u0e22\\u0e32\\u0e25\\u0e31\\u0e22\\u0e19\\u0e40\\u0e23\\u0e28\\u0e27\\u0e23\\u00a0\\n\\u00a0\\n\\n[1]\\u0e01\\u0e23\\u0e30\\u0e17\\u0e23\\u0e27\\u0e07\\u0e1e\\u0e32\\u0e13\\u0e34\\u0e0a\\u0e22\\u0e4c\\u0e2a\\u0e33\\u0e19\\u0e31\\u0e01\\u0e07\\u0e32\\u0e19\\u0e04\\u0e13\\u0e30\\u0e01\\u0e23\\u0e23\\u0e21\\u0e01\\u0e32\\u0e23\\u0e1e\\u0e31\\u0e12\\u0e19\\u0e32\\u0e01\\u0e32\\u0e23\\u0e40\\u0e28\\u0e23\\u0e29\\u0e10\\u0e01\\u0e34\\u0e08\\u0e41\\u0e25\\u0e30\\u0e2a\\u0e31\\u0e07\\u0e04\\u0e21\\u0e41\\u0e2b\\u0e48\\u0e07\\u0e0a\\u0e32\\u0e15\\u0e34 \\u0e01\\u0e23\\u0e30\\u0e17\\u0e23\\u0e27\\u0e07\\u0e22\\u0e38\\u0e15\\u0e34\\u0e18\\u0e23\\u0e23\\u0e21 \\u0e01\\u0e23\\u0e30\\u0e17\\u0e23\\u0e27\\u0e07\\u0e04\\u0e21\\u0e19\\u0e32\\u0e04\\u0e21 \\u0e01\\u0e23\\u0e30\\u0e17\\u0e23\\u0e27\\u0e07\\u0e01\\u0e32\\u0e23\\u0e04\\u0e25\\u0e31\\u0e07 \\u0e18\\u0e19\\u0e32\\u0e04\\u0e32\\u0e23\\u0e41\\u0e2b\\u0e48\\u0e07\\u0e1b\\u0e23\\u0e30\\u0e40\\u0e17\\u0e28\\u0e44\\u0e17\\u0e22 \\u0e2a\\u0e33\\u0e19\\u0e31\\u0e01\\u0e07\\u0e32\\u0e19\\u0e04\\u0e27\\u0e32\\u0e21\\u0e23\\u0e48\\u0e27\\u0e21\\u0e21\\u0e37\\u0e2d\\u0e1e\\u0e31\\u0e12\\u0e19\\u0e32\\u0e40\\u0e28\\u0e23\\u0e29\\u0e10\\u0e01\\u0e34\\u0e08\\u0e01\\u0e31\\u0e1a\\u0e1b\\u0e23\\u0e30\\u0e40\\u0e17\\u0e28\\u0e40\\u0e1e\\u0e37\\u0e48\\u0e2d\\u0e19\\u0e1a\\u0e49\\u0e32\\u0e19 (\\u0e2d\\u0e07\\u0e04\\u0e4c\\u0e01\\u0e32\\u0e23\\u0e21\\u0e2b\\u0e32\\u0e0a\\u0e19) \\u0e15\\u0e25\\u0e32\\u0e14\\u0e2b\\u0e25\\u0e31\\u0e01\\u0e17\\u0e23\\u0e31\\u0e1e\\u0e22\\u0e4c\\u0e41\\u0e2b\\u0e48\\u0e07\\u0e1b\\u0e23\\u0e30\\u0e40\\u0e17\\u0e28\\u0e44\\u0e17\\u0e22 (\\u0e15\\u0e25\\u0e17.)\\n\\n\\n\\u00a0\\n\",\n          \"3 \\u0e01.\\u0e04.54 \\u0e40\\u0e04\\u0e23\\u0e37\\u0e2d\\u0e02\\u0e48\\u0e32\\u0e22\\u0e1e\\u0e25\\u0e40\\u0e21\\u0e37\\u0e2d\\u0e07\\u0e40\\u0e1b\\u0e25\\u0e35\\u0e48\\u0e22\\u0e19\\u0e1b\\u0e23\\u0e30\\u0e40\\u0e17\\u0e28\\u0e44\\u0e17\\u0e22 145 \\u0e2d\\u0e07\\u0e04\\u0e4c\\u0e01\\u0e23\\u0e23\\u0e48\\u0e27\\u0e21\\u0e41\\u0e16\\u0e25\\u0e07\\u0e01\\u0e32\\u0e23\\u0e13\\u0e4c\\u0e27\\u0e32\\u0e23\\u0e30\\u0e1b\\u0e23\\u0e30\\u0e0a\\u0e32\\u0e0a\\u0e19\\u0e1c\\u0e48\\u0e32\\u0e19\\u0e2a\\u0e16\\u0e32\\u0e19\\u0e35\\u0e17\\u0e35\\u0e1e\\u0e35\\u0e1a\\u0e35\\u0e40\\u0e2d\\u0e2a\\u0e40\\u0e21\\u0e37\\u0e48\\u0e2d\\u0e04\\u0e48\\u0e33\\u0e27\\u0e31\\u0e19\\u0e19\\u0e35\\u0e49 \\u0e23\\u0e32\\u0e22\\u0e25\\u0e30\\u0e40\\u0e2d\\u0e35\\u0e22\\u0e14\\u0e02\\u0e2d\\u0e07\\u0e41\\u0e16\\u0e25\\u0e07\\u0e01\\u0e32\\u0e23\\u0e13\\u0e4c\\u0e21\\u0e35\\u0e14\\u0e31\\u0e07\\u0e19\\u0e35\\u0e49 \\u0e40\\u0e23\\u0e35\\u0e22\\u0e19\\u0e1c\\u0e39\\u0e49\\u0e17\\u0e35\\u0e48\\u0e01\\u0e33\\u0e25\\u0e31\\u0e07\\u0e08\\u0e30\\u0e40\\u0e02\\u0e49\\u0e32\\u0e17\\u0e33\\u0e2b\\u0e19\\u0e49\\u0e32\\u0e17\\u0e35\\u0e48\\u0e1a\\u0e23\\u0e34\\u0e2b\\u0e32\\u0e23\\u0e1b\\u0e23\\u0e30\\u0e40\\u0e17\\u0e28 \\u0e2a\\u0e21\\u0e32\\u0e0a\\u0e34\\u0e01\\u0e23\\u0e31\\u0e10\\u0e2a\\u0e20\\u0e32 \\u0e41\\u0e25\\u0e30\\u0e1e\\u0e35\\u0e48\\u0e19\\u0e49\\u0e2d\\u0e07\\u0e1b\\u0e23\\u0e30\\u0e0a\\u0e32\\u0e0a\\u0e19\\u0e44\\u0e17\\u0e22\\u0e17\\u0e38\\u0e01\\u0e17\\u0e48\\u0e32\\u0e19 \\u0e01\\u0e32\\u0e23\\u0e40\\u0e25\\u0e37\\u0e2d\\u0e01\\u0e15\\u0e31\\u0e49\\u0e07\\u0e27\\u0e31\\u0e19\\u0e19\\u0e35\\u0e49 \\u0e16\\u0e37\\u0e2d\\u0e40\\u0e1b\\u0e47\\u0e19\\u0e1b\\u0e23\\u0e30\\u0e27\\u0e31\\u0e15\\u0e34\\u0e28\\u0e32\\u0e2a\\u0e15\\u0e23\\u0e4c\\u0e17\\u0e35\\u0e48\\u0e41\\u0e15\\u0e01\\u0e15\\u0e48\\u0e32\\u0e07\\u0e08\\u0e32\\u0e01\\u0e01\\u0e32\\u0e23\\u0e40\\u0e25\\u0e37\\u0e2d\\u0e01\\u0e15\\u0e31\\u0e49\\u0e07\\u0e17\\u0e38\\u0e01\\u0e04\\u0e23\\u0e31\\u0e49\\u0e07\\u0e17\\u0e35\\u0e48\\u0e1c\\u0e48\\u0e32\\u0e19\\u0e21\\u0e32 \\u0e14\\u0e49\\u0e27\\u0e22\\u0e1b\\u0e23\\u0e32\\u0e01\\u0e0f\\u0e01\\u0e32\\u0e23\\u0e13\\u0e4c\\u0e04\\u0e27\\u0e32\\u0e21\\u0e15\\u0e37\\u0e48\\u0e19\\u0e15\\u0e31\\u0e27\\u0e02\\u0e2d\\u0e07\\u0e1b\\u0e23\\u0e30\\u0e0a\\u0e32\\u0e0a\\u0e19\\u0e17\\u0e38\\u0e01\\u0e20\\u0e32\\u0e04\\u0e2a\\u0e48\\u0e27\\u0e19 \\u0e44\\u0e14\\u0e49\\u0e23\\u0e48\\u0e27\\u0e21\\u0e01\\u0e31\\u0e19\\u0e19\\u0e33\\u0e40\\u0e2a\\u0e19\\u0e2d\\u0e19\\u0e42\\u0e22\\u0e1a\\u0e32\\u0e22\\u0e15\\u0e48\\u0e2d\\u0e1e\\u0e23\\u0e23\\u0e04\\u0e01\\u0e32\\u0e23\\u0e40\\u0e21\\u0e37\\u0e2d\\u0e07 \\u0e2d\\u0e22\\u0e48\\u0e32\\u0e07\\u0e01\\u0e27\\u0e49\\u0e32\\u0e07\\u0e02\\u0e27\\u0e32\\u0e07\\u0e17\\u0e31\\u0e48\\u0e27\\u0e1b\\u0e23\\u0e30\\u0e40\\u0e17\\u0e28 \\u0e2d\\u0e07\\u0e04\\u0e4c\\u0e01\\u0e23\\u0e20\\u0e32\\u0e04\\u0e1b\\u0e23\\u0e30\\u0e0a\\u0e32\\u0e0a\\u0e19 \\u0e2d\\u0e07\\u0e04\\u0e4c\\u0e01\\u0e23\\u0e1b\\u0e01\\u0e04\\u0e23\\u0e2d\\u0e07\\u0e2a\\u0e48\\u0e27\\u0e19\\u0e17\\u0e49\\u0e2d\\u0e07\\u0e16\\u0e34\\u0e48\\u0e19 \\u0e2a\\u0e37\\u0e48\\u0e2d\\u0e21\\u0e27\\u0e25\\u0e0a\\u0e19 \\u0e19\\u0e31\\u0e01\\u0e27\\u0e34\\u0e0a\\u0e32\\u0e01\\u0e32\\u0e23 \\u0e01\\u0e27\\u0e48\\u0e32 145 \\u0e40\\u0e04\\u0e23\\u0e37\\u0e2d\\u0e02\\u0e48\\u0e32\\u0e22 \\u0e23\\u0e27\\u0e21\\u0e15\\u0e31\\u0e27\\u0e01\\u0e31\\u0e19\\u0e08\\u0e31\\u0e14\\u0e15\\u0e31\\u0e49\\u0e07\\u0e40\\u0e1b\\u0e47\\u0e19\\u0e20\\u0e32\\u0e04\\u0e35\\u0e40\\u0e04\\u0e23\\u0e37\\u0e2d\\u0e02\\u0e48\\u0e32\\u0e22\\u0e1e\\u0e25\\u0e40\\u0e21\\u0e37\\u0e2d\\u0e07\\u0e40\\u0e1b\\u0e25\\u0e35\\u0e48\\u0e22\\u0e19\\u0e1b\\u0e23\\u0e30\\u0e40\\u0e17\\u0e28\\u0e44\\u0e17\\u0e22 \\u0e43\\u0e19\\u0e40\\u0e27\\u0e25\\u0e32\\u0e40\\u0e1e\\u0e35\\u0e22\\u0e07\\u0e40\\u0e14\\u0e37\\u0e2d\\u0e19\\u0e40\\u0e28\\u0e29 \\u0e21\\u0e35\\u0e01\\u0e32\\u0e23\\u0e08\\u0e31\\u0e14\\u0e15\\u0e31\\u0e49\\u0e07 \\u0e08\\u0e31\\u0e14\\u0e40\\u0e27\\u0e17\\u0e35\\u0e01\\u0e27\\u0e48\\u0e32 80 \\u0e40\\u0e27\\u0e17\\u0e35 \\u0e42\\u0e14\\u0e22\\u0e21\\u0e35\\u0e1b\\u0e23\\u0e30\\u0e0a\\u0e32\\u0e0a\\u0e19\\u0e23\\u0e48\\u0e27\\u0e21\\u0e41\\u0e2a\\u0e14\\u0e07\\u0e04\\u0e27\\u0e32\\u0e21\\u0e40\\u0e2b\\u0e47\\u0e19\\u0e43\\u0e19\\u0e40\\u0e27\\u0e17\\u0e35 \\u0e01\\u0e27\\u0e48\\u0e32 10,000 \\u0e04\\u0e19 \\u0e41\\u0e25\\u0e30\\u0e22\\u0e31\\u0e07\\u0e21\\u0e35\\u0e1b\\u0e23\\u0e30\\u0e0a\\u0e32\\u0e0a\\u0e19\\u0e2d\\u0e35\\u0e01\\u0e2b\\u0e25\\u0e32\\u0e22\\u0e41\\u0e2a\\u0e19\\u0e04\\u0e19\\u0e40\\u0e1d\\u0e49\\u0e32\\u0e15\\u0e34\\u0e14\\u0e15\\u0e32\\u0e21\\u0e41\\u0e2a\\u0e14\\u0e07\\u0e2d\\u0e2d\\u0e01\\u0e17\\u0e32\\u0e07\\u0e2a\\u0e37\\u0e48\\u0e2d\\u0e15\\u0e48\\u0e32\\u0e07\\u0e46 \\u0e40\\u0e1e\\u0e37\\u0e48\\u0e2d\\u0e23\\u0e48\\u0e27\\u0e21\\u0e1e\\u0e25\\u0e31\\u0e07\\u0e1c\\u0e25\\u0e31\\u0e01\\u0e14\\u0e31\\u0e19\\u0e27\\u0e32\\u0e23\\u0e30\\u0e1b\\u0e23\\u0e30\\u0e0a\\u0e32\\u0e0a\\u0e19\\u0e15\\u0e48\\u0e2d\\u0e1c\\u0e39\\u0e49\\u0e1a\\u0e23\\u0e34\\u0e2b\\u0e32\\u0e23\\u0e1b\\u0e23\\u0e30\\u0e40\\u0e17\\u0e28 \\u0e41\\u0e25\\u0e30\\u0e2a\\u0e21\\u0e32\\u0e0a\\u0e34\\u0e01\\u0e23\\u0e31\\u0e10\\u0e2a\\u0e20\\u0e32 \\u0e2d\\u0e22\\u0e48\\u0e32\\u0e07\\u0e2b\\u0e19\\u0e31\\u0e01\\u0e41\\u0e19\\u0e48\\u0e19 \\u0e1e\\u0e23\\u0e49\\u0e2d\\u0e21\\u0e40\\u0e1e\\u0e23\\u0e35\\u0e22\\u0e07\\u0e01\\u0e31\\u0e19 \\u0e1e\\u0e23\\u0e49\\u0e2d\\u0e21\\u0e01\\u0e31\\u0e19\\u0e19\\u0e35\\u0e49 \\u0e20\\u0e32\\u0e04\\u0e2a\\u0e48\\u0e27\\u0e19\\u0e15\\u0e48\\u0e32\\u0e07\\u0e46 \\u0e40\\u0e15\\u0e23\\u0e35\\u0e22\\u0e21\\u0e15\\u0e34\\u0e14\\u0e15\\u0e32\\u0e21 \\u0e1c\\u0e25\\u0e31\\u0e01\\u0e14\\u0e31\\u0e19\\u0e02\\u0e49\\u0e2d\\u0e40\\u0e2a\\u0e19\\u0e2d\\u0e02\\u0e2d\\u0e07\\u0e1b\\u0e23\\u0e30\\u0e0a\\u0e32\\u0e0a\\u0e19 \\u0e20\\u0e32\\u0e22\\u0e2b\\u0e25\\u0e31\\u0e07\\u0e01\\u0e32\\u0e23\\u0e40\\u0e25\\u0e37\\u0e2d\\u0e01\\u0e15\\u0e31\\u0e49\\u0e07 \\u0e40\\u0e1e\\u0e37\\u0e48\\u0e2d\\u0e44\\u0e21\\u0e48\\u0e43\\u0e2b\\u0e49\\u0e40\\u0e01\\u0e34\\u0e14\\u0e01\\u0e32\\u0e23\\u0e40\\u0e1e\\u0e34\\u0e01\\u0e40\\u0e09\\u0e22 \\u0e25\\u0e30\\u0e40\\u0e25\\u0e22 \\u0e2b\\u0e23\\u0e37\\u0e2d\\u0e1c\\u0e34\\u0e14\\u0e04\\u0e33\\u0e21\\u0e31\\u0e48\\u0e19\\u0e2a\\u0e31\\u0e0d\\u0e0d\\u0e32 \\u0e0b\\u0e36\\u0e48\\u0e07\\u0e1e\\u0e23\\u0e23\\u0e04\\u0e01\\u0e32\\u0e23\\u0e40\\u0e21\\u0e37\\u0e2d\\u0e07\\u0e43\\u0e2b\\u0e49\\u0e44\\u0e27\\u0e49\\u0e15\\u0e48\\u0e2d\\u0e1b\\u0e23\\u0e30\\u0e0a\\u0e32\\u0e0a\\u0e19 \\u0e2d\\u0e35\\u0e01\\u0e15\\u0e48\\u0e2d\\u0e44\\u0e1b \\u0e20\\u0e32\\u0e04\\u0e35\\u0e40\\u0e04\\u0e23\\u0e37\\u0e2d\\u0e02\\u0e48\\u0e32\\u0e22\\u0e1e\\u0e25\\u0e40\\u0e21\\u0e37\\u0e2d\\u0e07\\u0e40\\u0e1b\\u0e25\\u0e35\\u0e48\\u0e22\\u0e19\\u0e1b\\u0e23\\u0e30\\u0e40\\u0e17\\u0e28\\u0e44\\u0e17\\u0e22 \\u0e08\\u0e36\\u0e07\\u0e02\\u0e2d\\u0e41\\u0e16\\u0e25\\u0e07\\u0e15\\u0e48\\u0e2d\\u0e19\\u0e31\\u0e01\\u0e01\\u0e32\\u0e23\\u0e40\\u0e21\\u0e37\\u0e2d\\u0e07\\u0e43\\u0e19\\u0e1b\\u0e23\\u0e30\\u0e40\\u0e14\\u0e47\\u0e19\\u0e2a\\u0e33\\u0e04\\u0e31\\u0e0d \\u0e17\\u0e35\\u0e48\\u0e40\\u0e1b\\u0e47\\u0e19\\u0e04\\u0e27\\u0e32\\u0e21\\u0e15\\u0e49\\u0e2d\\u0e07\\u0e01\\u0e32\\u0e23\\u0e23\\u0e48\\u0e27\\u0e21\\u0e01\\u0e31\\u0e19\\u0e02\\u0e2d\\u0e07\\u0e1b\\u0e23\\u0e30\\u0e0a\\u0e32\\u0e0a\\u0e19 \\u0e14\\u0e31\\u0e07\\u0e19\\u0e35\\u0e49 \\u0e04\\u0e37\\u0e2d 1. \\u0e43\\u0e2b\\u0e49\\u0e21\\u0e35\\u0e01\\u0e32\\u0e23\\u0e1b\\u0e0f\\u0e34\\u0e23\\u0e39\\u0e1b\\u0e42\\u0e04\\u0e23\\u0e07\\u0e2a\\u0e23\\u0e49\\u0e32\\u0e07\\u0e2d\\u0e33\\u0e19\\u0e32\\u0e08 \\u0e41\\u0e25\\u0e30\\u0e01\\u0e23\\u0e30\\u0e08\\u0e32\\u0e22\\u0e2d\\u0e33\\u0e19\\u0e32\\u0e08\\u0e23\\u0e31\\u0e10\\u0e2a\\u0e39\\u0e48\\u0e17\\u0e49\\u0e2d\\u0e07\\u0e16\\u0e34\\u0e48\\u0e19 \\u0e1b\\u0e23\\u0e31\\u0e1a\\u0e1a\\u0e17\\u0e1a\\u0e32\\u0e17\\u0e23\\u0e32\\u0e0a\\u0e01\\u0e32\\u0e23\\u0e2a\\u0e48\\u0e27\\u0e19\\u0e20\\u0e39\\u0e21\\u0e34\\u0e20\\u0e32\\u0e04 \\u0e40\\u0e1b\\u0e34\\u0e14\\u0e42\\u0e2d\\u0e01\\u0e32\\u0e2a\\u0e43\\u0e2b\\u0e49\\u0e01\\u0e25\\u0e38\\u0e48\\u0e21\\u0e1a\\u0e38\\u0e04\\u0e04\\u0e25 \\u0e0a\\u0e38\\u0e21\\u0e0a\\u0e19 \\u0e2d\\u0e07\\u0e04\\u0e4c\\u0e01\\u0e23\\u0e0a\\u0e38\\u0e21\\u0e0a\\u0e19 \\u0e21\\u0e35\\u0e2d\\u0e34\\u0e2a\\u0e23\\u0e30\\u0e43\\u0e19\\u0e01\\u0e32\\u0e23\\u0e08\\u0e31\\u0e14\\u0e01\\u0e32\\u0e23\\u0e15\\u0e19\\u0e40\\u0e2d\\u0e07 \\u0e43\\u0e19\\u0e01\\u0e34\\u0e08\\u0e01\\u0e32\\u0e23\\u0e17\\u0e35\\u0e48\\u0e40\\u0e01\\u0e35\\u0e48\\u0e22\\u0e27\\u0e02\\u0e49\\u0e2d\\u0e07\\u0e01\\u0e31\\u0e1a\\u0e0a\\u0e38\\u0e21\\u0e0a\\u0e19\\u0e17\\u0e49\\u0e2d\\u0e07\\u0e16\\u0e34\\u0e48\\u0e19 2. \\u0e43\\u0e2b\\u0e49\\u0e1b\\u0e23\\u0e30\\u0e0a\\u0e32\\u0e0a\\u0e19\\u0e21\\u0e35\\u0e2a\\u0e48\\u0e27\\u0e19\\u0e23\\u0e48\\u0e27\\u0e21\\u0e43\\u0e19\\u0e01\\u0e32\\u0e23\\u0e01\\u0e33\\u0e2b\\u0e19\\u0e14\\u0e19\\u0e42\\u0e22\\u0e1a\\u0e32\\u0e22\\u0e2a\\u0e32\\u0e18\\u0e32\\u0e23\\u0e13\\u0e30 \\u0e41\\u0e25\\u0e30\\u0e17\\u0e34\\u0e28\\u0e17\\u0e32\\u0e07\\u0e01\\u0e32\\u0e23\\u0e1e\\u0e31\\u0e12\\u0e19\\u0e32\\u0e1b\\u0e23\\u0e30\\u0e40\\u0e17\\u0e28 \\u0e23\\u0e27\\u0e21\\u0e17\\u0e31\\u0e49\\u0e07\\u0e15\\u0e34\\u0e15\\u0e32\\u0e21\\u0e15\\u0e23\\u0e27\\u0e08\\u0e2a\\u0e2d\\u0e1a\\u0e01\\u0e32\\u0e23\\u0e1a\\u0e23\\u0e34\\u0e2b\\u0e32\\u0e23\\u0e23\\u0e32\\u0e0a\\u0e01\\u0e32\\u0e23\\u0e41\\u0e1c\\u0e48\\u0e19\\u0e14\\u0e34\\u0e19\\u0e43\\u0e19\\u0e17\\u0e38\\u0e01\\u0e23\\u0e30\\u0e14\\u0e31\\u0e1a 3. \\u0e01\\u0e33\\u0e2b\\u0e19\\u0e14\\u0e17\\u0e34\\u0e28\\u0e17\\u0e32\\u0e07\\u0e01\\u0e32\\u0e23\\u0e1e\\u0e31\\u0e12\\u0e19\\u0e32\\u0e40\\u0e28\\u0e23\\u0e29\\u0e10\\u0e01\\u0e34\\u0e08\\u0e17\\u0e35\\u0e48\\u0e2a\\u0e48\\u0e07\\u0e40\\u0e2a\\u0e23\\u0e34\\u0e21\\u0e01\\u0e32\\u0e23\\u0e40\\u0e01\\u0e29\\u0e15\\u0e23\\u0e41\\u0e1a\\u0e1a\\u0e1b\\u0e25\\u0e2d\\u0e14\\u0e2a\\u0e32\\u0e23\\u0e40\\u0e04\\u0e21\\u0e35 \\u0e1a\\u0e31\\u0e07\\u0e04\\u0e31\\u0e1a\\u0e43\\u0e0a\\u0e49\\u0e01\\u0e0e\\u0e2b\\u0e21\\u0e32\\u0e22\\u0e01\\u0e2d\\u0e07\\u0e17\\u0e38\\u0e19\\u0e1f\\u0e37\\u0e49\\u0e19\\u0e1f\\u0e39\\u0e41\\u0e25\\u0e30\\u0e1e\\u0e31\\u0e12\\u0e19\\u0e32\\u0e40\\u0e01\\u0e29\\u0e15\\u0e23\\u0e01\\u0e23 \\u0e40\\u0e1e\\u0e37\\u0e48\\u0e2d\\u0e41\\u0e01\\u0e49\\u0e44\\u0e02\\u0e1b\\u0e31\\u0e0d\\u0e2b\\u0e32\\u0e2b\\u0e19\\u0e35\\u0e49\\u0e2a\\u0e34\\u0e19 \\u0e41\\u0e25\\u0e30\\u0e23\\u0e31\\u0e01\\u0e29\\u0e32\\u0e17\\u0e35\\u0e48\\u0e14\\u0e34\\u0e19\\u0e17\\u0e33\\u0e01\\u0e34\\u0e19\\u0e43\\u0e2b\\u0e49\\u0e01\\u0e31\\u0e1a\\u0e40\\u0e01\\u0e29\\u0e15\\u0e23\\u0e01\\u0e2d\\u0e22\\u0e48\\u0e32\\u0e07\\u0e21\\u0e35\\u0e1b\\u0e23\\u0e30\\u0e2a\\u0e34\\u0e17\\u0e18\\u0e34\\u0e20\\u0e32\\u0e1e 4. \\u0e2a\\u0e48\\u0e07\\u0e40\\u0e2a\\u0e23\\u0e34\\u0e21\\u0e1e\\u0e25\\u0e31\\u0e07\\u0e07\\u0e32\\u0e19\\u0e17\\u0e32\\u0e07\\u0e40\\u0e25\\u0e37\\u0e2d\\u0e01\\u0e17\\u0e35\\u0e48\\u0e40\\u0e1b\\u0e47\\u0e19\\u0e21\\u0e34\\u0e15\\u0e23\\u0e01\\u0e31\\u0e1a\\u0e2a\\u0e34\\u0e48\\u0e07\\u0e41\\u0e27\\u0e14\\u0e25\\u0e49\\u0e2d\\u0e21 5. \\u0e1b\\u0e0f\\u0e34\\u0e23\\u0e39\\u0e1b\\u0e04\\u0e38\\u0e13\\u0e20\\u0e32\\u0e1e\\u0e0a\\u0e35\\u0e27\\u0e34\\u0e15\\u0e41\\u0e25\\u0e30\\u0e2a\\u0e31\\u0e07\\u0e04\\u0e21\\u0e14\\u0e49\\u0e27\\u0e22\\u0e01\\u0e32\\u0e23\\u0e08\\u0e31\\u0e14\\u0e23\\u0e30\\u0e1a\\u0e1a\\u0e1a\\u0e2a\\u0e27\\u0e31\\u0e2a\\u0e14\\u0e34\\u0e01\\u0e32\\u0e23\\u0e21\\u0e32\\u0e15\\u0e23\\u0e10\\u0e32\\u0e19\\u0e40\\u0e14\\u0e35\\u0e22\\u0e27\\u0e01\\u0e31\\u0e19 \\u0e40\\u0e2a\\u0e21\\u0e2d\\u0e20\\u0e32\\u0e04 \\u0e41\\u0e25\\u0e30\\u0e40\\u0e17\\u0e48\\u0e32\\u0e40\\u0e17\\u0e35\\u0e22\\u0e21 \\u0e43\\u0e2b\\u0e49\\u0e0a\\u0e38\\u0e21\\u0e0a\\u0e19\\u0e17\\u0e49\\u0e2d\\u0e07\\u0e16\\u0e34\\u0e48\\u0e19\\u0e2a\\u0e32\\u0e21\\u0e32\\u0e23\\u0e16\\u0e08\\u0e31\\u0e14\\u0e01\\u0e32\\u0e23\\u0e28\\u0e36\\u0e01\\u0e29\\u0e32 \\u0e41\\u0e25\\u0e30\\u0e1e\\u0e31\\u0e12\\u0e19\\u0e32\\u0e2b\\u0e25\\u0e31\\u0e01\\u0e2a\\u0e39\\u0e15\\u0e23\\u0e17\\u0e35\\u0e48\\u0e2a\\u0e2d\\u0e14\\u0e04\\u0e25\\u0e49\\u0e2d\\u0e07\\u0e01\\u0e31\\u0e1a\\u0e20\\u0e39\\u0e21\\u0e34\\u0e1b\\u0e31\\u0e0d\\u0e0d\\u0e32 \\u0e41\\u0e25\\u0e30\\u0e2d\\u0e31\\u0e15\\u0e25\\u0e31\\u0e01\\u0e29\\u0e13\\u0e4c\\u0e0a\\u0e38\\u0e21\\u0e0a\\u0e19 \\u0e41\\u0e25\\u0e30\\u0e43\\u0e2b\\u0e49\\u0e20\\u0e32\\u0e04\\u0e1b\\u0e23\\u0e30\\u0e0a\\u0e32\\u0e0a\\u0e19\\u0e40\\u0e02\\u0e49\\u0e32\\u0e21\\u0e35\\u0e2a\\u0e48\\u0e27\\u0e19\\u0e23\\u0e48\\u0e27\\u0e21\\u0e43\\u0e19\\u0e01\\u0e32\\u0e23\\u0e41\\u0e01\\u0e49\\u0e44\\u0e02\\u0e1b\\u0e31\\u0e0d\\u0e2b\\u0e32\\u0e22\\u0e32\\u0e40\\u0e2a\\u0e1e\\u0e15\\u0e34\\u0e14 6.\\u0e22\\u0e01\\u0e40\\u0e25\\u0e34\\u0e01\\u0e01\\u0e0e\\u0e2b\\u0e21\\u0e32\\u0e22\\u0e17\\u0e35\\u0e48\\u0e40\\u0e1b\\u0e47\\u0e19\\u0e2d\\u0e38\\u0e1b\\u0e2a\\u0e23\\u0e23\\u0e04\\u0e15\\u0e48\\u0e2d\\u0e01\\u0e32\\u0e23\\u0e17\\u0e33\\u0e07\\u0e32\\u0e19\\u0e20\\u0e32\\u0e04\\u0e1b\\u0e23\\u0e30\\u0e0a\\u0e32\\u0e0a\\u0e19 \\u0e1c\\u0e25\\u0e31\\u0e01\\u0e14\\u0e31\\u0e19\\u0e43\\u0e2b\\u0e49\\u0e21\\u0e35\\u0e01\\u0e32\\u0e23\\u0e1a\\u0e31\\u0e07\\u0e04\\u0e31\\u0e1a\\u0e43\\u0e0a\\u0e49\\u0e01\\u0e0e\\u0e2b\\u0e21\\u0e32\\u0e22\\u0e17\\u0e35\\u0e48\\u0e04\\u0e38\\u0e49\\u0e21\\u0e04\\u0e23\\u0e2d\\u0e07\\u0e40\\u0e2a\\u0e23\\u0e35\\u0e20\\u0e32\\u0e1e\\u0e2a\\u0e37\\u0e48\\u0e2d \\u0e23\\u0e27\\u0e21\\u0e17\\u0e31\\u0e49\\u0e07\\u0e40\\u0e2a\\u0e23\\u0e35\\u0e20\\u0e32\\u0e1e\\u0e1b\\u0e23\\u0e30\\u0e0a\\u0e32\\u0e0a\\u0e19\\u0e43\\u0e19\\u0e01\\u0e32\\u0e23\\u0e41\\u0e2a\\u0e14\\u0e07\\u0e2d\\u0e2d\\u0e01\\u0e40\\u0e1e\\u0e37\\u0e48\\u0e2d\\u0e40\\u0e04\\u0e25\\u0e37\\u0e48\\u0e2d\\u0e19\\u0e44\\u0e2b\\u0e27\\u0e17\\u0e32\\u0e07\\u0e01\\u0e32\\u0e23\\u0e40\\u0e21\\u0e37\\u0e2d\\u0e07 \\u0e2d\\u0e19\\u0e36\\u0e48\\u0e07 \\u0e01\\u0e32\\u0e23\\u0e19\\u0e33\\u0e02\\u0e49\\u0e2d\\u0e40\\u0e2a\\u0e19\\u0e2d\\u0e02\\u0e2d\\u0e07\\u0e1b\\u0e23\\u0e30\\u0e0a\\u0e32\\u0e0a\\u0e19\\u0e40\\u0e1b\\u0e47\\u0e19\\u0e19\\u0e42\\u0e22\\u0e1a\\u0e32\\u0e22\\u0e02\\u0e2d\\u0e07\\u0e23\\u0e31\\u0e10\\u0e1a\\u0e32\\u0e25 \\u0e40\\u0e1e\\u0e37\\u0e48\\u0e2d\\u0e19\\u0e33\\u0e2a\\u0e39\\u0e48\\u0e01\\u0e32\\u0e23\\u0e1b\\u0e0f\\u0e34\\u0e1a\\u0e31\\u0e15\\u0e34\\u0e2d\\u0e22\\u0e48\\u0e32\\u0e07\\u0e21\\u0e35\\u0e18\\u0e23\\u0e23\\u0e21\\u0e32\\u0e20\\u0e34\\u0e1a\\u0e32\\u0e25 \\u0e19\\u0e2d\\u0e01\\u0e08\\u0e32\\u0e01\\u0e08\\u0e30\\u0e15\\u0e2d\\u0e1a\\u0e2a\\u0e19\\u0e2d\\u0e07\\u0e04\\u0e27\\u0e32\\u0e21\\u0e15\\u0e49\\u0e2d\\u0e07\\u0e01\\u0e32\\u0e23\\u0e17\\u0e35\\u0e48\\u0e41\\u0e17\\u0e49\\u0e08\\u0e23\\u0e34\\u0e07\\u0e02\\u0e2d\\u0e07\\u0e1b\\u0e23\\u0e30\\u0e0a\\u0e32\\u0e0a\\u0e19\\u0e41\\u0e25\\u0e49\\u0e27 \\u0e22\\u0e31\\u0e07\\u0e0a\\u0e48\\u0e27\\u0e22\\u0e41\\u0e01\\u0e49\\u0e27\\u0e34\\u0e01\\u0e24\\u0e15\\u0e01\\u0e32\\u0e23\\u0e13\\u0e4c\\u0e02\\u0e2d\\u0e07\\u0e0a\\u0e32\\u0e15\\u0e34\\u0e2d\\u0e22\\u0e48\\u0e32\\u0e07\\u0e40\\u0e1b\\u0e47\\u0e19\\u0e23\\u0e39\\u0e1b\\u0e18\\u0e23\\u0e23\\u0e21 \\u0e14\\u0e49\\u0e27\\u0e22\\u0e01\\u0e32\\u0e23\\u0e17\\u0e33\\u0e2b\\u0e19\\u0e49\\u0e32\\u0e17\\u0e35\\u0e48\\u0e2d\\u0e22\\u0e48\\u0e32\\u0e07\\u0e0b\\u0e37\\u0e48\\u0e2d\\u0e2a\\u0e31\\u0e15\\u0e22\\u0e4c \\u0e42\\u0e1b\\u0e23\\u0e48\\u0e07\\u0e43\\u0e2a\\u0e02\\u0e2d\\u0e07\\u0e23\\u0e31\\u0e10\\u0e1a\\u0e32\\u0e25 \\u0e2a\\u0e21\\u0e32\\u0e0a\\u0e34\\u0e01\\u0e23\\u0e31\\u0e10\\u0e2a\\u0e20\\u0e32 \\u0e41\\u0e25\\u0e30\\u0e21\\u0e35\\u0e2a\\u0e48\\u0e27\\u0e19\\u0e23\\u0e48\\u0e27\\u0e21\\u0e02\\u0e2d\\u0e07\\u0e1b\\u0e23\\u0e30\\u0e0a\\u0e32\\u0e0a\\u0e19\\u0e17\\u0e38\\u0e01\\u0e20\\u0e32\\u0e04\\u0e2a\\u0e48\\u0e27\\u0e19 \\u0e08\\u0e30\\u0e19\\u0e33\\u0e1e\\u0e32\\u0e2a\\u0e31\\u0e07\\u0e04\\u0e21 \\u0e1b\\u0e23\\u0e30\\u0e40\\u0e17\\u0e28\\u0e44\\u0e17\\u0e22 \\u0e1f\\u0e31\\u0e19\\u0e1d\\u0e48\\u0e32\\u0e2d\\u0e38\\u0e1b\\u0e2a\\u0e23\\u0e23\\u0e04 \\u0e41\\u0e25\\u0e30\\u0e01\\u0e49\\u0e32\\u0e27\\u0e1e\\u0e49\\u0e19\\u0e27\\u0e34\\u0e01\\u0e24\\u0e15\\u0e01\\u0e32\\u0e23\\u0e13\\u0e4c\\u0e02\\u0e2d\\u0e07\\u0e0a\\u0e32\\u0e15\\u0e34\\u0e08\\u0e19\\u0e19\\u0e33\\u0e1e\\u0e32\\u0e1b\\u0e23\\u0e30\\u0e40\\u0e17\\u0e28\\u0e2a\\u0e39\\u0e48\\u0e04\\u0e27\\u0e32\\u0e21\\u0e2a\\u0e07\\u0e1a\\u0e41\\u0e25\\u0e30\\u0e2a\\u0e31\\u0e19\\u0e15\\u0e34\\u0e2a\\u0e38\\u0e02\\u0e2d\\u0e22\\u0e48\\u0e32\\u0e07\\u0e41\\u0e17\\u0e49\\u0e08\\u0e23\\u0e34\\u0e07\\n\"\n        ],\n        \"semantic_type\": \"\",\n        \"description\": \"\"\n      }\n    },\n    {\n      \"column\": \"labels\",\n      \"properties\": {\n        \"dtype\": \"string\",\n        \"num_unique_values\": 44365,\n        \"samples\": [\n          \"['\\u0e2a\\u0e31\\u0e21\\u0e20\\u0e32\\u0e29\\u0e13\\u0e4c', '\\u0e01\\u0e32\\u0e23\\u0e40\\u0e21\\u0e37\\u0e2d\\u0e07', '112', '14 \\u0e15\\u0e38\\u0e25\\u0e32\\u0e04\\u0e21 2516', '40 \\u0e1b\\u0e35 14 \\u0e15\\u0e38\\u0e25\\u0e32\\u0e04\\u0e21 2516', '41 \\u0e1b\\u0e35 14 \\u0e15\\u0e38\\u0e25\\u0e32\\u0e04\\u0e21 2516', '\\u0e01\\u0e25\\u0e38\\u0e48\\u0e21\\u0e04\\u0e19\\u0e40\\u0e2a\\u0e37\\u0e49\\u0e2d\\u0e41\\u0e14\\u0e07', '\\u0e08\\u0e23\\u0e31\\u0e25 \\u0e14\\u0e34\\u0e29\\u0e10\\u0e32\\u0e2d\\u0e20\\u0e34\\u0e0a\\u0e31\\u0e22', '\\u0e19\\u0e1b\\u0e0a.', '\\u0e40\\u0e08\\u0e49\\u0e32\\u0e2a\\u0e32\\u0e27\\u0e2b\\u0e21\\u0e32\\u0e1b\\u0e48\\u0e32']\",\n          \"['\\u0e02\\u0e48\\u0e32\\u0e27', '\\u0e15\\u0e48\\u0e32\\u0e07\\u0e1b\\u0e23\\u0e30\\u0e40\\u0e17\\u0e28', '\\u0e2a\\u0e34\\u0e17\\u0e18\\u0e34\\u0e21\\u0e19\\u0e38\\u0e29\\u0e22\\u0e0a\\u0e19', '\\u0e27\\u0e31\\u0e12\\u0e19\\u0e18\\u0e23\\u0e23\\u0e21', '#BlackLiveMatter', 'NFL', '\\u0e01\\u0e32\\u0e23\\u0e40\\u0e04\\u0e32\\u0e23\\u0e1e\\u0e18\\u0e07\\u0e0a\\u0e32\\u0e15\\u0e34', '\\u0e01\\u0e32\\u0e23\\u0e40\\u0e2b\\u0e22\\u0e35\\u0e22\\u0e14\\u0e40\\u0e0a\\u0e37\\u0e49\\u0e2d\\u0e0a\\u0e32\\u0e15\\u0e34', '\\u0e0b\\u0e32\\u0e19\\u0e1f\\u0e23\\u0e32\\u0e19\\u0e0b\\u0e34\\u0e2a\\u0e42\\u0e01 \\u0e42\\u0e1f\\u0e23\\u0e4c\\u0e15\\u0e35\\u0e49\\u0e44\\u0e19\\u0e40\\u0e19\\u0e2d\\u0e23\\u0e4c\\u0e2a', '\\u0e2a\\u0e2b\\u0e23\\u0e31\\u0e10\\u0e2d\\u0e40\\u0e21\\u0e23\\u0e34\\u0e01\\u0e32', '\\u0e2d\\u0e40\\u0e21\\u0e23\\u0e34\\u0e01\\u0e31\\u0e19\\u0e1f\\u0e38\\u0e15\\u0e1a\\u0e2d\\u0e25', '\\u0e42\\u0e04\\u0e25\\u0e34\\u0e19 \\u0e41\\u0e04\\u0e40\\u0e1e\\u0e2d\\u0e23\\u0e4c\\u0e19\\u0e34\\u0e04']\",\n          \"['\\u0e1a\\u0e17\\u0e04\\u0e27\\u0e32\\u0e21', '\\u0e04\\u0e38\\u0e13\\u0e20\\u0e32\\u0e1e\\u0e0a\\u0e35\\u0e27\\u0e34\\u0e15', '\\u0e2a\\u0e34\\u0e17\\u0e18\\u0e34\\u0e21\\u0e19\\u0e38\\u0e29\\u0e22\\u0e0a\\u0e19', '\\u0e01\\u0e0e\\u0e2b\\u0e21\\u0e32\\u0e22', '\\u0e07\\u0e14\\u0e40\\u0e2b\\u0e25\\u0e49\\u0e32\\u0e40\\u0e02\\u0e49\\u0e32\\u0e1e\\u0e23\\u0e23\\u0e29\\u0e32', '\\u0e13\\u0e31\\u0e0e\\u0e10\\u0e1e\\u0e25 \\u0e2a\\u0e01\\u0e38\\u0e25\\u0e40\\u0e21\\u0e06\\u0e32', '\\u0e23\\u0e31\\u0e10\\u0e18\\u0e23\\u0e23\\u0e21\\u0e19\\u0e39\\u0e0d\\u0e02\\u0e2d\\u0e07\\u0e40\\u0e22\\u0e2d\\u0e23\\u0e21\\u0e31\\u0e19', '\\u0e40\\u0e22\\u0e2d\\u0e23\\u0e21\\u0e31\\u0e19']\"\n        ],\n        \"semantic_type\": \"\",\n        \"description\": \"\"\n      }\n    }\n  ]\n}"
            }
          },
          "metadata": {},
          "execution_count": 4
        }
      ]
    },
    {
      "cell_type": "markdown",
      "source": [
        "ตัดคำ Tokenization ด้วย pythainlp"
      ],
      "metadata": {
        "id": "RXHtGegEj0zU"
      }
    },
    {
      "cell_type": "code",
      "source": [
        "from pythainlp.tokenize import word_tokenize"
      ],
      "metadata": {
        "id": "59-A6OoyjZ-P"
      },
      "execution_count": 5,
      "outputs": []
    },
    {
      "cell_type": "code",
      "source": [
        "sentences = [word_tokenize(sentence) for sentence in prachathai['body_text'].tolist()]"
      ],
      "metadata": {
        "colab": {
          "base_uri": "https://localhost:8080/",
          "height": 298
        },
        "id": "g4epnobgjl8j",
        "outputId": "8be4c376-4624-426d-ca7c-8127edff4555"
      },
      "execution_count": 7,
      "outputs": [
        {
          "output_type": "error",
          "ename": "KeyboardInterrupt",
          "evalue": "",
          "traceback": [
            "\u001b[0;31m---------------------------------------------------------------------------\u001b[0m",
            "\u001b[0;31mKeyboardInterrupt\u001b[0m                         Traceback (most recent call last)",
            "\u001b[0;32m<ipython-input-7-5ac71b17dc69>\u001b[0m in \u001b[0;36m<cell line: 1>\u001b[0;34m()\u001b[0m\n\u001b[0;32m----> 1\u001b[0;31m \u001b[0msentences\u001b[0m \u001b[0;34m=\u001b[0m \u001b[0;34m[\u001b[0m\u001b[0mword_tokenize\u001b[0m\u001b[0;34m(\u001b[0m\u001b[0msentence\u001b[0m\u001b[0;34m)\u001b[0m \u001b[0;32mfor\u001b[0m \u001b[0msentence\u001b[0m \u001b[0;32min\u001b[0m \u001b[0mprachathai\u001b[0m\u001b[0;34m[\u001b[0m\u001b[0;34m'body_text'\u001b[0m\u001b[0;34m]\u001b[0m\u001b[0;34m.\u001b[0m\u001b[0mtolist\u001b[0m\u001b[0;34m(\u001b[0m\u001b[0;34m)\u001b[0m\u001b[0;34m]\u001b[0m\u001b[0;34m\u001b[0m\u001b[0;34m\u001b[0m\u001b[0m\n\u001b[0m",
            "\u001b[0;32m<ipython-input-7-5ac71b17dc69>\u001b[0m in \u001b[0;36m<listcomp>\u001b[0;34m(.0)\u001b[0m\n\u001b[0;32m----> 1\u001b[0;31m \u001b[0msentences\u001b[0m \u001b[0;34m=\u001b[0m \u001b[0;34m[\u001b[0m\u001b[0mword_tokenize\u001b[0m\u001b[0;34m(\u001b[0m\u001b[0msentence\u001b[0m\u001b[0;34m)\u001b[0m \u001b[0;32mfor\u001b[0m \u001b[0msentence\u001b[0m \u001b[0;32min\u001b[0m \u001b[0mprachathai\u001b[0m\u001b[0;34m[\u001b[0m\u001b[0;34m'body_text'\u001b[0m\u001b[0;34m]\u001b[0m\u001b[0;34m.\u001b[0m\u001b[0mtolist\u001b[0m\u001b[0;34m(\u001b[0m\u001b[0;34m)\u001b[0m\u001b[0;34m]\u001b[0m\u001b[0;34m\u001b[0m\u001b[0;34m\u001b[0m\u001b[0m\n\u001b[0m",
            "\u001b[0;32m/usr/local/lib/python3.10/dist-packages/pythainlp/tokenize/core.py\u001b[0m in \u001b[0;36mword_tokenize\u001b[0;34m(text, custom_dict, engine, keep_whitespace, join_broken_num)\u001b[0m\n\u001b[1;32m    244\u001b[0m         \u001b[0;32mfrom\u001b[0m \u001b[0mpythainlp\u001b[0m\u001b[0;34m.\u001b[0m\u001b[0mtokenize\u001b[0m\u001b[0;34m.\u001b[0m\u001b[0mnewmm\u001b[0m \u001b[0;32mimport\u001b[0m \u001b[0msegment\u001b[0m\u001b[0;34m\u001b[0m\u001b[0;34m\u001b[0m\u001b[0m\n\u001b[1;32m    245\u001b[0m \u001b[0;34m\u001b[0m\u001b[0m\n\u001b[0;32m--> 246\u001b[0;31m         \u001b[0msegments\u001b[0m \u001b[0;34m=\u001b[0m \u001b[0msegment\u001b[0m\u001b[0;34m(\u001b[0m\u001b[0mtext\u001b[0m\u001b[0;34m,\u001b[0m \u001b[0mcustom_dict\u001b[0m\u001b[0;34m)\u001b[0m\u001b[0;34m\u001b[0m\u001b[0;34m\u001b[0m\u001b[0m\n\u001b[0m\u001b[1;32m    247\u001b[0m     \u001b[0;32melif\u001b[0m \u001b[0mengine\u001b[0m \u001b[0;34m==\u001b[0m \u001b[0;34m\"newmm-safe\"\u001b[0m\u001b[0;34m:\u001b[0m\u001b[0;34m\u001b[0m\u001b[0;34m\u001b[0m\u001b[0m\n\u001b[1;32m    248\u001b[0m         \u001b[0;32mfrom\u001b[0m \u001b[0mpythainlp\u001b[0m\u001b[0;34m.\u001b[0m\u001b[0mtokenize\u001b[0m\u001b[0;34m.\u001b[0m\u001b[0mnewmm\u001b[0m \u001b[0;32mimport\u001b[0m \u001b[0msegment\u001b[0m\u001b[0;34m\u001b[0m\u001b[0;34m\u001b[0m\u001b[0m\n",
            "\u001b[0;32m/usr/local/lib/python3.10/dist-packages/pythainlp/tokenize/newmm.py\u001b[0m in \u001b[0;36msegment\u001b[0;34m(text, custom_dict, safe_mode)\u001b[0m\n\u001b[1;32m    169\u001b[0m \u001b[0;34m\u001b[0m\u001b[0m\n\u001b[1;32m    170\u001b[0m     \u001b[0;32mif\u001b[0m \u001b[0;32mnot\u001b[0m \u001b[0msafe_mode\u001b[0m \u001b[0;32mor\u001b[0m \u001b[0mlen\u001b[0m\u001b[0;34m(\u001b[0m\u001b[0mtext\u001b[0m\u001b[0;34m)\u001b[0m \u001b[0;34m<\u001b[0m \u001b[0m_TEXT_SCAN_END\u001b[0m\u001b[0;34m:\u001b[0m\u001b[0;34m\u001b[0m\u001b[0;34m\u001b[0m\u001b[0m\n\u001b[0;32m--> 171\u001b[0;31m         \u001b[0;32mreturn\u001b[0m \u001b[0mlist\u001b[0m\u001b[0;34m(\u001b[0m\u001b[0m_onecut\u001b[0m\u001b[0;34m(\u001b[0m\u001b[0mtext\u001b[0m\u001b[0;34m,\u001b[0m \u001b[0mcustom_dict\u001b[0m\u001b[0;34m)\u001b[0m\u001b[0;34m)\u001b[0m\u001b[0;34m\u001b[0m\u001b[0;34m\u001b[0m\u001b[0m\n\u001b[0m\u001b[1;32m    172\u001b[0m \u001b[0;34m\u001b[0m\u001b[0m\n\u001b[1;32m    173\u001b[0m     \u001b[0;31m# if the text is longer than the limit,\u001b[0m\u001b[0;34m\u001b[0m\u001b[0;34m\u001b[0m\u001b[0m\n",
            "\u001b[0;32m/usr/local/lib/python3.10/dist-packages/pythainlp/tokenize/newmm.py\u001b[0m in \u001b[0;36m_onecut\u001b[0;34m(text, custom_dict)\u001b[0m\n\u001b[1;32m     85\u001b[0m     \u001b[0;32mwhile\u001b[0m \u001b[0mpos_list\u001b[0m\u001b[0;34m[\u001b[0m\u001b[0;36m0\u001b[0m\u001b[0;34m]\u001b[0m \u001b[0;34m<\u001b[0m \u001b[0mlen_text\u001b[0m\u001b[0;34m:\u001b[0m\u001b[0;34m\u001b[0m\u001b[0;34m\u001b[0m\u001b[0m\n\u001b[1;32m     86\u001b[0m         \u001b[0mbegin_pos\u001b[0m \u001b[0;34m=\u001b[0m \u001b[0mheappop\u001b[0m\u001b[0;34m(\u001b[0m\u001b[0mpos_list\u001b[0m\u001b[0;34m)\u001b[0m\u001b[0;34m\u001b[0m\u001b[0;34m\u001b[0m\u001b[0m\n\u001b[0;32m---> 87\u001b[0;31m         \u001b[0;32mfor\u001b[0m \u001b[0mword\u001b[0m \u001b[0;32min\u001b[0m \u001b[0mcustom_dict\u001b[0m\u001b[0;34m.\u001b[0m\u001b[0mprefixes\u001b[0m\u001b[0;34m(\u001b[0m\u001b[0mtext\u001b[0m\u001b[0;34m[\u001b[0m\u001b[0mbegin_pos\u001b[0m\u001b[0;34m:\u001b[0m\u001b[0;34m]\u001b[0m\u001b[0;34m)\u001b[0m\u001b[0;34m:\u001b[0m\u001b[0;34m\u001b[0m\u001b[0;34m\u001b[0m\u001b[0m\n\u001b[0m\u001b[1;32m     88\u001b[0m             \u001b[0mend_pos_candidate\u001b[0m \u001b[0;34m=\u001b[0m \u001b[0mbegin_pos\u001b[0m \u001b[0;34m+\u001b[0m \u001b[0mlen\u001b[0m\u001b[0;34m(\u001b[0m\u001b[0mword\u001b[0m\u001b[0;34m)\u001b[0m\u001b[0;34m\u001b[0m\u001b[0;34m\u001b[0m\u001b[0m\n\u001b[1;32m     89\u001b[0m             \u001b[0;32mif\u001b[0m \u001b[0mend_pos_candidate\u001b[0m \u001b[0;32min\u001b[0m \u001b[0mvalid_poss\u001b[0m\u001b[0;34m:\u001b[0m\u001b[0;34m\u001b[0m\u001b[0;34m\u001b[0m\u001b[0m\n",
            "\u001b[0;32m/usr/local/lib/python3.10/dist-packages/pythainlp/util/trie.py\u001b[0m in \u001b[0;36mprefixes\u001b[0;34m(self, text)\u001b[0m\n\u001b[1;32m     84\u001b[0m                 \u001b[0;32mbreak\u001b[0m\u001b[0;34m\u001b[0m\u001b[0;34m\u001b[0m\u001b[0m\n\u001b[1;32m     85\u001b[0m             \u001b[0;32mif\u001b[0m \u001b[0mnode\u001b[0m\u001b[0;34m.\u001b[0m\u001b[0mend\u001b[0m\u001b[0;34m:\u001b[0m\u001b[0;34m\u001b[0m\u001b[0;34m\u001b[0m\u001b[0m\n\u001b[0;32m---> 86\u001b[0;31m                 \u001b[0mres\u001b[0m\u001b[0;34m.\u001b[0m\u001b[0mappend\u001b[0m\u001b[0;34m(\u001b[0m\u001b[0mtext\u001b[0m\u001b[0;34m[\u001b[0m\u001b[0;34m:\u001b[0m \u001b[0mi\u001b[0m \u001b[0;34m+\u001b[0m \u001b[0;36m1\u001b[0m\u001b[0;34m]\u001b[0m\u001b[0;34m)\u001b[0m\u001b[0;34m\u001b[0m\u001b[0;34m\u001b[0m\u001b[0m\n\u001b[0m\u001b[1;32m     87\u001b[0m             \u001b[0mcur\u001b[0m \u001b[0;34m=\u001b[0m \u001b[0mnode\u001b[0m\u001b[0;34m\u001b[0m\u001b[0;34m\u001b[0m\u001b[0m\n\u001b[1;32m     88\u001b[0m         \u001b[0;32mreturn\u001b[0m \u001b[0mres\u001b[0m\u001b[0;34m\u001b[0m\u001b[0;34m\u001b[0m\u001b[0m\n",
            "\u001b[0;31mKeyboardInterrupt\u001b[0m: "
          ]
        }
      ]
    },
    {
      "cell_type": "code",
      "source": [
        "sentences[20]"
      ],
      "metadata": {
        "id": "1StSUMWAjq29"
      },
      "execution_count": null,
      "outputs": []
    },
    {
      "cell_type": "markdown",
      "source": [
        "**Word2Vec with Gensim library**"
      ],
      "metadata": {
        "id": "PoRP0H1Bj39V"
      }
    },
    {
      "cell_type": "code",
      "source": [
        "!pip install gensim"
      ],
      "metadata": {
        "id": "_WDXNaRGjykt"
      },
      "execution_count": null,
      "outputs": []
    },
    {
      "cell_type": "code",
      "source": [
        "from gensim.models import word2vec\n",
        "import numpy as np\n",
        "import matplotlib.pyplot as plt\n",
        "import matplotlib.font_manager as font_manager"
      ],
      "metadata": {
        "id": "Jnehj7s3j9qd"
      },
      "execution_count": null,
      "outputs": []
    },
    {
      "cell_type": "markdown",
      "source": [
        "Split data by space"
      ],
      "metadata": {
        "id": "x0VHFzmRkEHa"
      }
    },
    {
      "cell_type": "markdown",
      "source": [
        "Print example data - บางครั้งเราอาจจะ Preprocess ให้มันตัดได้ทุกต้อง หรือลบพวกเครื่องหมายแปลกๆ ออกไปก่อน บางคนมองว่ามันคือธรรมชาติ"
      ],
      "metadata": {
        "id": "69yjsDYjkHoO"
      }
    },
    {
      "cell_type": "code",
      "source": [
        "print(sentences[0:2])"
      ],
      "metadata": {
        "id": "nN-VYEJXkFQf"
      },
      "execution_count": null,
      "outputs": []
    },
    {
      "cell_type": "markdown",
      "source": [
        "Parameters for training Word2Vec"
      ],
      "metadata": {
        "id": "BObsrQzIkO-r"
      }
    },
    {
      "cell_type": "code",
      "source": [
        "num_workers = 2\n",
        "downsampling = 1e-3 # ตัวไหนข้อมูลความถี่มากๆ ทำยังไงถึงจะ drop\n",
        "num_feature = 100 # Word dimensions ถ้าข้อมูลมากๆ บางครั้งใช้ 100, 50 เป็นขนาดเล็ก\n",
        "min_word_count = 10 # ดูว่าคำไหนที่มีความถี่น้อยกว่า 10 จะตัดออก\n",
        "context = 8 # ไซส์ของวินโดว์ คำรอบข้างที่ดูนั่นเอง\n",
        "modelname = 'word2vec_gensim'"
      ],
      "metadata": {
        "id": "7zac60P6kQSR"
      },
      "execution_count": null,
      "outputs": []
    },
    {
      "cell_type": "code",
      "source": [
        "w2v = word2vec.Word2Vec(workerse=num_workers, max_vocab_size=None, size=num_feature,\n",
        "                        min_count = min_word_count, window=context, sample=downsampling)"
      ],
      "metadata": {
        "id": "4Thg_bh1kmhE"
      },
      "execution_count": null,
      "outputs": []
    },
    {
      "cell_type": "code",
      "source": [
        "w2v.build_vocab(sentences)"
      ],
      "metadata": {
        "id": "wW8f5n2AkvIe"
      },
      "execution_count": null,
      "outputs": []
    },
    {
      "cell_type": "markdown",
      "source": [
        "จริงๆมีค่านึง เค้าเรียกว่าค่า Perplexity เราลองปรับค่าดูว่ามีผลเป็นยังไงบ้าง"
      ],
      "metadata": {
        "id": "lb2YU0_rk1G5"
      }
    },
    {
      "cell_type": "code",
      "source": [
        "w2v.train(sentences, total_examples=w2v.corpus_count, epochs=10)"
      ],
      "metadata": {
        "id": "beEILaW6kxqn"
      },
      "execution_count": null,
      "outputs": []
    },
    {
      "cell_type": "markdown",
      "source": [
        "ทดลองใช้คำว่ารถ มาดูคำใกล้เคียง"
      ],
      "metadata": {
        "id": "rOdr64qXlA1x"
      }
    },
    {
      "cell_type": "code",
      "source": [
        "WORD = \"รถ\"\n",
        "w2v.wv.most_similar(WORD, topn=20)"
      ],
      "metadata": {
        "id": "5JS1L-1Ck9Rw"
      },
      "execution_count": null,
      "outputs": []
    },
    {
      "cell_type": "code",
      "source": [
        "WORD = \"เมื่อไหร่\"\n",
        "w2v.wv.most_similar(WORD, topn=20)"
      ],
      "metadata": {
        "id": "40X36nAYlC_S"
      },
      "execution_count": null,
      "outputs": []
    },
    {
      "cell_type": "code",
      "source": [
        "WORD = \"ดำน้ำ\"\n",
        "w2v.wv.most_similar(WORD, topn=20)"
      ],
      "metadata": {
        "id": "K1Z8bfQzlE7J"
      },
      "execution_count": null,
      "outputs": []
    },
    {
      "cell_type": "code",
      "source": [
        "WORD = \"แม้ว\"\n",
        "w2v.wv.most_similar(WORD, topn=20)"
      ],
      "metadata": {
        "id": "Y-vXFFexlHfB"
      },
      "execution_count": null,
      "outputs": []
    },
    {
      "cell_type": "code",
      "source": [
        "WORD = \"ทักษิณ\"\n",
        "w2v.wv.most_similar(WORD, topn=20)"
      ],
      "metadata": {
        "id": "PVpkHh-ElJJi"
      },
      "execution_count": null,
      "outputs": []
    },
    {
      "cell_type": "code",
      "source": [
        "word = \"นักข่าว\"\n",
        "he = w2v.wv.most_similar(word, topn=6)"
      ],
      "metadata": {
        "id": "m7Rr-N1GpvJ3"
      },
      "execution_count": null,
      "outputs": []
    },
    {
      "cell_type": "markdown",
      "source": [
        "ลองเอานักข่าวมา plot graph เพื่อดู"
      ],
      "metadata": {
        "id": "gwfMKBS0p2vU"
      }
    },
    {
      "cell_type": "code",
      "source": [
        "x = [w[0] for w in he]\n",
        "x.append(word)"
      ],
      "metadata": {
        "id": "LbJh2mrhprzh"
      },
      "execution_count": null,
      "outputs": []
    },
    {
      "cell_type": "code",
      "source": [
        "labels = w2v.wv.index2word"
      ],
      "metadata": {
        "id": "SzuVXR9Yp5F0"
      },
      "execution_count": null,
      "outputs": []
    },
    {
      "cell_type": "markdown",
      "source": [
        "เนื่องจากไอ้ Word2Vec มันมี 100 มิติ ที่เรากำหนด num_features\n",
        "มนุษย์เราอ่านแค่ 3D ก็จะแย่ละ เราจึงใช้ TSNE (ทิซินี่) ในการดู"
      ],
      "metadata": {
        "id": "SR7TxbJeqHWW"
      }
    },
    {
      "cell_type": "markdown",
      "source": [
        "PCA ลด Reduce Dimension เพื่อดู"
      ],
      "metadata": {
        "id": "fp9DYclxqT6y"
      }
    },
    {
      "cell_type": "code",
      "source": [
        "from sklearn.manifold import TSNE\n",
        "tsne = TSNE(perplexity=30.0, n_components=2, init='pca', n_iter=5000)\n",
        "thai2plot = tsne.fit_transform(w2v.wv.vectors)"
      ],
      "metadata": {
        "id": "yTh9dVsyqRzW"
      },
      "execution_count": null,
      "outputs": []
    },
    {
      "cell_type": "code",
      "source": [
        "!wget https://github.com/themesanasang/car/blob/master/assets/fonts/THSarabunNew.ttf?raw=true"
      ],
      "metadata": {
        "id": "y0Z5lHHJqecK"
      },
      "execution_count": null,
      "outputs": []
    },
    {
      "cell_type": "code",
      "source": [
        "sample_idx=[]\n",
        "for word in x:\n",
        "  sample_idx.append(labels.index(word))\n",
        "sample_plot = thai2plot[sample_idx]"
      ],
      "metadata": {
        "id": "Ri9-LqWPqur1"
      },
      "execution_count": null,
      "outputs": []
    },
    {
      "cell_type": "code",
      "source": [
        "def plot_with_labels(low_dim_embs, labels, filename, figsize=(10,10)):\n",
        "    assert low_dim_embs.shape[0] >= len(labels), \"More labels than embeddings\"\n",
        "    plt.figure(figsize=figsize) # set size in inches\n",
        "    for i, label in enumerate(labels):\n",
        "        x, y = low_dim_embs[i,:]\n",
        "        plt.scatter(x, y)\n",
        "        prop = font_manager.FontProperties(fname=f'THSarabunNew.tff', size=20)\n",
        "        plt.annotate(label, xy=(x, y), xytext=(5, 2), textcoords='offset points',\n",
        "                     ha='right', va='bottom', fontsize=20, fontproperties=prop)\n",
        "    plt.savefig(filename)"
      ],
      "metadata": {
        "id": "jwhfPTQoq1Zd"
      },
      "execution_count": null,
      "outputs": []
    },
    {
      "cell_type": "code",
      "source": [
        "plot_with_labels(sample_plot, x, 'cute.png')"
      ],
      "metadata": {
        "id": "CTGCaqsErIRY"
      },
      "execution_count": null,
      "outputs": []
    },
    {
      "cell_type": "markdown",
      "source": [
        "แล้วถ้าข้าม Category ล่ะ?"
      ],
      "metadata": {
        "id": "QEW4lEBvrbHT"
      }
    },
    {
      "cell_type": "code",
      "source": [
        "w2v.wv.similarity('ฟุตบอล', 'แม้ว')"
      ],
      "metadata": {
        "id": "vkYbKYANrR1j"
      },
      "execution_count": null,
      "outputs": []
    },
    {
      "cell_type": "code",
      "source": [
        "w2v.wv.similarity('ฟุตบอล', 'โค้ช')"
      ],
      "metadata": {
        "id": "oOEJSPl5rfh0"
      },
      "execution_count": null,
      "outputs": []
    },
    {
      "cell_type": "markdown",
      "source": [
        "เราสามารถ ใส่เข้าไปใน ML model เพื่อจัดประเภทของข่าวก็จะสามารถช่วยได้ เพราะเรามี Relations ของ Word ในระดับนึง"
      ],
      "metadata": {
        "id": "-rVcVTqpriJE"
      }
    },
    {
      "cell_type": "code",
      "source": [
        "word = \"ลำไย\"\n",
        "he = w2v.wv.most_similar(word, topn= 10)\n",
        "he"
      ],
      "metadata": {
        "id": "-G5UzenprqMn"
      },
      "execution_count": null,
      "outputs": []
    },
    {
      "cell_type": "markdown",
      "source": [
        "สรุป : คำที่เราเอามา Datasets เป็น Domain ไหน ตัวตัดคำแบบไหนได้\n",
        "\n",
        "Parameters ต่างๆ เช่น ไซส์เวกเตอร์ ไซส์ชุดต่างๆ\n",
        "\n",
        "ประโยชน์ : หาคำที่เขียนในรูปแบบต่างๆได้\n",
        "\n",
        "เคยใช้ในการหา Polar Word เช่น เราสามารถหาคำว่า ดี ดีเยี่ยม สามารถหา Polar Word ใหม่ๆ ได้ในโลกโซเชียลปัจจุบัน"
      ],
      "metadata": {
        "id": "jXF5EcuSrvoh"
      }
    },
    {
      "cell_type": "markdown",
      "source": [
        "**เสริม**\n",
        "\n",
        "Word2Vec นอกจากจัดคำทั่วไป เราสามารถจัดพวก Domain รูปภาพ ถ้าเราใส่ Context เช่น การทำ ยา 2 Vec เพื่อ Represent ว่ายาอันไหนมี Domain หรือ Classification ที่ใกล้เคียงกันบ้าง เมื่อหา Relations เช่น ถ้าหา Models มันก็จะสามารถหาได้เลย\n"
      ],
      "metadata": {
        "id": "vlJN79Vir8xZ"
      }
    },
    {
      "cell_type": "markdown",
      "source": [
        "เช่น BERT มันจะนิยมหา Semantic การหาคำไทย มันต้องดูตัวตัดคำ เพราะ BERT จะตัดย่อย หรือว่าต้องทำ Tokenize ดีๆ\n",
        "\n",
        "ถ้าในไทย Transformers จะใช้ตัวตัดคำ ถ้ามีโอกาสอาจได้คุยต่อ\n",
        "\n",
        "NLP เบื้องต้น เพื่อทำ Word Representation"
      ],
      "metadata": {
        "id": "yrSjZGJNsMM0"
      }
    },
    {
      "cell_type": "code",
      "source": [],
      "metadata": {
        "id": "rwQsTkGOr8R0"
      },
      "execution_count": null,
      "outputs": []
    }
  ]
}